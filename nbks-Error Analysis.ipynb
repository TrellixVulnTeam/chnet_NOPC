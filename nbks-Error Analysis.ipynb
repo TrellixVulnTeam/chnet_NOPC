{
 "cells": [
  {
   "cell_type": "code",
   "execution_count": null,
   "metadata": {},
   "outputs": [],
   "source": [
    "import os\n",
    "import pandas as pd\n",
    "import seaborn as sns\n",
    "import matplotlib.pyplot as plt"
   ]
  },
  {
   "cell_type": "code",
   "execution_count": null,
   "metadata": {},
   "outputs": [],
   "source": [
    "df_mks = pd.read_csv(\"errs_allMksModels.csv\", index_col=0)\n",
    "df_cnn = pd.read_csv(\"errs_allStepModels.csv\", index_col=0)\n",
    "df_cnc = pd.read_csv(\"errs_bestModel_conc.csv\", index_col=0)"
   ]
  },
  {
   "cell_type": "code",
   "execution_count": null,
   "metadata": {},
   "outputs": [],
   "source": [
    "plt.rcParams.update({'font.size': 18})\n",
    "cnn_cols = [\"1-401\", \"401-801\", \"801-1201\", \"1201-1601\", \"1601-2001\"]\n",
    "mks_cols = [\"MKS \"+cl for cl in cnn_cols]\n",
    "\n",
    "df0 = df_mks[mks_cols]\n",
    "df1 = df_cnn[cnn_cols]\n",
    "df0.columns = df1.columns\n",
    "df = pd.concat([pd.melt(df0), pd.melt(df1)], axis=0)\n",
    "df[\"hue\"] = [\"mks\"]*len(pd.melt(df0)) + [\"cnn\"]*len(pd.melt(df1))\n",
    "\n",
    "plt.figure(figsize=(18,12))\n",
    "sns.boxplot(x=\"variable\", y=\"value\", data=df, hue=\"hue\", fliersize=0)\n",
    "plt.xticks(rotation = 90)\n",
    "plt.title(\"Comparision of MKS and CNN model performances at different stages of Microstructure Evolution\")\n",
    "plt.xlabel(\"Evolution Stage\")\n",
    "plt.ylabel(\"Mean Absolute Error\")\n",
    "plt.show()\n",
    "\n",
    "plt.figure(figsize=(18,12))\n",
    "sns.boxplot(data=df_cnn[cnn_cols+ [\"2001-2401\", \"2001-4001\", \"4001-6001\"]], fliersize=0)\n",
    "plt.xticks(rotation=90)\n",
    "plt.title(\"CNN model performance at different stages of Microstructure Evolution\")\n",
    "plt.xlabel(\"Evolution Stage\")\n",
    "plt.ylabel(\"Mean Absolute Error\")\n",
    "plt.show()\n",
    "\n",
    "cols = list(df_cnn.columns)[23:]\n",
    "hues = [\"cnn only\"] * 8 * 1024 + [\"mks-101\"] * 9 * 1024 + [\"mks-401\"] * 8 * 1024 + [\"mks-801\"] * 4 * 1024\n",
    "df_plot = pd.melt(df_cnn[cols])\n",
    "df_plot[\"hue\"] = hues\n",
    "\n",
    "plt.figure(figsize=(18,12))\n",
    "sns.boxplot(x=\"variable\", y=\"value\", data=df_plot, hue=\"hue\", fliersize=0)\n",
    "plt.xticks(rotation=90)\n",
    "plt.title(\"Comparision of different aproaches for prediction at 2000th timestep\")\n",
    "plt.xlabel(\"Model Type\")\n",
    "plt.ylabel(\"Mean Absolute Error\")\n",
    "plt.show()\n",
    "\n",
    "cols = list(df_cnn.columns)[23:-4]\n",
    "hues = [\"cnn only\"] * 8 * 1024 + [\"mks-101\"] * 9 * 1024 + [\"mks-401\"] * 8 * 1024\n",
    "df_plot = pd.melt(df_cnn[cols])\n",
    "df_plot[\"hue\"] = hues\n",
    "\n",
    "\n",
    "plt.figure(figsize=(18,12))\n",
    "sns.boxplot(x=\"variable\", y=\"value\", data=df_plot, hue=\"hue\", fliersize=0)\n",
    "plt.xticks(rotation=90)\n",
    "plt.title(\"Comparision of different aproaches for prediction at 2000th timestep\")\n",
    "plt.xlabel(\"Model Type\")\n",
    "plt.ylabel(\"Mean Absolute Error\")\n",
    "plt.show()"
   ]
  },
  {
   "cell_type": "code",
   "execution_count": null,
   "metadata": {},
   "outputs": [],
   "source": [
    "plt.figure(figsize=(18,12))\n",
    "sns.boxplot(data=df_cnc[df_cnc.columns[2:-2]])\n",
    "plt.xticks(rotation = 90)\n",
    "plt.show()"
   ]
  }
 ],
 "metadata": {
  "kernelspec": {
   "display_name": "Python 3",
   "language": "python",
   "name": "python3"
  },
  "language_info": {
   "codemirror_mode": {
    "name": "ipython",
    "version": 3
   },
   "file_extension": ".py",
   "mimetype": "text/x-python",
   "name": "python",
   "nbconvert_exporter": "python",
   "pygments_lexer": "ipython3",
   "version": "3.7.4"
  }
 },
 "nbformat": 4,
 "nbformat_minor": 2
}
