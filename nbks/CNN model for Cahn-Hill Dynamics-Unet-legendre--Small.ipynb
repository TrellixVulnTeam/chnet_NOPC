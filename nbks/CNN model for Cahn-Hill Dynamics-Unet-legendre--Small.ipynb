{
 "cells": [
  {
   "cell_type": "code",
   "execution_count": 2,
   "metadata": {},
   "outputs": [],
   "source": [
    "%load_ext autoreload\n",
    "%autoreload 2"
   ]
  },
  {
   "cell_type": "code",
   "execution_count": 3,
   "metadata": {},
   "outputs": [],
   "source": [
    "import os\n",
    "import time\n",
    "import tqdm\n",
    "import json\n",
    "import torch\n",
    "import warnings\n",
    "import numpy as np\n",
    "import torch.nn as nn\n",
    "from datetime import datetime\n",
    "import torch.nn.functional as F\n",
    "import matplotlib.pyplot as plt\n",
    "from chnet.torchsummary import summary\n",
    "from torchvision import transforms, utils\n",
    "from toolz.curried import pipe, curry, compose\n",
    "from torch.utils.data import Dataset, DataLoader"
   ]
  },
  {
   "cell_type": "code",
   "execution_count": 4,
   "metadata": {},
   "outputs": [],
   "source": [
    "import utilities as utils\n",
    "import chnet.cahn_hill as ch\n",
    "import chnet.ch_tools as tools"
   ]
  },
  {
   "cell_type": "code",
   "execution_count": 5,
   "metadata": {},
   "outputs": [],
   "source": [
    "from chnet.unet import UNet\n",
    "from chnet.ch_net import CHnet\n",
    "from chnet.ch_loader import CahnHillDataset"
   ]
  },
  {
   "cell_type": "code",
   "execution_count": 6,
   "metadata": {},
   "outputs": [],
   "source": [
    "warnings.filterwarnings('ignore')"
   ]
  },
  {
   "cell_type": "code",
   "execution_count": 7,
   "metadata": {},
   "outputs": [],
   "source": [
    "import matplotlib as mpl\n",
    "\n",
    "mpl.rcParams['figure.figsize'] = [8.0, 6.0]\n",
    "mpl.rcParams['figure.dpi'] = 80\n",
    "mpl.rcParams['savefig.dpi'] = 100\n",
    "\n",
    "mpl.rcParams['font.size'] = 12\n",
    "mpl.rcParams['legend.fontsize'] = 'large'\n",
    "mpl.rcParams['figure.titlesize'] = 'medium'\n",
    "\n",
    "def draw_im(im, title=None):\n",
    "    im = np.squeeze(im)\n",
    "    plt.imshow(im)\n",
    "    plt.colorbar()\n",
    "    if title is not None:\n",
    "        plt.title(title)\n",
    "    plt.show()\n",
    "    \n",
    "@curry\n",
    "def return_slice(x_data, cutoff):\n",
    "    if cutoff is not None:\n",
    "        return pipe(x_data,\n",
    "                    lambda x_data: np.asarray(x_data.shape).astype(int) // 2,\n",
    "                    lambda new_shape: [slice(new_shape[idim]-cutoff,\n",
    "                                             new_shape[idim]+cutoff+1)\n",
    "                                       for idim in range(x_data.ndim)],\n",
    "                    lambda slices: x_data[slices])\n",
    "    else:\n",
    "        return x_data\n",
    "    \n",
    "cropper = return_slice(cutoff=5)"
   ]
  },
  {
   "cell_type": "code",
   "execution_count": 8,
   "metadata": {},
   "outputs": [],
   "source": [
    "def init_unif(nsamples, dim_x, dim_y, seed=354875):\n",
    "    np.random.seed(seed)\n",
    "    means  = np.random.uniform(-0.2, 0.2, size=nsamples)\n",
    "    x_data = np.random.uniform(-0.98, 0.98, size=(nsamples, dim_x, dim_y)) - means[...,None,None]\n",
    "    np.clip(x_data, -0.95, 0.95, out=x_data)\n",
    "    return x_data\n",
    "\n",
    "\n",
    "def init_norm(nsamples, dim_x, dim_y, seed=354875):\n",
    "    np.random.seed(seed)\n",
    "    means  = np.random.uniform(-0.15, 0.15, size=nsamples)\n",
    "    np.random.seed(seed)\n",
    "    scales  = np.random.uniform(0.3, 0.6, size=nsamples)\n",
    "    \n",
    "    x_data = [np.random.normal(loc=m, scale=s, size = (1, dim_x, dim_y)) for m,s in zip(means, scales)]\n",
    "    x_data = np.concatenate(x_data, axis=0)\n",
    "    \n",
    "    np.clip(x_data, -0.95, 0.95, out=x_data)\n",
    "    \n",
    "    return x_data"
   ]
  },
  {
   "cell_type": "markdown",
   "metadata": {},
   "source": [
    "## Loss Functions"
   ]
  },
  {
   "cell_type": "code",
   "execution_count": 9,
   "metadata": {},
   "outputs": [],
   "source": [
    "@curry\n",
    "def mse_loss(y1, y2, scale=1.):\n",
    "    \"\"\"standard MSE definition\"\"\"\n",
    "    return (((y1 - y2)*scale) ** 2).sum() / y1.data.nelement() \n",
    "\n",
    "@curry\n",
    "def rmse_loss(y1, y2, scale=1.):\n",
    "    \"\"\"standard RMSE definition\"\"\"\n",
    "    return ((((y1 - y2) ** 2).sum() / y1.data.nelement()).sqrt()) * scale\n",
    "\n",
    "\n",
    "def mse_loss_npy(y1, y2):\n",
    "    \"\"\"standard MSE definition\"\"\"\n",
    "    return np.sum(((y1 - y2) ** 2)) / y1.size"
   ]
  },
  {
   "cell_type": "markdown",
   "metadata": {},
   "source": [
    "## Data Generators"
   ]
  },
  {
   "cell_type": "code",
   "execution_count": 10,
   "metadata": {},
   "outputs": [],
   "source": [
    "@curry\n",
    "def data_generator(nsamples=128, \n",
    "                   dim_x=64, \n",
    "                   init_steps=100, \n",
    "                   delta_sim_steps = 500,\n",
    "                   dx = 0.25, \n",
    "                   dt = 0.01,\n",
    "                   gamma=1.0, \n",
    "                   seed = None,\n",
    "                   device = torch.device(\"cuda:0\")):\n",
    "    \n",
    "    init_data1 = init_unif(nsamples//2, dim_x, dim_x, seed=seed)\n",
    "    init_data2 = init_norm(nsamples//2, dim_x, dim_x, seed=seed)\n",
    "    init_data = np.concatenate([init_data1, init_data2], axis=0)\n",
    "    \n",
    "    x_data = ch.ch_run_torch(init_data, dt=dt, gamma=gamma, \n",
    "                             dx=dx, sim_step=init_steps, device=device)\n",
    "    y_data = ch.ch_run_torch(x_data, dt=dt, gamma=gamma, \n",
    "                             dx=dx, sim_step=delta_sim_steps, device=device)\n",
    "    return x_data, y_data"
   ]
  },
  {
   "cell_type": "code",
   "execution_count": 41,
   "metadata": {},
   "outputs": [
    {
     "name": "stdout",
     "output_type": "stream",
     "text": [
      "CPU times: user 309 ms, sys: 4.68 ms, total: 313 ms\n",
      "Wall time: 318 ms\n"
     ]
    }
   ],
   "source": [
    "%%time\n",
    "x_data, y_data = data_generator(nsamples=16, \n",
    "                                dim_x=96, \n",
    "                                init_steps=1, \n",
    "                                delta_sim_steps = 2000,\n",
    "                                dx = 0.25, \n",
    "                                dt = 0.01,\n",
    "                                gamma=1.0, \n",
    "                                seed = None,\n",
    "                                device = torch.device(\"cuda:0\"))"
   ]
  },
  {
   "cell_type": "markdown",
   "metadata": {},
   "source": [
    "# Set Device"
   ]
  },
  {
   "cell_type": "code",
   "execution_count": 11,
   "metadata": {},
   "outputs": [],
   "source": [
    "device = torch.device('cuda' if torch.cuda.is_available() else 'cpu')"
   ]
  },
  {
   "cell_type": "markdown",
   "metadata": {},
   "source": [
    "# CNN Model"
   ]
  },
  {
   "cell_type": "code",
   "execution_count": 43,
   "metadata": {},
   "outputs": [
    {
     "name": "stdout",
     "output_type": "stream",
     "text": [
      "----------------------------------------------------------------\n",
      "        Layer (type)               Output Shape         Param #\n",
      "================================================================\n",
      "            Conv2d-1           [-1, 32, 96, 96]             288\n",
      "       BatchNorm2d-2           [-1, 32, 96, 96]              64\n",
      "              ReLU-3           [-1, 32, 96, 96]               0\n",
      "            Conv2d-4           [-1, 32, 96, 96]           9,216\n",
      "       BatchNorm2d-5           [-1, 32, 96, 96]              64\n",
      "              ReLU-6           [-1, 32, 96, 96]               0\n",
      "         MaxPool2d-7           [-1, 32, 48, 48]               0\n",
      "            Conv2d-8           [-1, 64, 48, 48]          18,432\n",
      "       BatchNorm2d-9           [-1, 64, 48, 48]             128\n",
      "             ReLU-10           [-1, 64, 48, 48]               0\n",
      "           Conv2d-11           [-1, 64, 48, 48]          36,864\n",
      "      BatchNorm2d-12           [-1, 64, 48, 48]             128\n",
      "             ReLU-13           [-1, 64, 48, 48]               0\n",
      "        MaxPool2d-14           [-1, 64, 24, 24]               0\n",
      "           Conv2d-15          [-1, 128, 24, 24]          73,728\n",
      "      BatchNorm2d-16          [-1, 128, 24, 24]             256\n",
      "             ReLU-17          [-1, 128, 24, 24]               0\n",
      "           Conv2d-18          [-1, 128, 24, 24]         147,456\n",
      "      BatchNorm2d-19          [-1, 128, 24, 24]             256\n",
      "             ReLU-20          [-1, 128, 24, 24]               0\n",
      "        MaxPool2d-21          [-1, 128, 12, 12]               0\n",
      "           Conv2d-22          [-1, 256, 12, 12]         294,912\n",
      "      BatchNorm2d-23          [-1, 256, 12, 12]             512\n",
      "             ReLU-24          [-1, 256, 12, 12]               0\n",
      "           Conv2d-25          [-1, 256, 12, 12]         589,824\n",
      "      BatchNorm2d-26          [-1, 256, 12, 12]             512\n",
      "             ReLU-27          [-1, 256, 12, 12]               0\n",
      "        MaxPool2d-28            [-1, 256, 6, 6]               0\n",
      "           Conv2d-29            [-1, 512, 6, 6]       1,179,648\n",
      "      BatchNorm2d-30            [-1, 512, 6, 6]           1,024\n",
      "             ReLU-31            [-1, 512, 6, 6]               0\n",
      "           Conv2d-32            [-1, 512, 6, 6]       2,359,296\n",
      "      BatchNorm2d-33            [-1, 512, 6, 6]           1,024\n",
      "             ReLU-34            [-1, 512, 6, 6]               0\n",
      "  ConvTranspose2d-35          [-1, 256, 12, 12]         524,544\n",
      "           Conv2d-36          [-1, 256, 12, 12]       1,179,648\n",
      "      BatchNorm2d-37          [-1, 256, 12, 12]             512\n",
      "             ReLU-38          [-1, 256, 12, 12]               0\n",
      "           Conv2d-39          [-1, 256, 12, 12]         589,824\n",
      "      BatchNorm2d-40          [-1, 256, 12, 12]             512\n",
      "             ReLU-41          [-1, 256, 12, 12]               0\n",
      "  ConvTranspose2d-42          [-1, 128, 24, 24]         131,200\n",
      "           Conv2d-43          [-1, 128, 24, 24]         294,912\n",
      "      BatchNorm2d-44          [-1, 128, 24, 24]             256\n",
      "             ReLU-45          [-1, 128, 24, 24]               0\n",
      "           Conv2d-46          [-1, 128, 24, 24]         147,456\n",
      "      BatchNorm2d-47          [-1, 128, 24, 24]             256\n",
      "             ReLU-48          [-1, 128, 24, 24]               0\n",
      "  ConvTranspose2d-49           [-1, 64, 48, 48]          32,832\n",
      "           Conv2d-50           [-1, 64, 48, 48]          73,728\n",
      "      BatchNorm2d-51           [-1, 64, 48, 48]             128\n",
      "             ReLU-52           [-1, 64, 48, 48]               0\n",
      "           Conv2d-53           [-1, 64, 48, 48]          36,864\n",
      "      BatchNorm2d-54           [-1, 64, 48, 48]             128\n",
      "             ReLU-55           [-1, 64, 48, 48]               0\n",
      "  ConvTranspose2d-56           [-1, 32, 96, 96]           8,224\n",
      "           Conv2d-57           [-1, 32, 96, 96]          18,432\n",
      "      BatchNorm2d-58           [-1, 32, 96, 96]              64\n",
      "             ReLU-59           [-1, 32, 96, 96]               0\n",
      "           Conv2d-60           [-1, 32, 96, 96]           9,216\n",
      "      BatchNorm2d-61           [-1, 32, 96, 96]              64\n",
      "             ReLU-62           [-1, 32, 96, 96]               0\n",
      "           Conv2d-63            [-1, 1, 96, 96]              33\n",
      "             UNet-64            [-1, 1, 96, 96]               0\n",
      "================================================================\n",
      "Total params: 7,762,465\n",
      "Trainable params: 7,762,465\n",
      "Non-trainable params: 0\n",
      "----------------------------------------------------------------\n",
      "Input size (MB): 0.04\n",
      "Forward/backward pass size (MB): 56.88\n",
      "Params size (MB): 29.00\n",
      "Estimated Total Size (MB): 85.00\n",
      "----------------------------------------------------------------\n",
      "\n"
     ]
    },
    {
     "data": {
      "text/plain": [
       "(tensor(7762465), tensor(7762465))"
      ]
     },
     "execution_count": 43,
     "metadata": {},
     "output_type": "execute_result"
    }
   ],
   "source": [
    "from chnet.unet import UNet\n",
    "model = UNet(in_channels=1, \n",
    "             out_channels=1, \n",
    "             init_features=32).to(device)\n",
    "summary(model, input_size=(1, 96, 96))\n",
    "\n",
    "# model = torch.hub.load('mateuszbuda/brain-segmentation-pytorch', 'unet', \n",
    "#                        in_channels=1, \n",
    "#                        out_channels=1, \n",
    "#                        init_features=32, \n",
    "#                        pretrained=False).double().to(device)"
   ]
  },
  {
   "cell_type": "code",
   "execution_count": 44,
   "metadata": {},
   "outputs": [
    {
     "name": "stdout",
     "output_type": "stream",
     "text": [
      "torch.Size([1, 3, 96, 96]) torch.Size([1, 1, 96, 96])\n"
     ]
    }
   ],
   "source": [
    "# transformer_x = lambda x: x[None]\n",
    "# transformer_y = lambda x: x[None]\n",
    "from pymks.bases import LegendreBasis\n",
    "\n",
    "n_states = 3\n",
    "domain = (-1.01, 1.01)\n",
    "basis = LegendreBasis(n_states, domain)\n",
    "transformer_x = lambda x: np.moveaxis(basis.discretize(x), 2, 0)\n",
    "transformer_y = lambda x: x[None]\n",
    "\n",
    "\n",
    "\n",
    "dataset = CahnHillDataset(x_data, y_data, transform_x=transformer_x, transform_y=transformer_y)\n",
    "\n",
    "item = dataset[0]\n",
    "x = item[\"x\"][None].to(device)\n",
    "y = item[\"y\"][None].to(device)\n",
    "\n",
    "print(x.shape, y.shape)"
   ]
  },
  {
   "cell_type": "code",
   "execution_count": 45,
   "metadata": {},
   "outputs": [
    {
     "name": "stdout",
     "output_type": "stream",
     "text": [
      "tensor(0.3139, device='cuda:0', dtype=torch.float64)\n"
     ]
    }
   ],
   "source": [
    "model = UNet(in_channels=n_states, \n",
    "             out_channels=1, \n",
    "             init_features=32).double().to(device)\n",
    "\n",
    "item = dataset[0]\n",
    "x = item[\"x\"][None].to(device)\n",
    "y = item[\"y\"][None].to(device)\n",
    "y_pred = model(x)\n",
    "\n",
    "assert y.shape == y_pred.shape\n",
    "print(mse_loss(y, y_pred).data)"
   ]
  },
  {
   "cell_type": "markdown",
   "metadata": {},
   "source": [
    "# Model Training"
   ]
  },
  {
   "cell_type": "markdown",
   "metadata": {},
   "source": [
    "### Training and Validation data generation"
   ]
  },
  {
   "cell_type": "code",
   "execution_count": 12,
   "metadata": {},
   "outputs": [],
   "source": [
    "## Process Parameters\n",
    "dim_x=64\n",
    "init_steps=1\n",
    "delta_sim_steps = 2000\n",
    "dx = 0.25 \n",
    "dt = 0.01\n",
    "gamma=1.0\n",
    "\n",
    "seed_trn = 110364\n",
    "seed_val = 986423\n",
    "seed_prd = 284296\n",
    "\n",
    "\n",
    "trn_size = 1\n",
    "n_samples_trn = 1024*trn_size\n",
    "n_samples_val = 256\n",
    "n_samples_prd = 256\n",
    "\n",
    "init_features=32\n",
    "\n",
    "args = {}\n",
    "args[\"dim_x\"] = dim_x\n",
    "args[\"init_steps\"] = init_steps\n",
    "args[\"delta_sim_steps\"] = delta_sim_steps\n",
    "args[\"dx\"] = dx\n",
    "args[\"dt\"] = dt\n",
    "args[\"gamma\"] = gamma\n",
    "args[\"seed_trn\"] = seed_trn\n",
    "args[\"seed_val\"] = seed_val\n",
    "args[\"seed_val\"] = seed_prd\n",
    "\n",
    "args[\"n_samples_trn\"] = n_samples_trn\n",
    "args[\"n_samples_val\"] = n_samples_val\n",
    "args[\"n_samples_prd\"] = n_samples_prd\n",
    "\n",
    "args[\"init_features\"] = init_features"
   ]
  },
  {
   "cell_type": "code",
   "execution_count": 13,
   "metadata": {},
   "outputs": [
    {
     "name": "stdout",
     "output_type": "stream",
     "text": [
      "CPU times: user 4.56 s, sys: 1.69 s, total: 6.25 s\n",
      "Wall time: 5.09 s\n"
     ]
    }
   ],
   "source": [
    "%%time\n",
    "# x_trn, y_trn = data_generator(nsamples=n_samples_trn, \n",
    "#                               dim_x=dim_x, \n",
    "#                                 init_steps=init_steps, \n",
    "#                                 delta_sim_steps = delta_sim_steps,\n",
    "#                                 dx = dx, \n",
    "#                                 dt = dt,\n",
    "#                                 gamma=gamma, \n",
    "#                                 seed =seed_trn,\n",
    "#                                 device = device)\n",
    "\n",
    "\n",
    "\n",
    "x_val, y_val = data_generator(nsamples=n_samples_val, \n",
    "                              dim_x=dim_x, \n",
    "                                init_steps=init_steps, \n",
    "                                delta_sim_steps = delta_sim_steps,\n",
    "                                dx = dx, \n",
    "                                dt = dt,\n",
    "                                gamma=gamma, \n",
    "                                seed =seed_val,\n",
    "                                device = device)\n",
    "\n",
    "x_prd, y_prd = data_generator(nsamples=n_samples_prd, \n",
    "                              dim_x=dim_x, \n",
    "                                init_steps=init_steps, \n",
    "                                delta_sim_steps = delta_sim_steps,\n",
    "                                dx = dx, \n",
    "                                dt = dt,\n",
    "                                gamma=gamma, \n",
    "                                seed =seed_prd,\n",
    "                                device = device)"
   ]
  },
  {
   "cell_type": "code",
   "execution_count": 14,
   "metadata": {},
   "outputs": [
    {
     "data": {
      "image/png": "[encoded data removed]",
      "text/plain": [
       "<Figure size 640x480 with 2 Axes>"
      ]
     },
     "metadata": {
      "needs_background": "light"
     },
     "output_type": "display_data"
    },
    {
     "data": {
      "image/png": "[encoded data removed]",
      "text/plain": [
       "<Figure size 640x480 with 2 Axes>"
      ]
     },
     "metadata": {
      "needs_background": "light"
     },
     "output_type": "display_data"
    }
   ],
   "source": [
    "draw_im(x_val[0], \"input\")\n",
    "draw_im(y_val[0], \"output\")"
   ]
  },
  {
   "cell_type": "code",
   "execution_count": 65,
   "metadata": {},
   "outputs": [],
   "source": [
    "%time\n",
    "# trn_seed = 9237919\n",
    "# # trn_seed = 1381693\n",
    "# # trn_seed = 38496502\n",
    "\n",
    "# x_trn, y_trn = data_generator(nsamples=n_samples_trn, \n",
    "#                               dim_x=dim_x, \n",
    "#                                 init_steps=init_steps, \n",
    "#                                 delta_sim_steps = delta_sim_steps,\n",
    "#                                 dx = dx, \n",
    "#                                 dt = dt,\n",
    "#                                 gamma=gamma, \n",
    "#                                 seed =seed_trn,\n",
    "#                                 device = device)"
   ]
  },
  {
   "cell_type": "code",
   "execution_count": 15,
   "metadata": {},
   "outputs": [
    {
     "name": "stdout",
     "output_type": "stream",
     "text": [
      "No. of validation steps: 32\n",
      "No. of prediction steps: 32\n"
     ]
    }
   ],
   "source": [
    "# from pymks.bases import LegendreBasis\n",
    "\n",
    "n_states = 1\n",
    "# domain = (-1.01, 1.01)\n",
    "# basis = LegendreBasis(n_states, domain)\n",
    "# transformer_x = lambda x: np.moveaxis(basis.discretize(x), 2, 0)\n",
    "transformer_x = lambda x: x[None]\n",
    "transformer_y = lambda x: x[None]\n",
    "\n",
    "# trn_dataset = CahnHillDataset(x_trn, y_trn, transform_x=transformer_x, transform_y=transformer_y)\n",
    "val_dataset = CahnHillDataset(x_val, y_val, transform_x=transformer_x, transform_y=transformer_y)\n",
    "prd_dataset = CahnHillDataset(x_prd, y_prd, transform_x=transformer_x, transform_y=transformer_y)\n",
    "\n",
    "batch_size = 8\n",
    "\n",
    "# trn_loader = DataLoader(trn_dataset, batch_size=batch_size, shuffle=True, num_workers=2)\n",
    "val_loader = DataLoader(val_dataset, batch_size=batch_size, shuffle=True, num_workers=1)\n",
    "prd_loader = DataLoader(prd_dataset, batch_size=8, shuffle=True, num_workers=1)\n",
    "\n",
    "\n",
    "# total_step = len(trn_loader)\n",
    "# print(\"No. of training steps: %d\" % total_step)\n",
    "total_val_step = len(val_loader)\n",
    "print(\"No. of validation steps: %d\" % total_val_step)\n",
    "total_val_step = len(prd_loader)\n",
    "print(\"No. of prediction steps: %d\" % total_val_step)"
   ]
  },
  {
   "cell_type": "code",
   "execution_count": 16,
   "metadata": {},
   "outputs": [],
   "source": [
    "dt_string = datetime.now().strftime(\"%d-%m-%Y-%H-%M\")"
   ]
  },
  {
   "cell_type": "code",
   "execution_count": 17,
   "metadata": {},
   "outputs": [
    {
     "name": "stdout",
     "output_type": "stream",
     "text": [
      "15-04-2020-02-27_run_leg_1_data_1_small\n",
      "out/unet/ch_unet_id_15-04-2020-02-27_run_leg_1_data_1_small/\n",
      "out/unet/ch_unet_id_15-04-2020-02-27_run_leg_1_data_1_small/unet_\n"
     ]
    }
   ],
   "source": [
    "run_id = dt_string + \"_run_leg_{}_data_{}_small\".format(n_states, trn_size)\n",
    "print(run_id)\n",
    "\n",
    "folder = \"out/unet/ch_unet_id_{}/\".format(run_id)\n",
    "print(folder)\n",
    "\n",
    "\n",
    "tag = folder+\"unet_\"\n",
    "print(tag)"
   ]
  },
  {
   "cell_type": "code",
   "execution_count": 18,
   "metadata": {},
   "outputs": [],
   "source": [
    "if not os.path.exists(folder):\n",
    "    os.makedirs(folder)\n",
    "    \n",
    "with open(folder+'params.json', 'w') as fp:\n",
    "    json.dump(args, fp)"
   ]
  },
  {
   "cell_type": "code",
   "execution_count": 19,
   "metadata": {},
   "outputs": [],
   "source": [
    "from chnet.unet import UNet\n",
    "model = UNet(in_channels=n_states, \n",
    "             out_channels=1, \n",
    "             init_features=init_features).double().to(device)"
   ]
  },
  {
   "cell_type": "code",
   "execution_count": 21,
   "metadata": {},
   "outputs": [],
   "source": [
    "def cyclical_lr(stepsize, min_lr=3e-4, max_lr=3e-3):\n",
    "\n",
    "    # Scaler: we can adapt this if we do not want the triangular CLR\n",
    "    scaler = lambda x: 1.\n",
    "\n",
    "    # Lambda function to calculate the LR\n",
    "    lr_lambda = lambda it: min_lr + (max_lr - min_lr) * relative(it, stepsize)\n",
    "\n",
    "    # Additional function to see where on the cycle we are\n",
    "    def relative(it, stepsize):\n",
    "        cycle = math.floor(1 + it / (2 * stepsize))\n",
    "        x = abs(it / stepsize - 2 * cycle + 1)\n",
    "        return max(0, (1 - x)) * scaler(cycle)\n",
    "\n",
    "    return lr_lambda"
   ]
  },
  {
   "cell_type": "code",
   "execution_count": 20,
   "metadata": {},
   "outputs": [],
   "source": [
    "num_epochs = 50\n",
    "criterion = mse_loss(scale=100)\n",
    "learning_rate = 1e-5\n",
    "optimizer = torch.optim.Adam(model.parameters(), lr=learning_rate, weight_decay=1e-5)\n",
    "step_size = 4*len(train_loader)\n",
    "clr = cyclical_lr(step_size, min_lr=end_lr/factor, max_lr=end_lr)\n",
    "scheduler = torch.optim.lr_scheduler.LambdaLR(optimizer, [clr])\n",
    "trn_losses = []\n",
    "val_losses = []\n",
    "seed_list = []"
   ]
  },
  {
   "cell_type": "code",
   "execution_count": 22,
   "metadata": {},
   "outputs": [],
   "source": [
    "num_epochs = 150\n",
    "learning_rate = 1e-5"
   ]
  },
  {
   "cell_type": "code",
   "execution_count": 25,
   "metadata": {},
   "outputs": [
    {
     "data": {
      "text/plain": [
       "(1024, 64, 64)"
      ]
     },
     "execution_count": 25,
     "metadata": {},
     "output_type": "execute_result"
    }
   ],
   "source": [
    "x_trn.shape"
   ]
  },
  {
   "cell_type": "code",
   "execution_count": 26,
   "metadata": {
    "scrolled": true
   },
   "outputs": [
    {
     "data": {
      "application/vnd.jupyter.widget-view+json": {
       "model_id": "11a327eeba1e40fa95f1ded45d06518a",
       "version_major": 2,
       "version_minor": 0
      },
      "text/plain": [
       "HBox(children=(FloatProgress(value=0.0, max=1280.0), HTML(value='')))"
      ]
     },
     "metadata": {},
     "output_type": "display_data"
    },
    {
     "name": "stdout",
     "output_type": "stream",
     "text": [
      "Epoch [1/150], Step [1/1280], Training Loss: 17.26919346823, Validation Loss: 20.39269032190\n",
      "Epoch [1/150], Step [513/1280], Training Loss: 18.27304083627, Validation Loss: 18.74395482265\n",
      "Epoch [1/150], Step [1025/1280], Training Loss: 15.55900127063, Validation Loss: 15.86903141295\n",
      "\n"
     ]
    },
    {
     "data": {
      "application/vnd.jupyter.widget-view+json": {
       "model_id": "d793d48e44644574bd8846b0e9e8f1b9",
       "version_major": 2,
       "version_minor": 0
      },
      "text/plain": [
       "HBox(children=(FloatProgress(value=0.0, max=1280.0), HTML(value='')))"
      ]
     },
     "metadata": {},
     "output_type": "display_data"
    },
    {
     "name": "stdout",
     "output_type": "stream",
     "text": [
      "Epoch [2/150], Step [1/1280], Training Loss: 15.40535893037, Validation Loss: 12.81470135579\n",
      "Epoch [2/150], Step [513/1280], Training Loss: 13.65699350475, Validation Loss: 13.04971340999\n",
      "Epoch [2/150], Step [1025/1280], Training Loss: 13.20577658687, Validation Loss: 12.02354041642\n",
      "\n"
     ]
    },
    {
     "data": {
      "application/vnd.jupyter.widget-view+json": {
       "model_id": "8641326c1b8a458ab84c417e13a056a8",
       "version_major": 2,
       "version_minor": 0
      },
      "text/plain": [
       "HBox(children=(FloatProgress(value=0.0, max=1280.0), HTML(value='')))"
      ]
     },
     "metadata": {},
     "output_type": "display_data"
    },
    {
     "name": "stdout",
     "output_type": "stream",
     "text": [
      "Epoch [3/150], Step [1/1280], Training Loss: 12.62102546300, Validation Loss: 11.01910272801\n",
      "Epoch [3/150], Step [513/1280], Training Loss: 12.34679926800, Validation Loss: 10.91728609365\n",
      "Epoch [3/150], Step [1025/1280], Training Loss: 11.92205305972, Validation Loss: 10.39941813174\n",
      "\n"
     ]
    },
    {
     "data": {
      "application/vnd.jupyter.widget-view+json": {
       "model_id": "ae1cd2cfeca8495aa5cd4073b74134d4",
       "version_major": 2,
       "version_minor": 0
      },
      "text/plain": [
       "HBox(children=(FloatProgress(value=0.0, max=1280.0), HTML(value='')))"
      ]
     },
     "metadata": {},
     "output_type": "display_data"
    },
    {
     "name": "stdout",
     "output_type": "stream",
     "text": [
      "Epoch [4/150], Step [1/1280], Training Loss: 11.10417988072, Validation Loss: 9.23457083245\n",
      "Epoch [4/150], Step [513/1280], Training Loss: 11.03637720393, Validation Loss: 10.06897718989\n",
      "Epoch [4/150], Step [1025/1280], Training Loss: 10.71785601455, Validation Loss: 9.79892079056\n",
      "\n"
     ]
    },
    {
     "data": {
      "application/vnd.jupyter.widget-view+json": {
       "model_id": "c089cbfaced543e2b01cbf6c8ee2559f",
       "version_major": 2,
       "version_minor": 0
      },
      "text/plain": [
       "HBox(children=(FloatProgress(value=0.0, max=1280.0), HTML(value='')))"
      ]
     },
     "metadata": {},
     "output_type": "display_data"
    },
    {
     "name": "stdout",
     "output_type": "stream",
     "text": [
      "Epoch [5/150], Step [1/1280], Training Loss: 10.68518318545, Validation Loss: 7.87476675817\n",
      "Epoch [5/150], Step [513/1280], Training Loss: 10.25330781834, Validation Loss: 8.56228887262\n",
      "Epoch [5/150], Step [1025/1280], Training Loss: 10.28551445800, Validation Loss: 7.97832790465\n",
      "\n"
     ]
    },
    {
     "data": {
      "application/vnd.jupyter.widget-view+json": {
       "model_id": "08dcc6e9ff0d469ea8165e73e0c6856a",
       "version_major": 2,
       "version_minor": 0
      },
      "text/plain": [
       "HBox(children=(FloatProgress(value=0.0, max=1280.0), HTML(value='')))"
      ]
     },
     "metadata": {},
     "output_type": "display_data"
    },
    {
     "name": "stdout",
     "output_type": "stream",
     "text": [
      "Epoch [6/150], Step [1/1280], Training Loss: 10.08739395863, Validation Loss: 8.33257917083\n",
      "Epoch [6/150], Step [513/1280], Training Loss: 10.45138308542, Validation Loss: 9.57506945546\n",
      "Epoch [6/150], Step [1025/1280], Training Loss: 9.74300089359, Validation Loss: 8.89228212557\n",
      "\n"
     ]
    },
    {
     "data": {
      "application/vnd.jupyter.widget-view+json": {
       "model_id": "cf3af141116c4d9ca1ba67e90c963d92",
       "version_major": 2,
       "version_minor": 0
      },
      "text/plain": [
       "HBox(children=(FloatProgress(value=0.0, max=1280.0), HTML(value='')))"
      ]
     },
     "metadata": {},
     "output_type": "display_data"
    },
    {
     "name": "stdout",
     "output_type": "stream",
     "text": [
      "Epoch [7/150], Step [1/1280], Training Loss: 10.28528288270, Validation Loss: 8.18007900013\n",
      "Epoch [7/150], Step [513/1280], Training Loss: 9.51601658448, Validation Loss: 8.15509416217\n",
      "Epoch [7/150], Step [1025/1280], Training Loss: 9.41572393522, Validation Loss: 7.77686677896\n",
      "\n"
     ]
    },
    {
     "data": {
      "application/vnd.jupyter.widget-view+json": {
       "model_id": "962b3a65ecb04a2ebbb1189f1137aaae",
       "version_major": 2,
       "version_minor": 0
      },
      "text/plain": [
       "HBox(children=(FloatProgress(value=0.0, max=1280.0), HTML(value='')))"
      ]
     },
     "metadata": {},
     "output_type": "display_data"
    },
    {
     "name": "stdout",
     "output_type": "stream",
     "text": [
      "Epoch [8/150], Step [1/1280], Training Loss: 9.35929523381, Validation Loss: 7.18695659514\n",
      "Epoch [8/150], Step [513/1280], Training Loss: 8.52068583498, Validation Loss: 7.98282889757\n",
      "Epoch [8/150], Step [1025/1280], Training Loss: 9.92462403857, Validation Loss: 8.16420512557\n",
      "\n"
     ]
    },
    {
     "data": {
      "application/vnd.jupyter.widget-view+json": {
       "model_id": "5160dd583b7642849929c487e1275b29",
       "version_major": 2,
       "version_minor": 0
      },
      "text/plain": [
       "HBox(children=(FloatProgress(value=0.0, max=1280.0), HTML(value='')))"
      ]
     },
     "metadata": {},
     "output_type": "display_data"
    },
    {
     "name": "stdout",
     "output_type": "stream",
     "text": [
      "Epoch [9/150], Step [1/1280], Training Loss: 8.47976631443, Validation Loss: 6.87792919316\n",
      "Epoch [9/150], Step [513/1280], Training Loss: 8.13840583147, Validation Loss: 6.75556093444\n",
      "Epoch [9/150], Step [1025/1280], Training Loss: 9.09622661426, Validation Loss: 7.48452122465\n",
      "\n"
     ]
    },
    {
     "data": {
      "application/vnd.jupyter.widget-view+json": {
       "model_id": "57ff250e36914aa99832b09b0e01f900",
       "version_major": 2,
       "version_minor": 0
      },
      "text/plain": [
       "HBox(children=(FloatProgress(value=0.0, max=1280.0), HTML(value='')))"
      ]
     },
     "metadata": {},
     "output_type": "display_data"
    },
    {
     "name": "stdout",
     "output_type": "stream",
     "text": [
      "Epoch [10/150], Step [1/1280], Training Loss: 7.99971115626, Validation Loss: 6.89123171452\n",
      "Epoch [10/150], Step [513/1280], Training Loss: 8.25420126356, Validation Loss: 6.17073683185\n",
      "Epoch [10/150], Step [1025/1280], Training Loss: 8.05435057562, Validation Loss: 7.32103058913\n",
      "\n"
     ]
    },
    {
     "data": {
      "application/vnd.jupyter.widget-view+json": {
       "model_id": "0e006a0a642044faa606b53e6b28a3f4",
       "version_major": 2,
       "version_minor": 0
      },
      "text/plain": [
       "HBox(children=(FloatProgress(value=0.0, max=1280.0), HTML(value='')))"
      ]
     },
     "metadata": {},
     "output_type": "display_data"
    },
    {
     "name": "stdout",
     "output_type": "stream",
     "text": [
      "Epoch [11/150], Step [1/1280], Training Loss: 7.73989108880, Validation Loss: 6.35442736213\n",
      "Epoch [11/150], Step [513/1280], Training Loss: 8.64348424421, Validation Loss: 7.64799249911\n",
      "Epoch [11/150], Step [1025/1280], Training Loss: 8.15858529225, Validation Loss: 6.55576459298\n",
      "\n"
     ]
    },
    {
     "data": {
      "application/vnd.jupyter.widget-view+json": {
       "model_id": "36f81faa24664ad9a03a42897858e681",
       "version_major": 2,
       "version_minor": 0
      },
      "text/plain": [
       "HBox(children=(FloatProgress(value=0.0, max=1280.0), HTML(value='')))"
      ]
     },
     "metadata": {},
     "output_type": "display_data"
    },
    {
     "name": "stdout",
     "output_type": "stream",
     "text": [
      "Epoch [12/150], Step [1/1280], Training Loss: 8.71588556880, Validation Loss: 7.67037844082\n",
      "Epoch [12/150], Step [513/1280], Training Loss: 8.45625946119, Validation Loss: 6.72494443438\n",
      "Epoch [12/150], Step [1025/1280], Training Loss: 7.72609366161, Validation Loss: 6.23067424872\n",
      "\n"
     ]
    },
    {
     "data": {
      "application/vnd.jupyter.widget-view+json": {
       "model_id": "79c1a5c61ac24e899cb868c67dc03af4",
       "version_major": 2,
       "version_minor": 0
      },
      "text/plain": [
       "HBox(children=(FloatProgress(value=0.0, max=1280.0), HTML(value='')))"
      ]
     },
     "metadata": {},
     "output_type": "display_data"
    },
    {
     "name": "stdout",
     "output_type": "stream",
     "text": [
      "Epoch [13/150], Step [1/1280], Training Loss: 7.40661749991, Validation Loss: 6.23684077473\n",
      "Epoch [13/150], Step [513/1280], Training Loss: 7.72010595610, Validation Loss: 6.08279659357\n",
      "Epoch [13/150], Step [1025/1280], Training Loss: 8.71412043321, Validation Loss: 6.65777556986\n",
      "\n"
     ]
    },
    {
     "data": {
      "application/vnd.jupyter.widget-view+json": {
       "model_id": "939f6ee1bb164fddb90dfc3f9ead08bc",
       "version_major": 2,
       "version_minor": 0
      },
      "text/plain": [
       "HBox(children=(FloatProgress(value=0.0, max=1280.0), HTML(value='')))"
      ]
     },
     "metadata": {},
     "output_type": "display_data"
    },
    {
     "name": "stdout",
     "output_type": "stream",
     "text": [
      "Epoch [14/150], Step [1/1280], Training Loss: 8.08477811077, Validation Loss: 6.47901995444\n",
      "Epoch [14/150], Step [513/1280], Training Loss: 7.74563593357, Validation Loss: 5.84149901895\n",
      "Epoch [14/150], Step [1025/1280], Training Loss: 6.99488895120, Validation Loss: 5.72564985006\n",
      "\n"
     ]
    },
    {
     "data": {
      "application/vnd.jupyter.widget-view+json": {
       "model_id": "628e4eac7f214def8e10bdb960ad4461",
       "version_major": 2,
       "version_minor": 0
      },
      "text/plain": [
       "HBox(children=(FloatProgress(value=0.0, max=1280.0), HTML(value='')))"
      ]
     },
     "metadata": {},
     "output_type": "display_data"
    },
    {
     "name": "stdout",
     "output_type": "stream",
     "text": [
      "Epoch [15/150], Step [1/1280], Training Loss: 7.76006439608, Validation Loss: 5.23038123141\n",
      "Epoch [15/150], Step [513/1280], Training Loss: 7.58156709291, Validation Loss: 5.64449038981\n",
      "Epoch [15/150], Step [1025/1280], Training Loss: 7.09836773412, Validation Loss: 5.46826063611\n",
      "\n"
     ]
    },
    {
     "data": {
      "application/vnd.jupyter.widget-view+json": {
       "model_id": "cf83e43e69e8483388ff189b6eb1b9b2",
       "version_major": 2,
       "version_minor": 0
      },
      "text/plain": [
       "HBox(children=(FloatProgress(value=0.0, max=1280.0), HTML(value='')))"
      ]
     },
     "metadata": {},
     "output_type": "display_data"
    },
    {
     "name": "stdout",
     "output_type": "stream",
     "text": [
      "Epoch [16/150], Step [1/1280], Training Loss: 7.57327733105, Validation Loss: 6.18577554373\n",
      "Epoch [16/150], Step [513/1280], Training Loss: 7.24038074249, Validation Loss: 5.65277016863\n",
      "Epoch [16/150], Step [1025/1280], Training Loss: 8.76640191381, Validation Loss: 6.55608963725\n",
      "\n"
     ]
    },
    {
     "data": {
      "application/vnd.jupyter.widget-view+json": {
       "model_id": "694ac04568214399aa49165c5f0b8efb",
       "version_major": 2,
       "version_minor": 0
      },
      "text/plain": [
       "HBox(children=(FloatProgress(value=0.0, max=1280.0), HTML(value='')))"
      ]
     },
     "metadata": {},
     "output_type": "display_data"
    },
    {
     "name": "stdout",
     "output_type": "stream",
     "text": [
      "Epoch [17/150], Step [1/1280], Training Loss: 7.96550109741, Validation Loss: 6.11338383927\n",
      "Epoch [17/150], Step [513/1280], Training Loss: 7.65864345062, Validation Loss: 5.15751081294\n",
      "Epoch [17/150], Step [1025/1280], Training Loss: 7.42588440130, Validation Loss: 5.57784687311\n",
      "\n"
     ]
    },
    {
     "data": {
      "application/vnd.jupyter.widget-view+json": {
       "model_id": "f70c34307d2f4cb4b298a292209edca4",
       "version_major": 2,
       "version_minor": 0
      },
      "text/plain": [
       "HBox(children=(FloatProgress(value=0.0, max=1280.0), HTML(value='')))"
      ]
     },
     "metadata": {},
     "output_type": "display_data"
    },
    {
     "name": "stdout",
     "output_type": "stream",
     "text": [
      "Epoch [18/150], Step [1/1280], Training Loss: 7.20625839996, Validation Loss: 5.97002152883\n",
      "Epoch [18/150], Step [513/1280], Training Loss: 7.01851400604, Validation Loss: 5.68372323772\n",
      "Epoch [18/150], Step [1025/1280], Training Loss: 7.37389769484, Validation Loss: 5.46856984566\n",
      "\n"
     ]
    },
    {
     "data": {
      "application/vnd.jupyter.widget-view+json": {
       "model_id": "ff60b9cfaded4f118481efa1e857b2c7",
       "version_major": 2,
       "version_minor": 0
      },
      "text/plain": [
       "HBox(children=(FloatProgress(value=0.0, max=1280.0), HTML(value='')))"
      ]
     },
     "metadata": {},
     "output_type": "display_data"
    },
    {
     "name": "stdout",
     "output_type": "stream",
     "text": [
      "Epoch [19/150], Step [1/1280], Training Loss: 6.97217965102, Validation Loss: 5.35131734334\n",
      "Epoch [19/150], Step [513/1280], Training Loss: 6.68743735023, Validation Loss: 5.21790396214\n",
      "Epoch [19/150], Step [1025/1280], Training Loss: 6.85833696886, Validation Loss: 5.30292790028\n",
      "\n"
     ]
    },
    {
     "data": {
      "application/vnd.jupyter.widget-view+json": {
       "model_id": "1d82ef1a319748d7a6473c5cd2032fb1",
       "version_major": 2,
       "version_minor": 0
      },
      "text/plain": [
       "HBox(children=(FloatProgress(value=0.0, max=1280.0), HTML(value='')))"
      ]
     },
     "metadata": {},
     "output_type": "display_data"
    },
    {
     "name": "stdout",
     "output_type": "stream",
     "text": [
      "Epoch [20/150], Step [1/1280], Training Loss: 6.56000879643, Validation Loss: 5.49854048671\n",
      "Epoch [20/150], Step [513/1280], Training Loss: 6.63648371160, Validation Loss: 5.75870550648\n",
      "Epoch [20/150], Step [1025/1280], Training Loss: 7.09195942130, Validation Loss: 5.91340886257\n",
      "\n"
     ]
    },
    {
     "data": {
      "application/vnd.jupyter.widget-view+json": {
       "model_id": "347c4b9c1d554af5808e52484f1f6adc",
       "version_major": 2,
       "version_minor": 0
      },
      "text/plain": [
       "HBox(children=(FloatProgress(value=0.0, max=1280.0), HTML(value='')))"
      ]
     },
     "metadata": {},
     "output_type": "display_data"
    },
    {
     "name": "stdout",
     "output_type": "stream",
     "text": [
      "Epoch [21/150], Step [1/1280], Training Loss: 6.38178666228, Validation Loss: 6.61892313039\n",
      "Epoch [21/150], Step [513/1280], Training Loss: 8.06682797407, Validation Loss: 6.14584506606\n",
      "Epoch [21/150], Step [1025/1280], Training Loss: 7.27482258403, Validation Loss: 6.28781848317\n",
      "\n"
     ]
    },
    {
     "data": {
      "application/vnd.jupyter.widget-view+json": {
       "model_id": "541ac1cf6ecb4c5da2a647937f335a7a",
       "version_major": 2,
       "version_minor": 0
      },
      "text/plain": [
       "HBox(children=(FloatProgress(value=0.0, max=1280.0), HTML(value='')))"
      ]
     },
     "metadata": {},
     "output_type": "display_data"
    },
    {
     "name": "stdout",
     "output_type": "stream",
     "text": [
      "Epoch [22/150], Step [1/1280], Training Loss: 7.37456662342, Validation Loss: 5.22034264087\n",
      "Epoch [22/150], Step [513/1280], Training Loss: 7.60509685097, Validation Loss: 5.31669791828\n",
      "Epoch [22/150], Step [1025/1280], Training Loss: 7.51723362789, Validation Loss: 5.47416681582\n",
      "\n"
     ]
    },
    {
     "data": {
      "application/vnd.jupyter.widget-view+json": {
       "model_id": "60cce0e62fe94c2fa70e75e9316e619e",
       "version_major": 2,
       "version_minor": 0
      },
      "text/plain": [
       "HBox(children=(FloatProgress(value=0.0, max=1280.0), HTML(value='')))"
      ]
     },
     "metadata": {},
     "output_type": "display_data"
    },
    {
     "name": "stdout",
     "output_type": "stream",
     "text": [
      "Epoch [23/150], Step [1/1280], Training Loss: 6.71923439381, Validation Loss: 5.23953357224\n",
      "Epoch [23/150], Step [513/1280], Training Loss: 6.79134222572, Validation Loss: 5.64352299831\n",
      "Epoch [23/150], Step [1025/1280], Training Loss: 7.43118693881, Validation Loss: 5.80279782837\n",
      "\n"
     ]
    },
    {
     "data": {
      "application/vnd.jupyter.widget-view+json": {
       "model_id": "9f1c0f0d48f14d49ac4a9d3337db3482",
       "version_major": 2,
       "version_minor": 0
      },
      "text/plain": [
       "HBox(children=(FloatProgress(value=0.0, max=1280.0), HTML(value='')))"
      ]
     },
     "metadata": {},
     "output_type": "display_data"
    },
    {
     "name": "stdout",
     "output_type": "stream",
     "text": [
      "Epoch [24/150], Step [1/1280], Training Loss: 6.59601859877, Validation Loss: 4.57891813554\n",
      "Epoch [24/150], Step [513/1280], Training Loss: 6.49438719015, Validation Loss: 4.97058498839\n",
      "Epoch [24/150], Step [1025/1280], Training Loss: 6.74382744232, Validation Loss: 4.68412926673\n",
      "\n"
     ]
    },
    {
     "data": {
      "application/vnd.jupyter.widget-view+json": {
       "model_id": "47a6974679964e1e822bc7134b371dd0",
       "version_major": 2,
       "version_minor": 0
      },
      "text/plain": [
       "HBox(children=(FloatProgress(value=0.0, max=1280.0), HTML(value='')))"
      ]
     },
     "metadata": {},
     "output_type": "display_data"
    },
    {
     "name": "stdout",
     "output_type": "stream",
     "text": [
      "Epoch [25/150], Step [1/1280], Training Loss: 6.46127033564, Validation Loss: 5.01567917949\n",
      "Epoch [25/150], Step [513/1280], Training Loss: 5.65826545055, Validation Loss: 4.65376256104\n",
      "Epoch [25/150], Step [1025/1280], Training Loss: 6.31003739171, Validation Loss: 5.20267861972\n",
      "\n"
     ]
    },
    {
     "data": {
      "application/vnd.jupyter.widget-view+json": {
       "model_id": "487bbd3a652a45d7a53fc55af842591f",
       "version_major": 2,
       "version_minor": 0
      },
      "text/plain": [
       "HBox(children=(FloatProgress(value=0.0, max=1280.0), HTML(value='')))"
      ]
     },
     "metadata": {},
     "output_type": "display_data"
    },
    {
     "name": "stdout",
     "output_type": "stream",
     "text": [
      "Epoch [26/150], Step [1/1280], Training Loss: 6.91034651979, Validation Loss: 5.71227670679\n",
      "Epoch [26/150], Step [513/1280], Training Loss: 7.74592888500, Validation Loss: 6.36073368411\n",
      "Epoch [26/150], Step [1025/1280], Training Loss: 7.63304534510, Validation Loss: 5.46562241823\n",
      "\n"
     ]
    },
    {
     "data": {
      "application/vnd.jupyter.widget-view+json": {
       "model_id": "7e2feab808b5402d88f43be7fdfe75bd",
       "version_major": 2,
       "version_minor": 0
      },
      "text/plain": [
       "HBox(children=(FloatProgress(value=0.0, max=1280.0), HTML(value='')))"
      ]
     },
     "metadata": {},
     "output_type": "display_data"
    },
    {
     "name": "stdout",
     "output_type": "stream",
     "text": [
      "Epoch [27/150], Step [1/1280], Training Loss: 7.57541601033, Validation Loss: 5.87525937214\n",
      "Epoch [27/150], Step [513/1280], Training Loss: 7.52504634880, Validation Loss: 5.69186124605\n",
      "Epoch [27/150], Step [1025/1280], Training Loss: 7.60397876154, Validation Loss: 4.63819211300\n",
      "\n"
     ]
    },
    {
     "data": {
      "application/vnd.jupyter.widget-view+json": {
       "model_id": "61d80233b4b240a7bcab44d06cdc2e75",
       "version_major": 2,
       "version_minor": 0
      },
      "text/plain": [
       "HBox(children=(FloatProgress(value=0.0, max=1280.0), HTML(value='')))"
      ]
     },
     "metadata": {},
     "output_type": "display_data"
    },
    {
     "name": "stdout",
     "output_type": "stream",
     "text": [
      "Epoch [28/150], Step [1/1280], Training Loss: 6.94159721839, Validation Loss: 6.57249024592\n",
      "Epoch [28/150], Step [513/1280], Training Loss: 6.40413903757, Validation Loss: 4.90711314159\n",
      "Epoch [28/150], Step [1025/1280], Training Loss: 6.21974965626, Validation Loss: 4.87110510900\n",
      "\n"
     ]
    },
    {
     "data": {
      "application/vnd.jupyter.widget-view+json": {
       "model_id": "745948099af644b7a0db1548190f33ec",
       "version_major": 2,
       "version_minor": 0
      },
      "text/plain": [
       "HBox(children=(FloatProgress(value=0.0, max=1280.0), HTML(value='')))"
      ]
     },
     "metadata": {},
     "output_type": "display_data"
    },
    {
     "name": "stdout",
     "output_type": "stream",
     "text": [
      "Epoch [29/150], Step [1/1280], Training Loss: 7.07336106199, Validation Loss: 4.53776290360\n",
      "Epoch [29/150], Step [513/1280], Training Loss: 6.47664606458, Validation Loss: 4.79488644078\n",
      "Epoch [29/150], Step [1025/1280], Training Loss: 6.92744420932, Validation Loss: 5.43238959497\n",
      "\n"
     ]
    },
    {
     "data": {
      "application/vnd.jupyter.widget-view+json": {
       "model_id": "b09c96b5b5364d2a8a96921c1feec97d",
       "version_major": 2,
       "version_minor": 0
      },
      "text/plain": [
       "HBox(children=(FloatProgress(value=0.0, max=1280.0), HTML(value='')))"
      ]
     },
     "metadata": {},
     "output_type": "display_data"
    },
    {
     "name": "stdout",
     "output_type": "stream",
     "text": [
      "Epoch [30/150], Step [1/1280], Training Loss: 5.85775579210, Validation Loss: 4.02622410929\n",
      "Epoch [30/150], Step [513/1280], Training Loss: 6.55761146774, Validation Loss: 4.61587086727\n",
      "Epoch [30/150], Step [1025/1280], Training Loss: 6.29335464122, Validation Loss: 4.44973583287\n",
      "\n"
     ]
    },
    {
     "data": {
      "application/vnd.jupyter.widget-view+json": {
       "model_id": "e98c8f26a4ef44aeb08968cb104082df",
       "version_major": 2,
       "version_minor": 0
      },
      "text/plain": [
       "HBox(children=(FloatProgress(value=0.0, max=1280.0), HTML(value='')))"
      ]
     },
     "metadata": {},
     "output_type": "display_data"
    },
    {
     "name": "stdout",
     "output_type": "stream",
     "text": [
      "Epoch [31/150], Step [1/1280], Training Loss: 5.69843915584, Validation Loss: 4.63736033455\n",
      "Epoch [31/150], Step [513/1280], Training Loss: 6.68170204595, Validation Loss: 4.72856030298\n",
      "Epoch [31/150], Step [1025/1280], Training Loss: 6.69726451404, Validation Loss: 4.65983877106\n",
      "\n"
     ]
    },
    {
     "data": {
      "application/vnd.jupyter.widget-view+json": {
       "model_id": "ebf22c7e8c2043139e847cf60e0b993d",
       "version_major": 2,
       "version_minor": 0
      },
      "text/plain": [
       "HBox(children=(FloatProgress(value=0.0, max=1280.0), HTML(value='')))"
      ]
     },
     "metadata": {},
     "output_type": "display_data"
    },
    {
     "name": "stdout",
     "output_type": "stream",
     "text": [
      "Epoch [32/150], Step [1/1280], Training Loss: 6.01779539748, Validation Loss: 4.75761525956\n",
      "Epoch [32/150], Step [513/1280], Training Loss: 5.76304257565, Validation Loss: 4.62209062204\n",
      "Epoch [32/150], Step [1025/1280], Training Loss: 5.71789121964, Validation Loss: 4.69443392213\n",
      "\n"
     ]
    },
    {
     "data": {
      "application/vnd.jupyter.widget-view+json": {
       "model_id": "8dea94ea07ec423a9107673047816959",
       "version_major": 2,
       "version_minor": 0
      },
      "text/plain": [
       "HBox(children=(FloatProgress(value=0.0, max=1280.0), HTML(value='')))"
      ]
     },
     "metadata": {},
     "output_type": "display_data"
    },
    {
     "name": "stdout",
     "output_type": "stream",
     "text": [
      "Epoch [33/150], Step [1/1280], Training Loss: 6.75139839319, Validation Loss: 5.34562390047\n",
      "Epoch [33/150], Step [513/1280], Training Loss: 6.99529515371, Validation Loss: 4.57694804765\n",
      "Epoch [33/150], Step [1025/1280], Training Loss: 5.90946048590, Validation Loss: 4.70321334040\n",
      "\n"
     ]
    },
    {
     "data": {
      "application/vnd.jupyter.widget-view+json": {
       "model_id": "498dee4dd59945e8a6bab2a14912abd8",
       "version_major": 2,
       "version_minor": 0
      },
      "text/plain": [
       "HBox(children=(FloatProgress(value=0.0, max=1280.0), HTML(value='')))"
      ]
     },
     "metadata": {},
     "output_type": "display_data"
    },
    {
     "name": "stdout",
     "output_type": "stream",
     "text": [
      "Epoch [34/150], Step [1/1280], Training Loss: 5.88589796004, Validation Loss: 3.93245642080\n",
      "Epoch [34/150], Step [513/1280], Training Loss: 7.48542082588, Validation Loss: 4.96195484451\n",
      "Epoch [34/150], Step [1025/1280], Training Loss: 6.07850024456, Validation Loss: 4.53204528909\n",
      "\n"
     ]
    },
    {
     "data": {
      "application/vnd.jupyter.widget-view+json": {
       "model_id": "ae29d8104bba49aaa31a711602b446fd",
       "version_major": 2,
       "version_minor": 0
      },
      "text/plain": [
       "HBox(children=(FloatProgress(value=0.0, max=1280.0), HTML(value='')))"
      ]
     },
     "metadata": {},
     "output_type": "display_data"
    },
    {
     "name": "stdout",
     "output_type": "stream",
     "text": [
      "Epoch [35/150], Step [1/1280], Training Loss: 6.00872896096, Validation Loss: 4.99992473671\n",
      "Epoch [35/150], Step [513/1280], Training Loss: 5.69399357860, Validation Loss: 4.33265548869\n",
      "Epoch [35/150], Step [1025/1280], Training Loss: 5.40210395688, Validation Loss: 4.36214700125\n",
      "\n"
     ]
    },
    {
     "data": {
      "application/vnd.jupyter.widget-view+json": {
       "model_id": "404100d00ed14f9eb0fc1fbaf05ebced",
       "version_major": 2,
       "version_minor": 0
      },
      "text/plain": [
       "HBox(children=(FloatProgress(value=0.0, max=1280.0), HTML(value='')))"
      ]
     },
     "metadata": {},
     "output_type": "display_data"
    },
    {
     "name": "stdout",
     "output_type": "stream",
     "text": [
      "Epoch [36/150], Step [1/1280], Training Loss: 5.73706852758, Validation Loss: 4.42971386692\n",
      "Epoch [36/150], Step [513/1280], Training Loss: 6.30341283451, Validation Loss: 5.09083278720\n",
      "Epoch [36/150], Step [1025/1280], Training Loss: 6.23676558832, Validation Loss: 5.71583598212\n",
      "\n"
     ]
    },
    {
     "data": {
      "application/vnd.jupyter.widget-view+json": {
       "model_id": "011b34b7e9c54941983917a4ea7e940d",
       "version_major": 2,
       "version_minor": 0
      },
      "text/plain": [
       "HBox(children=(FloatProgress(value=0.0, max=1280.0), HTML(value='')))"
      ]
     },
     "metadata": {},
     "output_type": "display_data"
    },
    {
     "name": "stdout",
     "output_type": "stream",
     "text": [
      "Epoch [37/150], Step [1/1280], Training Loss: 6.63641960166, Validation Loss: 4.85278636408\n",
      "Epoch [37/150], Step [513/1280], Training Loss: 5.70538110718, Validation Loss: 4.63619598548\n",
      "Epoch [37/150], Step [1025/1280], Training Loss: 5.48234285688, Validation Loss: 4.50783764920\n",
      "\n"
     ]
    },
    {
     "data": {
      "application/vnd.jupyter.widget-view+json": {
       "model_id": "4b94a6c323454601950eeb587eb3f04b",
       "version_major": 2,
       "version_minor": 0
      },
      "text/plain": [
       "HBox(children=(FloatProgress(value=0.0, max=1280.0), HTML(value='')))"
      ]
     },
     "metadata": {},
     "output_type": "display_data"
    },
    {
     "name": "stdout",
     "output_type": "stream",
     "text": [
      "Epoch [38/150], Step [1/1280], Training Loss: 5.56774584608, Validation Loss: 4.76223691390\n",
      "Epoch [38/150], Step [513/1280], Training Loss: 5.43149960411, Validation Loss: 3.98522956743\n",
      "Epoch [38/150], Step [1025/1280], Training Loss: 6.18770389685, Validation Loss: 4.11063965739\n",
      "\n"
     ]
    },
    {
     "data": {
      "application/vnd.jupyter.widget-view+json": {
       "model_id": "e181e3216d1e4779a2285c246e6c32a8",
       "version_major": 2,
       "version_minor": 0
      },
      "text/plain": [
       "HBox(children=(FloatProgress(value=0.0, max=1280.0), HTML(value='')))"
      ]
     },
     "metadata": {},
     "output_type": "display_data"
    },
    {
     "name": "stdout",
     "output_type": "stream",
     "text": [
      "Epoch [39/150], Step [1/1280], Training Loss: 6.99602309485, Validation Loss: 4.40742251783\n",
      "Epoch [39/150], Step [513/1280], Training Loss: 5.61864137141, Validation Loss: 4.10926498900\n",
      "Epoch [39/150], Step [1025/1280], Training Loss: 6.17026607237, Validation Loss: 4.43423649214\n",
      "\n"
     ]
    },
    {
     "data": {
      "application/vnd.jupyter.widget-view+json": {
       "model_id": "479ea2a3f5dc4696b1e92e87fac4f792",
       "version_major": 2,
       "version_minor": 0
      },
      "text/plain": [
       "HBox(children=(FloatProgress(value=0.0, max=1280.0), HTML(value='')))"
      ]
     },
     "metadata": {},
     "output_type": "display_data"
    },
    {
     "name": "stdout",
     "output_type": "stream",
     "text": [
      "Epoch [40/150], Step [1/1280], Training Loss: 6.11071305818, Validation Loss: 5.09158113000\n",
      "Epoch [40/150], Step [513/1280], Training Loss: 5.64702177350, Validation Loss: 3.94496229495\n",
      "Epoch [40/150], Step [1025/1280], Training Loss: 6.08128901708, Validation Loss: 4.40037250588\n",
      "\n"
     ]
    },
    {
     "data": {
      "application/vnd.jupyter.widget-view+json": {
       "model_id": "d69b451d29cd4617b981eed37f3a2a52",
       "version_major": 2,
       "version_minor": 0
      },
      "text/plain": [
       "HBox(children=(FloatProgress(value=0.0, max=1280.0), HTML(value='')))"
      ]
     },
     "metadata": {},
     "output_type": "display_data"
    },
    {
     "name": "stdout",
     "output_type": "stream",
     "text": [
      "Epoch [41/150], Step [1/1280], Training Loss: 6.40051375665, Validation Loss: 5.10777446544\n",
      "Epoch [41/150], Step [513/1280], Training Loss: 6.34351460547, Validation Loss: 4.40719449728\n",
      "Epoch [41/150], Step [1025/1280], Training Loss: 6.43150004746, Validation Loss: 4.43288380164\n",
      "\n"
     ]
    },
    {
     "data": {
      "application/vnd.jupyter.widget-view+json": {
       "model_id": "3ff2d90061f349ecbb3b57906badb771",
       "version_major": 2,
       "version_minor": 0
      },
      "text/plain": [
       "HBox(children=(FloatProgress(value=0.0, max=1280.0), HTML(value='')))"
      ]
     },
     "metadata": {},
     "output_type": "display_data"
    },
    {
     "name": "stdout",
     "output_type": "stream",
     "text": [
      "Epoch [42/150], Step [1/1280], Training Loss: 6.54077160161, Validation Loss: 4.41821867249\n",
      "Epoch [42/150], Step [513/1280], Training Loss: 5.68490940972, Validation Loss: 4.43981103166\n",
      "Epoch [42/150], Step [1025/1280], Training Loss: 5.79155767345, Validation Loss: 4.85799934095\n",
      "\n"
     ]
    },
    {
     "data": {
      "application/vnd.jupyter.widget-view+json": {
       "model_id": "cf442d9dd527407eaa47602892bed11b",
       "version_major": 2,
       "version_minor": 0
      },
      "text/plain": [
       "HBox(children=(FloatProgress(value=0.0, max=1280.0), HTML(value='')))"
      ]
     },
     "metadata": {},
     "output_type": "display_data"
    },
    {
     "name": "stdout",
     "output_type": "stream",
     "text": [
      "Epoch [43/150], Step [1/1280], Training Loss: 6.24213942623, Validation Loss: 4.46909426320\n",
      "Epoch [43/150], Step [513/1280], Training Loss: 6.41365404675, Validation Loss: 4.72014107592\n",
      "Epoch [43/150], Step [1025/1280], Training Loss: 5.19058305185, Validation Loss: 3.82378658676\n",
      "\n"
     ]
    },
    {
     "data": {
      "application/vnd.jupyter.widget-view+json": {
       "model_id": "e95ada715989465f9c0c56f602437935",
       "version_major": 2,
       "version_minor": 0
      },
      "text/plain": [
       "HBox(children=(FloatProgress(value=0.0, max=1280.0), HTML(value='')))"
      ]
     },
     "metadata": {},
     "output_type": "display_data"
    },
    {
     "name": "stdout",
     "output_type": "stream",
     "text": [
      "Epoch [44/150], Step [1/1280], Training Loss: 6.72569326767, Validation Loss: 4.16137073225\n",
      "Epoch [44/150], Step [513/1280], Training Loss: 5.97301066194, Validation Loss: 3.68600679465\n",
      "Epoch [44/150], Step [1025/1280], Training Loss: 5.92241352224, Validation Loss: 4.41798120770\n",
      "\n"
     ]
    },
    {
     "data": {
      "application/vnd.jupyter.widget-view+json": {
       "model_id": "8d0b323564fd4b8b9ba1ab4f948b45b5",
       "version_major": 2,
       "version_minor": 0
      },
      "text/plain": [
       "HBox(children=(FloatProgress(value=0.0, max=1280.0), HTML(value='')))"
      ]
     },
     "metadata": {},
     "output_type": "display_data"
    },
    {
     "name": "stdout",
     "output_type": "stream",
     "text": [
      "Epoch [45/150], Step [1/1280], Training Loss: 6.27210366520, Validation Loss: 3.48968538606\n",
      "Epoch [45/150], Step [513/1280], Training Loss: 5.28171049762, Validation Loss: 4.46729669735\n",
      "Epoch [45/150], Step [1025/1280], Training Loss: 5.94148724726, Validation Loss: 4.77111699421\n",
      "\n"
     ]
    },
    {
     "data": {
      "application/vnd.jupyter.widget-view+json": {
       "model_id": "385c50dcf656467994988f324bf5d4df",
       "version_major": 2,
       "version_minor": 0
      },
      "text/plain": [
       "HBox(children=(FloatProgress(value=0.0, max=1280.0), HTML(value='')))"
      ]
     },
     "metadata": {},
     "output_type": "display_data"
    },
    {
     "name": "stdout",
     "output_type": "stream",
     "text": [
      "Epoch [46/150], Step [1/1280], Training Loss: 6.09355553842, Validation Loss: 5.29798763086\n",
      "Epoch [46/150], Step [513/1280], Training Loss: 5.85246686068, Validation Loss: 4.37353117317\n",
      "Epoch [46/150], Step [1025/1280], Training Loss: 5.27829176315, Validation Loss: 4.41841845237\n",
      "\n"
     ]
    },
    {
     "data": {
      "application/vnd.jupyter.widget-view+json": {
       "model_id": "bbc95efe96964580842aac5be6cc7feb",
       "version_major": 2,
       "version_minor": 0
      },
      "text/plain": [
       "HBox(children=(FloatProgress(value=0.0, max=1280.0), HTML(value='')))"
      ]
     },
     "metadata": {},
     "output_type": "display_data"
    },
    {
     "name": "stdout",
     "output_type": "stream",
     "text": [
      "Epoch [47/150], Step [1/1280], Training Loss: 6.24976744875, Validation Loss: 4.60473703422\n",
      "Epoch [47/150], Step [513/1280], Training Loss: 5.84532982921, Validation Loss: 3.94125094468\n",
      "Epoch [47/150], Step [1025/1280], Training Loss: 5.08631471110, Validation Loss: 4.93491994361\n",
      "\n"
     ]
    },
    {
     "data": {
      "application/vnd.jupyter.widget-view+json": {
       "model_id": "08e7f3c8463d41899c7037cae410e5b8",
       "version_major": 2,
       "version_minor": 0
      },
      "text/plain": [
       "HBox(children=(FloatProgress(value=0.0, max=1280.0), HTML(value='')))"
      ]
     },
     "metadata": {},
     "output_type": "display_data"
    },
    {
     "name": "stdout",
     "output_type": "stream",
     "text": [
      "Epoch [48/150], Step [1/1280], Training Loss: 6.40427041441, Validation Loss: 3.96447206534\n",
      "Epoch [48/150], Step [513/1280], Training Loss: 5.57675978535, Validation Loss: 4.38412382377\n",
      "Epoch [48/150], Step [1025/1280], Training Loss: 5.13344899899, Validation Loss: 3.54404883637\n",
      "\n"
     ]
    },
    {
     "data": {
      "application/vnd.jupyter.widget-view+json": {
       "model_id": "eabe7be0ef82470f82d17902710ed2b5",
       "version_major": 2,
       "version_minor": 0
      },
      "text/plain": [
       "HBox(children=(FloatProgress(value=0.0, max=1280.0), HTML(value='')))"
      ]
     },
     "metadata": {},
     "output_type": "display_data"
    },
    {
     "name": "stdout",
     "output_type": "stream",
     "text": [
      "Epoch [49/150], Step [1/1280], Training Loss: 5.53438863532, Validation Loss: 4.06653643891\n",
      "Epoch [49/150], Step [513/1280], Training Loss: 4.94370574731, Validation Loss: 3.91942651047\n",
      "Epoch [49/150], Step [1025/1280], Training Loss: 6.20429828800, Validation Loss: 4.05709279816\n",
      "\n"
     ]
    },
    {
     "data": {
      "application/vnd.jupyter.widget-view+json": {
       "model_id": "a5a1ba85b8de478da26b024529b3c312",
       "version_major": 2,
       "version_minor": 0
      },
      "text/plain": [
       "HBox(children=(FloatProgress(value=0.0, max=1280.0), HTML(value='')))"
      ]
     },
     "metadata": {},
     "output_type": "display_data"
    },
    {
     "name": "stdout",
     "output_type": "stream",
     "text": [
      "Epoch [50/150], Step [1/1280], Training Loss: 4.81537218892, Validation Loss: 4.05695847210\n",
      "Epoch [50/150], Step [513/1280], Training Loss: 5.20271959104, Validation Loss: 3.70469710776\n",
      "Epoch [50/150], Step [1025/1280], Training Loss: 5.25851561068, Validation Loss: 3.88328205006\n",
      "\n"
     ]
    },
    {
     "data": {
      "application/vnd.jupyter.widget-view+json": {
       "model_id": "8ad4d18f7cf44472a10fffe08fdb12fb",
       "version_major": 2,
       "version_minor": 0
      },
      "text/plain": [
       "HBox(children=(FloatProgress(value=0.0, max=1280.0), HTML(value='')))"
      ]
     },
     "metadata": {},
     "output_type": "display_data"
    },
    {
     "name": "stdout",
     "output_type": "stream",
     "text": [
      "Epoch [51/150], Step [1/1280], Training Loss: 5.41812244844, Validation Loss: 4.42478562968\n",
      "Epoch [51/150], Step [513/1280], Training Loss: 5.65385731438, Validation Loss: 4.51743614591\n",
      "Epoch [51/150], Step [1025/1280], Training Loss: 6.18557924205, Validation Loss: 5.67391617738\n",
      "\n"
     ]
    },
    {
     "data": {
      "application/vnd.jupyter.widget-view+json": {
       "model_id": "bf890937649e4ca2b1575c7b648c8761",
       "version_major": 2,
       "version_minor": 0
      },
      "text/plain": [
       "HBox(children=(FloatProgress(value=0.0, max=1280.0), HTML(value='')))"
      ]
     },
     "metadata": {},
     "output_type": "display_data"
    },
    {
     "name": "stdout",
     "output_type": "stream",
     "text": [
      "Epoch [52/150], Step [1/1280], Training Loss: 5.67254892802, Validation Loss: 3.93732335093\n",
      "Epoch [52/150], Step [513/1280], Training Loss: 6.06822345187, Validation Loss: 4.29131060858\n",
      "Epoch [52/150], Step [1025/1280], Training Loss: 5.25599423316, Validation Loss: 4.37236693324\n",
      "\n"
     ]
    },
    {
     "data": {
      "application/vnd.jupyter.widget-view+json": {
       "model_id": "05ca64978f7b4f8bbd7d127f4dd53f4d",
       "version_major": 2,
       "version_minor": 0
      },
      "text/plain": [
       "HBox(children=(FloatProgress(value=0.0, max=1280.0), HTML(value='')))"
      ]
     },
     "metadata": {},
     "output_type": "display_data"
    },
    {
     "name": "stdout",
     "output_type": "stream",
     "text": [
      "Epoch [53/150], Step [1/1280], Training Loss: 6.12679264857, Validation Loss: 4.12478059205\n",
      "Epoch [53/150], Step [513/1280], Training Loss: 5.49594394511, Validation Loss: 4.01054475890\n",
      "Epoch [53/150], Step [1025/1280], Training Loss: 5.39751354313, Validation Loss: 3.91487890920\n",
      "\n"
     ]
    },
    {
     "data": {
      "application/vnd.jupyter.widget-view+json": {
       "model_id": "8cf2645b35d34cb6be0e5fde8fa023ab",
       "version_major": 2,
       "version_minor": 0
      },
      "text/plain": [
       "HBox(children=(FloatProgress(value=0.0, max=1280.0), HTML(value='')))"
      ]
     },
     "metadata": {},
     "output_type": "display_data"
    },
    {
     "name": "stdout",
     "output_type": "stream",
     "text": [
      "Epoch [54/150], Step [1/1280], Training Loss: 5.42691033592, Validation Loss: 4.38618834346\n",
      "Epoch [54/150], Step [513/1280], Training Loss: 5.73721701770, Validation Loss: 4.44543023752\n",
      "Epoch [54/150], Step [1025/1280], Training Loss: 5.68340695332, Validation Loss: 3.81911364842\n",
      "\n"
     ]
    },
    {
     "data": {
      "application/vnd.jupyter.widget-view+json": {
       "model_id": "938baffe817648e181a3147911a608f1",
       "version_major": 2,
       "version_minor": 0
      },
      "text/plain": [
       "HBox(children=(FloatProgress(value=0.0, max=1280.0), HTML(value='')))"
      ]
     },
     "metadata": {},
     "output_type": "display_data"
    },
    {
     "name": "stdout",
     "output_type": "stream",
     "text": [
      "Epoch [55/150], Step [1/1280], Training Loss: 5.72473901304, Validation Loss: 3.69578239805\n",
      "Epoch [55/150], Step [513/1280], Training Loss: 5.11470715688, Validation Loss: 3.61625813208\n",
      "Epoch [55/150], Step [1025/1280], Training Loss: 5.14413655869, Validation Loss: 3.68241793432\n",
      "\n"
     ]
    },
    {
     "data": {
      "application/vnd.jupyter.widget-view+json": {
       "model_id": "1f1205e0b6a243dc99805ac27bd0a263",
       "version_major": 2,
       "version_minor": 0
      },
      "text/plain": [
       "HBox(children=(FloatProgress(value=0.0, max=1280.0), HTML(value='')))"
      ]
     },
     "metadata": {},
     "output_type": "display_data"
    },
    {
     "name": "stdout",
     "output_type": "stream",
     "text": [
      "Epoch [56/150], Step [1/1280], Training Loss: 6.17990894014, Validation Loss: 4.30266518222\n",
      "Epoch [56/150], Step [513/1280], Training Loss: 5.74261369487, Validation Loss: 3.93988564335\n",
      "Epoch [56/150], Step [1025/1280], Training Loss: 5.54134953303, Validation Loss: 4.24057384228\n",
      "\n"
     ]
    },
    {
     "data": {
      "application/vnd.jupyter.widget-view+json": {
       "model_id": "80fb390349e24d8c9417a2dcf6ebfda0",
       "version_major": 2,
       "version_minor": 0
      },
      "text/plain": [
       "HBox(children=(FloatProgress(value=0.0, max=1280.0), HTML(value='')))"
      ]
     },
     "metadata": {},
     "output_type": "display_data"
    },
    {
     "name": "stdout",
     "output_type": "stream",
     "text": [
      "Epoch [57/150], Step [1/1280], Training Loss: 5.67032820385, Validation Loss: 4.09147135256\n",
      "Epoch [57/150], Step [513/1280], Training Loss: 4.95162357297, Validation Loss: 3.68659944859\n",
      "Epoch [57/150], Step [1025/1280], Training Loss: 6.10243418409, Validation Loss: 4.86250129745\n",
      "\n"
     ]
    },
    {
     "data": {
      "application/vnd.jupyter.widget-view+json": {
       "model_id": "593420f50000445a8d7612f3dfd6a352",
       "version_major": 2,
       "version_minor": 0
      },
      "text/plain": [
       "HBox(children=(FloatProgress(value=0.0, max=1280.0), HTML(value='')))"
      ]
     },
     "metadata": {},
     "output_type": "display_data"
    },
    {
     "name": "stdout",
     "output_type": "stream",
     "text": [
      "Epoch [58/150], Step [1/1280], Training Loss: 5.67556318523, Validation Loss: 4.29636041186\n",
      "Epoch [58/150], Step [513/1280], Training Loss: 5.94461004032, Validation Loss: 4.33757301138\n",
      "Epoch [58/150], Step [1025/1280], Training Loss: 4.86487204582, Validation Loss: 3.60897908295\n",
      "\n"
     ]
    },
    {
     "data": {
      "application/vnd.jupyter.widget-view+json": {
       "model_id": "b1ce37a7e3d340e790306627d4606275",
       "version_major": 2,
       "version_minor": 0
      },
      "text/plain": [
       "HBox(children=(FloatProgress(value=0.0, max=1280.0), HTML(value='')))"
      ]
     },
     "metadata": {},
     "output_type": "display_data"
    },
    {
     "name": "stdout",
     "output_type": "stream",
     "text": [
      "Epoch [59/150], Step [1/1280], Training Loss: 6.24669822657, Validation Loss: 4.39975326575\n",
      "Epoch [59/150], Step [513/1280], Training Loss: 5.41328456333, Validation Loss: 4.17502627107\n",
      "Epoch [59/150], Step [1025/1280], Training Loss: 5.65976364341, Validation Loss: 3.69853050833\n",
      "\n"
     ]
    },
    {
     "data": {
      "application/vnd.jupyter.widget-view+json": {
       "model_id": "8fee97c4247b42ea9b94b6795c36b9bb",
       "version_major": 2,
       "version_minor": 0
      },
      "text/plain": [
       "HBox(children=(FloatProgress(value=0.0, max=1280.0), HTML(value='')))"
      ]
     },
     "metadata": {},
     "output_type": "display_data"
    },
    {
     "name": "stdout",
     "output_type": "stream",
     "text": [
      "Epoch [60/150], Step [1/1280], Training Loss: 4.80031462838, Validation Loss: 3.76441935651\n",
      "Epoch [60/150], Step [513/1280], Training Loss: 4.94223674673, Validation Loss: 4.07183578197\n",
      "Epoch [60/150], Step [1025/1280], Training Loss: 5.11242169360, Validation Loss: 3.41860673748\n",
      "\n"
     ]
    },
    {
     "data": {
      "application/vnd.jupyter.widget-view+json": {
       "model_id": "664318d38e0a4aa3a9817c406691c6d7",
       "version_major": 2,
       "version_minor": 0
      },
      "text/plain": [
       "HBox(children=(FloatProgress(value=0.0, max=1280.0), HTML(value='')))"
      ]
     },
     "metadata": {},
     "output_type": "display_data"
    },
    {
     "name": "stdout",
     "output_type": "stream",
     "text": [
      "Epoch [61/150], Step [1/1280], Training Loss: 5.07479906342, Validation Loss: 4.13729906163\n",
      "Epoch [61/150], Step [513/1280], Training Loss: 5.43715280655, Validation Loss: 3.98414207341\n",
      "Epoch [61/150], Step [1025/1280], Training Loss: 4.80086670077, Validation Loss: 4.23477063623\n",
      "\n"
     ]
    },
    {
     "data": {
      "application/vnd.jupyter.widget-view+json": {
       "model_id": "9ec6d83834354cdd8c48084ac2af09a2",
       "version_major": 2,
       "version_minor": 0
      },
      "text/plain": [
       "HBox(children=(FloatProgress(value=0.0, max=1280.0), HTML(value='')))"
      ]
     },
     "metadata": {},
     "output_type": "display_data"
    },
    {
     "name": "stdout",
     "output_type": "stream",
     "text": [
      "Epoch [62/150], Step [1/1280], Training Loss: 5.22597746007, Validation Loss: 3.77773158576\n",
      "Epoch [62/150], Step [513/1280], Training Loss: 4.78076758387, Validation Loss: 3.78378780700\n",
      "Epoch [62/150], Step [1025/1280], Training Loss: 4.88703420866, Validation Loss: 4.34575334173\n",
      "\n"
     ]
    },
    {
     "data": {
      "application/vnd.jupyter.widget-view+json": {
       "model_id": "098574b4d80f4e9499710df6b8e3a57f",
       "version_major": 2,
       "version_minor": 0
      },
      "text/plain": [
       "HBox(children=(FloatProgress(value=0.0, max=1280.0), HTML(value='')))"
      ]
     },
     "metadata": {},
     "output_type": "display_data"
    },
    {
     "name": "stdout",
     "output_type": "stream",
     "text": [
      "Epoch [63/150], Step [1/1280], Training Loss: 5.11195226509, Validation Loss: 4.20063281077\n",
      "Epoch [63/150], Step [513/1280], Training Loss: 4.82015405644, Validation Loss: 3.70663974498\n",
      "Epoch [63/150], Step [1025/1280], Training Loss: 5.28927529102, Validation Loss: 4.43700466522\n",
      "\n"
     ]
    },
    {
     "data": {
      "application/vnd.jupyter.widget-view+json": {
       "model_id": "b31452b8e1174000b5d1acbc23ee6334",
       "version_major": 2,
       "version_minor": 0
      },
      "text/plain": [
       "HBox(children=(FloatProgress(value=0.0, max=1280.0), HTML(value='')))"
      ]
     },
     "metadata": {},
     "output_type": "display_data"
    },
    {
     "name": "stdout",
     "output_type": "stream",
     "text": [
      "Epoch [64/150], Step [1/1280], Training Loss: 4.92695986454, Validation Loss: 3.92535795267\n",
      "Epoch [64/150], Step [513/1280], Training Loss: 4.83179988925, Validation Loss: 3.55294293740\n",
      "Epoch [64/150], Step [1025/1280], Training Loss: 4.65921564303, Validation Loss: 3.82233592870\n",
      "\n"
     ]
    },
    {
     "data": {
      "application/vnd.jupyter.widget-view+json": {
       "model_id": "c7b76449831644d6a26790799c8a4b70",
       "version_major": 2,
       "version_minor": 0
      },
      "text/plain": [
       "HBox(children=(FloatProgress(value=0.0, max=1280.0), HTML(value='')))"
      ]
     },
     "metadata": {},
     "output_type": "display_data"
    },
    {
     "name": "stdout",
     "output_type": "stream",
     "text": [
      "Epoch [65/150], Step [1/1280], Training Loss: 4.99931205890, Validation Loss: 3.37108710111\n",
      "Epoch [65/150], Step [513/1280], Training Loss: 5.05027314585, Validation Loss: 3.75824357060\n",
      "Epoch [65/150], Step [1025/1280], Training Loss: 4.37210951722, Validation Loss: 3.85468119850\n",
      "\n"
     ]
    },
    {
     "data": {
      "application/vnd.jupyter.widget-view+json": {
       "model_id": "afd490ea96834003bfb95e2c206ac30f",
       "version_major": 2,
       "version_minor": 0
      },
      "text/plain": [
       "HBox(children=(FloatProgress(value=0.0, max=1280.0), HTML(value='')))"
      ]
     },
     "metadata": {},
     "output_type": "display_data"
    },
    {
     "name": "stdout",
     "output_type": "stream",
     "text": [
      "Epoch [66/150], Step [1/1280], Training Loss: 4.46223599951, Validation Loss: 3.69482507016\n",
      "Epoch [66/150], Step [513/1280], Training Loss: 4.71435392663, Validation Loss: 4.60555930465\n",
      "Epoch [66/150], Step [1025/1280], Training Loss: 4.93273659394, Validation Loss: 3.91625258388\n",
      "\n"
     ]
    },
    {
     "data": {
      "application/vnd.jupyter.widget-view+json": {
       "model_id": "6abda177bb144e14bfa716df6e26a159",
       "version_major": 2,
       "version_minor": 0
      },
      "text/plain": [
       "HBox(children=(FloatProgress(value=0.0, max=1280.0), HTML(value='')))"
      ]
     },
     "metadata": {},
     "output_type": "display_data"
    },
    {
     "name": "stdout",
     "output_type": "stream",
     "text": [
      "Epoch [67/150], Step [1/1280], Training Loss: 4.62805892440, Validation Loss: 4.18575521789\n",
      "Epoch [67/150], Step [513/1280], Training Loss: 4.63992157613, Validation Loss: 3.34074644256\n",
      "Epoch [67/150], Step [1025/1280], Training Loss: 4.82456766204, Validation Loss: 4.15973794681\n",
      "\n"
     ]
    },
    {
     "data": {
      "application/vnd.jupyter.widget-view+json": {
       "model_id": "107f1ea7ddef43149d7c01f6b101632d",
       "version_major": 2,
       "version_minor": 0
      },
      "text/plain": [
       "HBox(children=(FloatProgress(value=0.0, max=1280.0), HTML(value='')))"
      ]
     },
     "metadata": {},
     "output_type": "display_data"
    },
    {
     "name": "stdout",
     "output_type": "stream",
     "text": [
      "Epoch [68/150], Step [1/1280], Training Loss: 5.07035184146, Validation Loss: 3.91481163230\n",
      "Epoch [68/150], Step [513/1280], Training Loss: 4.23632369266, Validation Loss: 3.33453924754\n",
      "Epoch [68/150], Step [1025/1280], Training Loss: 4.64547629068, Validation Loss: 3.94529985134\n",
      "\n"
     ]
    },
    {
     "data": {
      "application/vnd.jupyter.widget-view+json": {
       "model_id": "141aff2a0ef241a2af218645515bb349",
       "version_major": 2,
       "version_minor": 0
      },
      "text/plain": [
       "HBox(children=(FloatProgress(value=0.0, max=1280.0), HTML(value='')))"
      ]
     },
     "metadata": {},
     "output_type": "display_data"
    },
    {
     "name": "stdout",
     "output_type": "stream",
     "text": [
      "Epoch [69/150], Step [1/1280], Training Loss: 4.28098004239, Validation Loss: 3.51196701178\n",
      "Epoch [69/150], Step [513/1280], Training Loss: 4.46900972623, Validation Loss: 3.33465215330\n",
      "Epoch [69/150], Step [1025/1280], Training Loss: 4.49546497875, Validation Loss: 3.96646776539\n",
      "\n"
     ]
    },
    {
     "data": {
      "application/vnd.jupyter.widget-view+json": {
       "model_id": "0d038b1e1dbc473c9f1e9aa3986870dd",
       "version_major": 2,
       "version_minor": 0
      },
      "text/plain": [
       "HBox(children=(FloatProgress(value=0.0, max=1280.0), HTML(value='')))"
      ]
     },
     "metadata": {},
     "output_type": "display_data"
    },
    {
     "name": "stdout",
     "output_type": "stream",
     "text": [
      "Epoch [70/150], Step [1/1280], Training Loss: 4.46473356608, Validation Loss: 3.46568404974\n",
      "Epoch [70/150], Step [513/1280], Training Loss: 4.00731646298, Validation Loss: 3.48675221969\n",
      "Epoch [70/150], Step [1025/1280], Training Loss: 4.53609697785, Validation Loss: 3.70428268268\n",
      "\n"
     ]
    },
    {
     "data": {
      "application/vnd.jupyter.widget-view+json": {
       "model_id": "0d2cf85c7a514f6ba2fb3fd5cb5ec376",
       "version_major": 2,
       "version_minor": 0
      },
      "text/plain": [
       "HBox(children=(FloatProgress(value=0.0, max=1280.0), HTML(value='')))"
      ]
     },
     "metadata": {},
     "output_type": "display_data"
    },
    {
     "name": "stdout",
     "output_type": "stream",
     "text": [
      "Epoch [71/150], Step [1/1280], Training Loss: 4.17555719624, Validation Loss: 3.60883975922\n",
      "Epoch [71/150], Step [513/1280], Training Loss: 4.59334114060, Validation Loss: 3.88234975334\n",
      "Epoch [71/150], Step [1025/1280], Training Loss: 4.87034614492, Validation Loss: 3.94517431704\n",
      "\n"
     ]
    },
    {
     "data": {
      "application/vnd.jupyter.widget-view+json": {
       "model_id": "e16f8c2759ad4c94820f34c8ad5a8603",
       "version_major": 2,
       "version_minor": 0
      },
      "text/plain": [
       "HBox(children=(FloatProgress(value=0.0, max=1280.0), HTML(value='')))"
      ]
     },
     "metadata": {},
     "output_type": "display_data"
    },
    {
     "name": "stdout",
     "output_type": "stream",
     "text": [
      "Epoch [72/150], Step [1/1280], Training Loss: 4.95807301066, Validation Loss: 3.99806790155\n",
      "Epoch [72/150], Step [513/1280], Training Loss: 4.43911413624, Validation Loss: 3.81150056943\n",
      "Epoch [72/150], Step [1025/1280], Training Loss: 4.34081754038, Validation Loss: 3.52125719719\n",
      "\n"
     ]
    },
    {
     "data": {
      "application/vnd.jupyter.widget-view+json": {
       "model_id": "56867b74a68542a989779af44632643a",
       "version_major": 2,
       "version_minor": 0
      },
      "text/plain": [
       "HBox(children=(FloatProgress(value=0.0, max=1280.0), HTML(value='')))"
      ]
     },
     "metadata": {},
     "output_type": "display_data"
    },
    {
     "name": "stdout",
     "output_type": "stream",
     "text": [
      "Epoch [73/150], Step [1/1280], Training Loss: 4.30899977678, Validation Loss: 3.52764040119\n",
      "Epoch [73/150], Step [513/1280], Training Loss: 4.42712467917, Validation Loss: 3.51195586480\n",
      "Epoch [73/150], Step [1025/1280], Training Loss: 4.18416624252, Validation Loss: 3.31637547023\n",
      "\n"
     ]
    },
    {
     "data": {
      "application/vnd.jupyter.widget-view+json": {
       "model_id": "2e95e711301b4ab3bf26f0f49bcb66d5",
       "version_major": 2,
       "version_minor": 0
      },
      "text/plain": [
       "HBox(children=(FloatProgress(value=0.0, max=1280.0), HTML(value='')))"
      ]
     },
     "metadata": {},
     "output_type": "display_data"
    },
    {
     "name": "stdout",
     "output_type": "stream",
     "text": [
      "Epoch [74/150], Step [1/1280], Training Loss: 4.20333204820, Validation Loss: 3.38764814558\n",
      "Epoch [74/150], Step [513/1280], Training Loss: 4.34729179686, Validation Loss: 3.49725919401\n",
      "Epoch [74/150], Step [1025/1280], Training Loss: 4.42098661055, Validation Loss: 3.28886660089\n",
      "\n"
     ]
    },
    {
     "data": {
      "application/vnd.jupyter.widget-view+json": {
       "model_id": "5b623f7dbeb74cd8a6d6b2826741839c",
       "version_major": 2,
       "version_minor": 0
      },
      "text/plain": [
       "HBox(children=(FloatProgress(value=0.0, max=1280.0), HTML(value='')))"
      ]
     },
     "metadata": {},
     "output_type": "display_data"
    },
    {
     "name": "stdout",
     "output_type": "stream",
     "text": [
      "Epoch [75/150], Step [1/1280], Training Loss: 4.16226393268, Validation Loss: 3.45499696668\n",
      "Epoch [75/150], Step [513/1280], Training Loss: 4.38769380728, Validation Loss: 3.30598137199\n",
      "Epoch [75/150], Step [1025/1280], Training Loss: 4.21418922285, Validation Loss: 3.59732640096\n",
      "\n"
     ]
    },
    {
     "data": {
      "application/vnd.jupyter.widget-view+json": {
       "model_id": "4ded492cc73d4ec397fc6d4c438adead",
       "version_major": 2,
       "version_minor": 0
      },
      "text/plain": [
       "HBox(children=(FloatProgress(value=0.0, max=1280.0), HTML(value='')))"
      ]
     },
     "metadata": {},
     "output_type": "display_data"
    },
    {
     "name": "stdout",
     "output_type": "stream",
     "text": [
      "Epoch [76/150], Step [1/1280], Training Loss: 4.45184817238, Validation Loss: 3.59195131923\n",
      "Epoch [76/150], Step [513/1280], Training Loss: 4.32769710593, Validation Loss: 3.51038932336\n",
      "Epoch [76/150], Step [1025/1280], Training Loss: 4.36147587638, Validation Loss: 3.70883097416\n",
      "\n"
     ]
    },
    {
     "data": {
      "application/vnd.jupyter.widget-view+json": {
       "model_id": "2d4b5fab018c462597d161dd950bde4d",
       "version_major": 2,
       "version_minor": 0
      },
      "text/plain": [
       "HBox(children=(FloatProgress(value=0.0, max=1280.0), HTML(value='')))"
      ]
     },
     "metadata": {},
     "output_type": "display_data"
    },
    {
     "name": "stdout",
     "output_type": "stream",
     "text": [
      "Epoch [77/150], Step [1/1280], Training Loss: 4.32146001515, Validation Loss: 3.41393674112\n",
      "Epoch [77/150], Step [513/1280], Training Loss: 4.27361857688, Validation Loss: 3.04082062618\n",
      "Epoch [77/150], Step [1025/1280], Training Loss: 4.10302856548, Validation Loss: 3.42187860151\n",
      "\n"
     ]
    },
    {
     "data": {
      "application/vnd.jupyter.widget-view+json": {
       "model_id": "cda83e7e751848ed9423da3b5a304761",
       "version_major": 2,
       "version_minor": 0
      },
      "text/plain": [
       "HBox(children=(FloatProgress(value=0.0, max=1280.0), HTML(value='')))"
      ]
     },
     "metadata": {},
     "output_type": "display_data"
    },
    {
     "name": "stdout",
     "output_type": "stream",
     "text": [
      "Epoch [78/150], Step [1/1280], Training Loss: 4.08003054096, Validation Loss: 2.94815300076\n",
      "Epoch [78/150], Step [513/1280], Training Loss: 4.15138511548, Validation Loss: 3.96830154133\n",
      "Epoch [78/150], Step [1025/1280], Training Loss: 4.08027271861, Validation Loss: 3.41687993988\n",
      "\n"
     ]
    },
    {
     "data": {
      "application/vnd.jupyter.widget-view+json": {
       "model_id": "e0ad2b443ab54e1b94185b25cd4ad64d",
       "version_major": 2,
       "version_minor": 0
      },
      "text/plain": [
       "HBox(children=(FloatProgress(value=0.0, max=1280.0), HTML(value='')))"
      ]
     },
     "metadata": {},
     "output_type": "display_data"
    },
    {
     "name": "stdout",
     "output_type": "stream",
     "text": [
      "Epoch [79/150], Step [1/1280], Training Loss: 4.20043458818, Validation Loss: 3.35029492930\n",
      "Epoch [79/150], Step [513/1280], Training Loss: 4.02865489842, Validation Loss: 3.10497585037\n",
      "Epoch [79/150], Step [1025/1280], Training Loss: 4.01491197939, Validation Loss: 3.06420787867\n",
      "\n"
     ]
    },
    {
     "data": {
      "application/vnd.jupyter.widget-view+json": {
       "model_id": "8668ca0df84445dfb774fb85d746f125",
       "version_major": 2,
       "version_minor": 0
      },
      "text/plain": [
       "HBox(children=(FloatProgress(value=0.0, max=1280.0), HTML(value='')))"
      ]
     },
     "metadata": {},
     "output_type": "display_data"
    },
    {
     "name": "stdout",
     "output_type": "stream",
     "text": [
      "Epoch [80/150], Step [1/1280], Training Loss: 3.99069307265, Validation Loss: 3.47804289604\n",
      "Epoch [80/150], Step [513/1280], Training Loss: 3.73428250711, Validation Loss: 3.32499991095\n",
      "Epoch [80/150], Step [1025/1280], Training Loss: 3.75990094995, Validation Loss: 3.61450849053\n",
      "\n"
     ]
    },
    {
     "data": {
      "application/vnd.jupyter.widget-view+json": {
       "model_id": "1e21acaf29014e29a084ddfa31315000",
       "version_major": 2,
       "version_minor": 0
      },
      "text/plain": [
       "HBox(children=(FloatProgress(value=0.0, max=1280.0), HTML(value='')))"
      ]
     },
     "metadata": {},
     "output_type": "display_data"
    },
    {
     "name": "stdout",
     "output_type": "stream",
     "text": [
      "Epoch [81/150], Step [1/1280], Training Loss: 3.91822763715, Validation Loss: 3.66015357578\n",
      "Epoch [81/150], Step [513/1280], Training Loss: 4.07312441860, Validation Loss: 3.47638602490\n",
      "Epoch [81/150], Step [1025/1280], Training Loss: 3.93521614029, Validation Loss: 3.18552476495\n",
      "\n"
     ]
    },
    {
     "data": {
      "application/vnd.jupyter.widget-view+json": {
       "model_id": "7d8f6eb02b624c869e792ba02352d129",
       "version_major": 2,
       "version_minor": 0
      },
      "text/plain": [
       "HBox(children=(FloatProgress(value=0.0, max=1280.0), HTML(value='')))"
      ]
     },
     "metadata": {},
     "output_type": "display_data"
    },
    {
     "name": "stdout",
     "output_type": "stream",
     "text": [
      "Epoch [82/150], Step [1/1280], Training Loss: 3.96763063071, Validation Loss: 3.60634098428\n",
      "Epoch [82/150], Step [513/1280], Training Loss: 3.85561816897, Validation Loss: 2.52132732431\n",
      "Epoch [82/150], Step [1025/1280], Training Loss: 3.83722530851, Validation Loss: 3.40483501547\n",
      "\n"
     ]
    },
    {
     "data": {
      "application/vnd.jupyter.widget-view+json": {
       "model_id": "f5684f305a434dd2a194091176a478a2",
       "version_major": 2,
       "version_minor": 0
      },
      "text/plain": [
       "HBox(children=(FloatProgress(value=0.0, max=1280.0), HTML(value='')))"
      ]
     },
     "metadata": {},
     "output_type": "display_data"
    },
    {
     "name": "stdout",
     "output_type": "stream",
     "text": [
      "Epoch [83/150], Step [1/1280], Training Loss: 4.13467769160, Validation Loss: 3.44936805025\n",
      "Epoch [83/150], Step [513/1280], Training Loss: 3.92395553311, Validation Loss: 3.23583367123\n",
      "Epoch [83/150], Step [1025/1280], Training Loss: 4.13237952506, Validation Loss: 3.38933699682\n",
      "\n"
     ]
    },
    {
     "data": {
      "application/vnd.jupyter.widget-view+json": {
       "model_id": "ed1c12ed406b4d5a8733428b32abcf53",
       "version_major": 2,
       "version_minor": 0
      },
      "text/plain": [
       "HBox(children=(FloatProgress(value=0.0, max=1280.0), HTML(value='')))"
      ]
     },
     "metadata": {},
     "output_type": "display_data"
    },
    {
     "name": "stdout",
     "output_type": "stream",
     "text": [
      "Epoch [84/150], Step [1/1280], Training Loss: 3.67620528208, Validation Loss: 3.32363275457\n",
      "Epoch [84/150], Step [513/1280], Training Loss: 3.92649018017, Validation Loss: 3.32853778807\n",
      "Epoch [84/150], Step [1025/1280], Training Loss: 3.77303640624, Validation Loss: 3.82418699351\n",
      "\n"
     ]
    },
    {
     "data": {
      "application/vnd.jupyter.widget-view+json": {
       "model_id": "a61af03b534a419986642f408274f806",
       "version_major": 2,
       "version_minor": 0
      },
      "text/plain": [
       "HBox(children=(FloatProgress(value=0.0, max=1280.0), HTML(value='')))"
      ]
     },
     "metadata": {},
     "output_type": "display_data"
    },
    {
     "name": "stdout",
     "output_type": "stream",
     "text": [
      "Epoch [85/150], Step [1/1280], Training Loss: 3.83578127573, Validation Loss: 3.36070208831\n",
      "Epoch [85/150], Step [513/1280], Training Loss: 3.60048774867, Validation Loss: 3.30482546539\n",
      "Epoch [85/150], Step [1025/1280], Training Loss: 3.75983267609, Validation Loss: 3.17802931173\n",
      "\n"
     ]
    },
    {
     "data": {
      "application/vnd.jupyter.widget-view+json": {
       "model_id": "b51be17e146c4bccb5792face2957291",
       "version_major": 2,
       "version_minor": 0
      },
      "text/plain": [
       "HBox(children=(FloatProgress(value=0.0, max=1280.0), HTML(value='')))"
      ]
     },
     "metadata": {},
     "output_type": "display_data"
    },
    {
     "name": "stdout",
     "output_type": "stream",
     "text": [
      "Epoch [86/150], Step [1/1280], Training Loss: 3.71716191805, Validation Loss: 3.68079662832\n",
      "Epoch [86/150], Step [513/1280], Training Loss: 4.07589621858, Validation Loss: 3.61413340723\n",
      "Epoch [86/150], Step [1025/1280], Training Loss: 4.17814268871, Validation Loss: 3.57447644967\n",
      "\n"
     ]
    },
    {
     "data": {
      "application/vnd.jupyter.widget-view+json": {
       "model_id": "30e25b78c5944df2926d8ff54a142257",
       "version_major": 2,
       "version_minor": 0
      },
      "text/plain": [
       "HBox(children=(FloatProgress(value=0.0, max=1280.0), HTML(value='')))"
      ]
     },
     "metadata": {},
     "output_type": "display_data"
    },
    {
     "name": "stdout",
     "output_type": "stream",
     "text": [
      "Epoch [87/150], Step [1/1280], Training Loss: 3.89462568494, Validation Loss: 3.33331077172\n",
      "Epoch [87/150], Step [513/1280], Training Loss: 3.89406883920, Validation Loss: 3.33915663875\n",
      "Epoch [87/150], Step [1025/1280], Training Loss: 3.72642522086, Validation Loss: 3.58890302437\n",
      "\n"
     ]
    },
    {
     "data": {
      "application/vnd.jupyter.widget-view+json": {
       "model_id": "28fe24fb33374864ad8b4c7f64b23bc5",
       "version_major": 2,
       "version_minor": 0
      },
      "text/plain": [
       "HBox(children=(FloatProgress(value=0.0, max=1280.0), HTML(value='')))"
      ]
     },
     "metadata": {},
     "output_type": "display_data"
    },
    {
     "name": "stdout",
     "output_type": "stream",
     "text": [
      "Epoch [88/150], Step [1/1280], Training Loss: 3.67824127422, Validation Loss: 3.45978906405\n",
      "Epoch [88/150], Step [513/1280], Training Loss: 3.80521381061, Validation Loss: 4.60719821434\n",
      "Epoch [88/150], Step [1025/1280], Training Loss: 4.07193108898, Validation Loss: 3.58383476387\n",
      "\n"
     ]
    },
    {
     "data": {
      "application/vnd.jupyter.widget-view+json": {
       "model_id": "f18af803d82148b8ad90fd02566d4938",
       "version_major": 2,
       "version_minor": 0
      },
      "text/plain": [
       "HBox(children=(FloatProgress(value=0.0, max=1280.0), HTML(value='')))"
      ]
     },
     "metadata": {},
     "output_type": "display_data"
    },
    {
     "name": "stdout",
     "output_type": "stream",
     "text": [
      "Epoch [89/150], Step [1/1280], Training Loss: 3.72314777101, Validation Loss: 4.00932565484\n",
      "Epoch [89/150], Step [513/1280], Training Loss: 4.19500199556, Validation Loss: 3.41206111771\n",
      "Epoch [89/150], Step [1025/1280], Training Loss: 3.62330647636, Validation Loss: 3.37341223535\n",
      "\n"
     ]
    },
    {
     "data": {
      "application/vnd.jupyter.widget-view+json": {
       "model_id": "4de084b5bcbf45879cfe9c9d66a1de9a",
       "version_major": 2,
       "version_minor": 0
      },
      "text/plain": [
       "HBox(children=(FloatProgress(value=0.0, max=1280.0), HTML(value='')))"
      ]
     },
     "metadata": {},
     "output_type": "display_data"
    },
    {
     "name": "stdout",
     "output_type": "stream",
     "text": [
      "Epoch [90/150], Step [1/1280], Training Loss: 4.06693734657, Validation Loss: 2.81144584267\n",
      "Epoch [90/150], Step [513/1280], Training Loss: 3.59853081135, Validation Loss: 3.29999152960\n",
      "Epoch [90/150], Step [1025/1280], Training Loss: 3.72858249906, Validation Loss: 3.63282756088\n",
      "\n"
     ]
    },
    {
     "data": {
      "application/vnd.jupyter.widget-view+json": {
       "model_id": "60c69580039a4f0e98f218a077d3847d",
       "version_major": 2,
       "version_minor": 0
      },
      "text/plain": [
       "HBox(children=(FloatProgress(value=0.0, max=1280.0), HTML(value='')))"
      ]
     },
     "metadata": {},
     "output_type": "display_data"
    },
    {
     "name": "stdout",
     "output_type": "stream",
     "text": [
      "Epoch [91/150], Step [1/1280], Training Loss: 3.70961917392, Validation Loss: 3.27544610248\n",
      "Epoch [91/150], Step [513/1280], Training Loss: 3.81291353971, Validation Loss: 3.18725286453\n",
      "Epoch [91/150], Step [1025/1280], Training Loss: 3.79901326970, Validation Loss: 3.25323510512\n",
      "\n"
     ]
    },
    {
     "data": {
      "application/vnd.jupyter.widget-view+json": {
       "model_id": "528e92e4282f4ac89e37717a7d928022",
       "version_major": 2,
       "version_minor": 0
      },
      "text/plain": [
       "HBox(children=(FloatProgress(value=0.0, max=1280.0), HTML(value='')))"
      ]
     },
     "metadata": {},
     "output_type": "display_data"
    },
    {
     "name": "stdout",
     "output_type": "stream",
     "text": [
      "Epoch [92/150], Step [1/1280], Training Loss: 3.67411095861, Validation Loss: 3.13743465666\n",
      "Epoch [92/150], Step [513/1280], Training Loss: 3.73232399733, Validation Loss: 3.57772520473\n",
      "Epoch [92/150], Step [1025/1280], Training Loss: 3.62124960641, Validation Loss: 3.34596875065\n",
      "\n"
     ]
    },
    {
     "data": {
      "application/vnd.jupyter.widget-view+json": {
       "model_id": "85964d1d6685414986025900dbe442b9",
       "version_major": 2,
       "version_minor": 0
      },
      "text/plain": [
       "HBox(children=(FloatProgress(value=0.0, max=1280.0), HTML(value='')))"
      ]
     },
     "metadata": {},
     "output_type": "display_data"
    },
    {
     "name": "stdout",
     "output_type": "stream",
     "text": [
      "Epoch [93/150], Step [1/1280], Training Loss: 3.60126985247, Validation Loss: 3.33761662943\n",
      "Epoch [93/150], Step [513/1280], Training Loss: 3.93812908826, Validation Loss: 3.68979025318\n",
      "Epoch [93/150], Step [1025/1280], Training Loss: 3.78051931210, Validation Loss: 3.24319453763\n",
      "\n"
     ]
    },
    {
     "data": {
      "application/vnd.jupyter.widget-view+json": {
       "model_id": "2ef7a9450291424280f27603719f655a",
       "version_major": 2,
       "version_minor": 0
      },
      "text/plain": [
       "HBox(children=(FloatProgress(value=0.0, max=1280.0), HTML(value='')))"
      ]
     },
     "metadata": {},
     "output_type": "display_data"
    },
    {
     "name": "stdout",
     "output_type": "stream",
     "text": [
      "Epoch [94/150], Step [1/1280], Training Loss: 3.59616652361, Validation Loss: 3.26338581544\n",
      "Epoch [94/150], Step [513/1280], Training Loss: 3.37803674428, Validation Loss: 3.52459065699\n",
      "Epoch [94/150], Step [1025/1280], Training Loss: 3.65472543999, Validation Loss: 3.09293657504\n",
      "\n"
     ]
    },
    {
     "data": {
      "application/vnd.jupyter.widget-view+json": {
       "model_id": "a286c4b2b4bf4b45906bb98b93915e1f",
       "version_major": 2,
       "version_minor": 0
      },
      "text/plain": [
       "HBox(children=(FloatProgress(value=0.0, max=1280.0), HTML(value='')))"
      ]
     },
     "metadata": {},
     "output_type": "display_data"
    },
    {
     "name": "stdout",
     "output_type": "stream",
     "text": [
      "Epoch [95/150], Step [1/1280], Training Loss: 3.52010649392, Validation Loss: 2.81061418544\n",
      "Epoch [95/150], Step [513/1280], Training Loss: 3.32069600090, Validation Loss: 3.20485098841\n",
      "Epoch [95/150], Step [1025/1280], Training Loss: 3.57673945344, Validation Loss: 3.40846031526\n",
      "\n"
     ]
    },
    {
     "data": {
      "application/vnd.jupyter.widget-view+json": {
       "model_id": "bcc7525bb35b475d8ecd01b907c351c2",
       "version_major": 2,
       "version_minor": 0
      },
      "text/plain": [
       "HBox(children=(FloatProgress(value=0.0, max=1280.0), HTML(value='')))"
      ]
     },
     "metadata": {},
     "output_type": "display_data"
    },
    {
     "name": "stdout",
     "output_type": "stream",
     "text": [
      "Epoch [96/150], Step [1/1280], Training Loss: 3.52587836998, Validation Loss: 3.60302684281\n",
      "Epoch [96/150], Step [513/1280], Training Loss: 3.69544844817, Validation Loss: 3.33103643237\n",
      "Epoch [96/150], Step [1025/1280], Training Loss: 3.74000499623, Validation Loss: 3.33491731067\n",
      "\n"
     ]
    },
    {
     "data": {
      "application/vnd.jupyter.widget-view+json": {
       "model_id": "8d1b15b9a5ad4579ba059293fdbc32f9",
       "version_major": 2,
       "version_minor": 0
      },
      "text/plain": [
       "HBox(children=(FloatProgress(value=0.0, max=1280.0), HTML(value='')))"
      ]
     },
     "metadata": {},
     "output_type": "display_data"
    },
    {
     "name": "stdout",
     "output_type": "stream",
     "text": [
      "Epoch [97/150], Step [1/1280], Training Loss: 3.79307900494, Validation Loss: 3.00950943013\n",
      "Epoch [97/150], Step [513/1280], Training Loss: 3.53067576575, Validation Loss: 3.35626423046\n",
      "Epoch [97/150], Step [1025/1280], Training Loss: 3.54225116275, Validation Loss: 3.68628239148\n",
      "\n"
     ]
    },
    {
     "data": {
      "application/vnd.jupyter.widget-view+json": {
       "model_id": "9b677320ef1e493ea216a870b15bd00f",
       "version_major": 2,
       "version_minor": 0
      },
      "text/plain": [
       "HBox(children=(FloatProgress(value=0.0, max=1280.0), HTML(value='')))"
      ]
     },
     "metadata": {},
     "output_type": "display_data"
    },
    {
     "name": "stdout",
     "output_type": "stream",
     "text": [
      "Epoch [98/150], Step [1/1280], Training Loss: 3.66132336920, Validation Loss: 2.78301561039\n",
      "Epoch [98/150], Step [513/1280], Training Loss: 3.62669278088, Validation Loss: 3.51194570244\n",
      "Epoch [98/150], Step [1025/1280], Training Loss: 3.38770877199, Validation Loss: 2.92461638878\n",
      "\n"
     ]
    },
    {
     "data": {
      "application/vnd.jupyter.widget-view+json": {
       "model_id": "6e1608ddf0ff4b36b8fb84dcd5457b8a",
       "version_major": 2,
       "version_minor": 0
      },
      "text/plain": [
       "HBox(children=(FloatProgress(value=0.0, max=1280.0), HTML(value='')))"
      ]
     },
     "metadata": {},
     "output_type": "display_data"
    },
    {
     "name": "stdout",
     "output_type": "stream",
     "text": [
      "Epoch [99/150], Step [1/1280], Training Loss: 3.49518856939, Validation Loss: 3.47307736466\n",
      "Epoch [99/150], Step [513/1280], Training Loss: 3.19476128696, Validation Loss: 3.02217996419\n",
      "Epoch [99/150], Step [1025/1280], Training Loss: 3.45134156950, Validation Loss: 2.67651213528\n",
      "\n"
     ]
    },
    {
     "data": {
      "application/vnd.jupyter.widget-view+json": {
       "model_id": "fcb7a455fe1c42d0b15f5dfe70c8e5a4",
       "version_major": 2,
       "version_minor": 0
      },
      "text/plain": [
       "HBox(children=(FloatProgress(value=0.0, max=1280.0), HTML(value='')))"
      ]
     },
     "metadata": {},
     "output_type": "display_data"
    },
    {
     "name": "stdout",
     "output_type": "stream",
     "text": [
      "Epoch [100/150], Step [1/1280], Training Loss: 3.61325793679, Validation Loss: 2.52518183955\n",
      "Epoch [100/150], Step [513/1280], Training Loss: 3.31580344556, Validation Loss: 2.95813341996\n",
      "Epoch [100/150], Step [1025/1280], Training Loss: 3.29777210301, Validation Loss: 3.08227620171\n",
      "\n"
     ]
    },
    {
     "data": {
      "application/vnd.jupyter.widget-view+json": {
       "model_id": "52640733f59c4c4f987421d81c3ae8f5",
       "version_major": 2,
       "version_minor": 0
      },
      "text/plain": [
       "HBox(children=(FloatProgress(value=0.0, max=1280.0), HTML(value='')))"
      ]
     },
     "metadata": {},
     "output_type": "display_data"
    },
    {
     "name": "stdout",
     "output_type": "stream",
     "text": [
      "Epoch [101/150], Step [1/1280], Training Loss: 3.54112026027, Validation Loss: 3.42157238702\n",
      "Epoch [101/150], Step [513/1280], Training Loss: 3.66548869690, Validation Loss: 3.26655822931\n",
      "Epoch [101/150], Step [1025/1280], Training Loss: 3.92764102080, Validation Loss: 3.69994776630\n",
      "\n"
     ]
    },
    {
     "data": {
      "application/vnd.jupyter.widget-view+json": {
       "model_id": "53c8ea7832444ccb8f5ef19a1fc0bcf6",
       "version_major": 2,
       "version_minor": 0
      },
      "text/plain": [
       "HBox(children=(FloatProgress(value=0.0, max=1280.0), HTML(value='')))"
      ]
     },
     "metadata": {},
     "output_type": "display_data"
    },
    {
     "name": "stdout",
     "output_type": "stream",
     "text": [
      "Epoch [102/150], Step [1/1280], Training Loss: 3.65663866739, Validation Loss: 3.13651627541\n",
      "Epoch [102/150], Step [513/1280], Training Loss: 3.36224030349, Validation Loss: 3.02910863941\n",
      "Epoch [102/150], Step [1025/1280], Training Loss: 3.44429274569, Validation Loss: 3.39824562023\n",
      "\n"
     ]
    },
    {
     "data": {
      "application/vnd.jupyter.widget-view+json": {
       "model_id": "60ad096fa93a43efaa47e6a0c38e2733",
       "version_major": 2,
       "version_minor": 0
      },
      "text/plain": [
       "HBox(children=(FloatProgress(value=0.0, max=1280.0), HTML(value='')))"
      ]
     },
     "metadata": {},
     "output_type": "display_data"
    },
    {
     "name": "stdout",
     "output_type": "stream",
     "text": [
      "Epoch [103/150], Step [1/1280], Training Loss: 3.46247750179, Validation Loss: 2.87573952159\n",
      "Epoch [103/150], Step [513/1280], Training Loss: 3.50282076653, Validation Loss: 3.34186731401\n",
      "Epoch [103/150], Step [1025/1280], Training Loss: 3.27849650666, Validation Loss: 3.15044208588\n",
      "\n"
     ]
    },
    {
     "data": {
      "application/vnd.jupyter.widget-view+json": {
       "model_id": "a5572b037e6c48d8876d6490af173734",
       "version_major": 2,
       "version_minor": 0
      },
      "text/plain": [
       "HBox(children=(FloatProgress(value=0.0, max=1280.0), HTML(value='')))"
      ]
     },
     "metadata": {},
     "output_type": "display_data"
    },
    {
     "name": "stdout",
     "output_type": "stream",
     "text": [
      "Epoch [104/150], Step [1/1280], Training Loss: 3.27087173966, Validation Loss: 2.98352339200\n",
      "Epoch [104/150], Step [513/1280], Training Loss: 3.34878043896, Validation Loss: 2.51462232751\n",
      "Epoch [104/150], Step [1025/1280], Training Loss: 3.37590081204, Validation Loss: 3.20814039275\n",
      "\n"
     ]
    },
    {
     "data": {
      "application/vnd.jupyter.widget-view+json": {
       "model_id": "b042951a8f444225ac702e202f1ef6c8",
       "version_major": 2,
       "version_minor": 0
      },
      "text/plain": [
       "HBox(children=(FloatProgress(value=0.0, max=1280.0), HTML(value='')))"
      ]
     },
     "metadata": {},
     "output_type": "display_data"
    },
    {
     "name": "stdout",
     "output_type": "stream",
     "text": [
      "Epoch [105/150], Step [1/1280], Training Loss: 3.26442197196, Validation Loss: 2.54469195030\n",
      "Epoch [105/150], Step [513/1280], Training Loss: 3.31443035980, Validation Loss: 3.09455104243\n",
      "Epoch [105/150], Step [1025/1280], Training Loss: 3.33016636467, Validation Loss: 2.87722075708\n",
      "\n"
     ]
    },
    {
     "data": {
      "application/vnd.jupyter.widget-view+json": {
       "model_id": "68f5bbd957064e5f8c89647835d49b34",
       "version_major": 2,
       "version_minor": 0
      },
      "text/plain": [
       "HBox(children=(FloatProgress(value=0.0, max=1280.0), HTML(value='')))"
      ]
     },
     "metadata": {},
     "output_type": "display_data"
    },
    {
     "name": "stdout",
     "output_type": "stream",
     "text": [
      "Epoch [106/150], Step [1/1280], Training Loss: 3.40977148499, Validation Loss: 2.86928627731\n",
      "Epoch [106/150], Step [513/1280], Training Loss: 3.53788709204, Validation Loss: 3.45888451522\n",
      "Epoch [106/150], Step [1025/1280], Training Loss: 3.19054170414, Validation Loss: 3.25614421448\n",
      "\n"
     ]
    },
    {
     "data": {
      "application/vnd.jupyter.widget-view+json": {
       "model_id": "e50a7363178448a49b27d65f9ce22f90",
       "version_major": 2,
       "version_minor": 0
      },
      "text/plain": [
       "HBox(children=(FloatProgress(value=0.0, max=1280.0), HTML(value='')))"
      ]
     },
     "metadata": {},
     "output_type": "display_data"
    },
    {
     "name": "stdout",
     "output_type": "stream",
     "text": [
      "Epoch [107/150], Step [1/1280], Training Loss: 3.44403236702, Validation Loss: 3.17416453775\n",
      "Epoch [107/150], Step [513/1280], Training Loss: 3.52617368190, Validation Loss: 3.42391435927\n",
      "Epoch [107/150], Step [1025/1280], Training Loss: 3.19999894249, Validation Loss: 3.14493194903\n",
      "\n"
     ]
    },
    {
     "data": {
      "application/vnd.jupyter.widget-view+json": {
       "model_id": "b56c4be3dea245d0aa9fde44709e6428",
       "version_major": 2,
       "version_minor": 0
      },
      "text/plain": [
       "HBox(children=(FloatProgress(value=0.0, max=1280.0), HTML(value='')))"
      ]
     },
     "metadata": {},
     "output_type": "display_data"
    },
    {
     "name": "stdout",
     "output_type": "stream",
     "text": [
      "Epoch [108/150], Step [1/1280], Training Loss: 3.42572223852, Validation Loss: 2.91122808475\n",
      "Epoch [108/150], Step [513/1280], Training Loss: 3.30291255876, Validation Loss: 3.11672739464\n",
      "Epoch [108/150], Step [1025/1280], Training Loss: 3.31507200884, Validation Loss: 3.02831215777\n",
      "\n"
     ]
    },
    {
     "data": {
      "application/vnd.jupyter.widget-view+json": {
       "model_id": "2d1dee57e64e474fb92c1af92c0b74fa",
       "version_major": 2,
       "version_minor": 0
      },
      "text/plain": [
       "HBox(children=(FloatProgress(value=0.0, max=1280.0), HTML(value='')))"
      ]
     },
     "metadata": {},
     "output_type": "display_data"
    },
    {
     "name": "stdout",
     "output_type": "stream",
     "text": [
      "Epoch [109/150], Step [1/1280], Training Loss: 3.66046352308, Validation Loss: 3.18912998219\n",
      "Epoch [109/150], Step [513/1280], Training Loss: 3.30111047967, Validation Loss: 2.57823501364\n",
      "Epoch [109/150], Step [1025/1280], Training Loss: 3.28895446590, Validation Loss: 3.13308150120\n",
      "\n"
     ]
    },
    {
     "data": {
      "application/vnd.jupyter.widget-view+json": {
       "model_id": "b0266660f8094017b1d2da2cb501c7c0",
       "version_major": 2,
       "version_minor": 0
      },
      "text/plain": [
       "HBox(children=(FloatProgress(value=0.0, max=1280.0), HTML(value='')))"
      ]
     },
     "metadata": {},
     "output_type": "display_data"
    },
    {
     "name": "stdout",
     "output_type": "stream",
     "text": [
      "Epoch [110/150], Step [1/1280], Training Loss: 3.32842459292, Validation Loss: 2.82495452265\n",
      "Epoch [110/150], Step [513/1280], Training Loss: 3.20947944729, Validation Loss: 3.22888488292\n",
      "Epoch [110/150], Step [1025/1280], Training Loss: 2.91717168418, Validation Loss: 2.67845961090\n",
      "\n"
     ]
    },
    {
     "data": {
      "application/vnd.jupyter.widget-view+json": {
       "model_id": "710ae1ac801b421ea53f1b7061693898",
       "version_major": 2,
       "version_minor": 0
      },
      "text/plain": [
       "HBox(children=(FloatProgress(value=0.0, max=1280.0), HTML(value='')))"
      ]
     },
     "metadata": {},
     "output_type": "display_data"
    },
    {
     "name": "stdout",
     "output_type": "stream",
     "text": [
      "Epoch [111/150], Step [1/1280], Training Loss: 3.48435841055, Validation Loss: 2.94424534331\n",
      "Epoch [111/150], Step [513/1280], Training Loss: 3.32392687303, Validation Loss: 3.25724679239\n",
      "Epoch [111/150], Step [1025/1280], Training Loss: 3.65665983666, Validation Loss: 2.66162863041\n",
      "\n"
     ]
    },
    {
     "data": {
      "application/vnd.jupyter.widget-view+json": {
       "model_id": "a3135585f8c04f57ad550a8513fec30d",
       "version_major": 2,
       "version_minor": 0
      },
      "text/plain": [
       "HBox(children=(FloatProgress(value=0.0, max=1280.0), HTML(value='')))"
      ]
     },
     "metadata": {},
     "output_type": "display_data"
    },
    {
     "name": "stdout",
     "output_type": "stream",
     "text": [
      "Epoch [112/150], Step [1/1280], Training Loss: 3.71988561959, Validation Loss: 3.37706943322\n",
      "Epoch [112/150], Step [513/1280], Training Loss: 3.23166862017, Validation Loss: 2.93279816684\n",
      "Epoch [112/150], Step [1025/1280], Training Loss: 3.39007271787, Validation Loss: 2.89656210023\n",
      "\n"
     ]
    },
    {
     "data": {
      "application/vnd.jupyter.widget-view+json": {
       "model_id": "fc3f91d654994cda9d84d0b496696b11",
       "version_major": 2,
       "version_minor": 0
      },
      "text/plain": [
       "HBox(children=(FloatProgress(value=0.0, max=1280.0), HTML(value='')))"
      ]
     },
     "metadata": {},
     "output_type": "display_data"
    },
    {
     "name": "stdout",
     "output_type": "stream",
     "text": [
      "Epoch [113/150], Step [1/1280], Training Loss: 3.24930503225, Validation Loss: 3.00518430646\n",
      "Epoch [113/150], Step [513/1280], Training Loss: 3.11462223375, Validation Loss: 3.33655465734\n",
      "Epoch [113/150], Step [1025/1280], Training Loss: 3.11022933630, Validation Loss: 2.97289076861\n",
      "\n"
     ]
    },
    {
     "data": {
      "application/vnd.jupyter.widget-view+json": {
       "model_id": "4e47c8cad87742dcaeed57dc51dcdeff",
       "version_major": 2,
       "version_minor": 0
      },
      "text/plain": [
       "HBox(children=(FloatProgress(value=0.0, max=1280.0), HTML(value='')))"
      ]
     },
     "metadata": {},
     "output_type": "display_data"
    },
    {
     "name": "stdout",
     "output_type": "stream",
     "text": [
      "Epoch [114/150], Step [1/1280], Training Loss: 3.28114041770, Validation Loss: 3.05039052024\n",
      "Epoch [114/150], Step [513/1280], Training Loss: 3.59448654557, Validation Loss: 3.78937123277\n",
      "Epoch [114/150], Step [1025/1280], Training Loss: 3.28438166794, Validation Loss: 3.32446534414\n",
      "\n"
     ]
    },
    {
     "data": {
      "application/vnd.jupyter.widget-view+json": {
       "model_id": "24c72848fe9544519abcafd8cb8cb88b",
       "version_major": 2,
       "version_minor": 0
      },
      "text/plain": [
       "HBox(children=(FloatProgress(value=0.0, max=1280.0), HTML(value='')))"
      ]
     },
     "metadata": {},
     "output_type": "display_data"
    },
    {
     "name": "stdout",
     "output_type": "stream",
     "text": [
      "Epoch [115/150], Step [1/1280], Training Loss: 3.17500467822, Validation Loss: 3.08766308481\n",
      "Epoch [115/150], Step [513/1280], Training Loss: 3.31757690407, Validation Loss: 3.16790289336\n",
      "Epoch [115/150], Step [1025/1280], Training Loss: 3.13002735058, Validation Loss: 2.82392176659\n",
      "\n"
     ]
    },
    {
     "data": {
      "application/vnd.jupyter.widget-view+json": {
       "model_id": "1593aa5b36a140dc8e1b82601a7084e6",
       "version_major": 2,
       "version_minor": 0
      },
      "text/plain": [
       "HBox(children=(FloatProgress(value=0.0, max=1280.0), HTML(value='')))"
      ]
     },
     "metadata": {},
     "output_type": "display_data"
    },
    {
     "name": "stdout",
     "output_type": "stream",
     "text": [
      "Epoch [116/150], Step [1/1280], Training Loss: 3.07694300994, Validation Loss: 3.21574622251\n",
      "Epoch [116/150], Step [513/1280], Training Loss: 3.14927186575, Validation Loss: 2.98118825316\n",
      "Epoch [116/150], Step [1025/1280], Training Loss: 3.40413914686, Validation Loss: 3.21869001092\n",
      "\n"
     ]
    },
    {
     "data": {
      "application/vnd.jupyter.widget-view+json": {
       "model_id": "10cc4bb3517345edabca1f75c5fa776d",
       "version_major": 2,
       "version_minor": 0
      },
      "text/plain": [
       "HBox(children=(FloatProgress(value=0.0, max=1280.0), HTML(value='')))"
      ]
     },
     "metadata": {},
     "output_type": "display_data"
    },
    {
     "name": "stdout",
     "output_type": "stream",
     "text": [
      "Epoch [117/150], Step [1/1280], Training Loss: 3.34601021915, Validation Loss: 2.98665913585\n",
      "Epoch [117/150], Step [513/1280], Training Loss: 3.36257843515, Validation Loss: 3.08513645459\n",
      "Epoch [117/150], Step [1025/1280], Training Loss: 3.12160412917, Validation Loss: 2.69430458293\n",
      "\n"
     ]
    },
    {
     "data": {
      "application/vnd.jupyter.widget-view+json": {
       "model_id": "4481f176658749dbb4d6d5944143f1b9",
       "version_major": 2,
       "version_minor": 0
      },
      "text/plain": [
       "HBox(children=(FloatProgress(value=0.0, max=1280.0), HTML(value='')))"
      ]
     },
     "metadata": {},
     "output_type": "display_data"
    },
    {
     "name": "stdout",
     "output_type": "stream",
     "text": [
      "Epoch [118/150], Step [1/1280], Training Loss: 3.30408950621, Validation Loss: 2.64205883534\n",
      "Epoch [118/150], Step [513/1280], Training Loss: 3.05166905016, Validation Loss: 2.57149733177\n",
      "Epoch [118/150], Step [1025/1280], Training Loss: 3.24543085968, Validation Loss: 2.79088965835\n",
      "\n"
     ]
    },
    {
     "data": {
      "application/vnd.jupyter.widget-view+json": {
       "model_id": "c4490428e1b1448ca94b89c5ee0f572c",
       "version_major": 2,
       "version_minor": 0
      },
      "text/plain": [
       "HBox(children=(FloatProgress(value=0.0, max=1280.0), HTML(value='')))"
      ]
     },
     "metadata": {},
     "output_type": "display_data"
    },
    {
     "name": "stdout",
     "output_type": "stream",
     "text": [
      "Epoch [119/150], Step [1/1280], Training Loss: 3.10003238502, Validation Loss: 3.46960198737\n",
      "Epoch [119/150], Step [513/1280], Training Loss: 3.06165758977, Validation Loss: 2.94366539222\n",
      "Epoch [119/150], Step [1025/1280], Training Loss: 3.25016217485, Validation Loss: 2.67385154872\n",
      "\n"
     ]
    },
    {
     "data": {
      "application/vnd.jupyter.widget-view+json": {
       "model_id": "aa8cb4432c4d4e6bace08c234bb77446",
       "version_major": 2,
       "version_minor": 0
      },
      "text/plain": [
       "HBox(children=(FloatProgress(value=0.0, max=1280.0), HTML(value='')))"
      ]
     },
     "metadata": {},
     "output_type": "display_data"
    },
    {
     "name": "stdout",
     "output_type": "stream",
     "text": [
      "Epoch [120/150], Step [1/1280], Training Loss: 3.41410214987, Validation Loss: 2.95641984744\n",
      "Epoch [120/150], Step [513/1280], Training Loss: 3.52287654007, Validation Loss: 3.05339730639\n",
      "Epoch [120/150], Step [1025/1280], Training Loss: 2.88021804390, Validation Loss: 2.80947616753\n",
      "\n"
     ]
    },
    {
     "data": {
      "application/vnd.jupyter.widget-view+json": {
       "model_id": "856158d650bb4725b135f886c1463371",
       "version_major": 2,
       "version_minor": 0
      },
      "text/plain": [
       "HBox(children=(FloatProgress(value=0.0, max=1280.0), HTML(value='')))"
      ]
     },
     "metadata": {},
     "output_type": "display_data"
    },
    {
     "name": "stdout",
     "output_type": "stream",
     "text": [
      "Epoch [121/150], Step [1/1280], Training Loss: 3.07855737197, Validation Loss: 2.76102984478\n",
      "Epoch [121/150], Step [513/1280], Training Loss: 3.19101386899, Validation Loss: 2.65813894824\n",
      "Epoch [121/150], Step [1025/1280], Training Loss: 3.25479497401, Validation Loss: 2.55139212967\n",
      "\n"
     ]
    },
    {
     "data": {
      "application/vnd.jupyter.widget-view+json": {
       "model_id": "61f96dc7a2b74af1a6d11f469c11925d",
       "version_major": 2,
       "version_minor": 0
      },
      "text/plain": [
       "HBox(children=(FloatProgress(value=0.0, max=1280.0), HTML(value='')))"
      ]
     },
     "metadata": {},
     "output_type": "display_data"
    },
    {
     "name": "stdout",
     "output_type": "stream",
     "text": [
      "Epoch [122/150], Step [1/1280], Training Loss: 3.16001473045, Validation Loss: 2.83999585715\n",
      "Epoch [122/150], Step [513/1280], Training Loss: 3.11214240922, Validation Loss: 2.88952608959\n",
      "Epoch [122/150], Step [1025/1280], Training Loss: 3.12511401080, Validation Loss: 2.87225144200\n",
      "\n"
     ]
    },
    {
     "data": {
      "application/vnd.jupyter.widget-view+json": {
       "model_id": "79b7c9b185f043678620fea48664d2ed",
       "version_major": 2,
       "version_minor": 0
      },
      "text/plain": [
       "HBox(children=(FloatProgress(value=0.0, max=1280.0), HTML(value='')))"
      ]
     },
     "metadata": {},
     "output_type": "display_data"
    },
    {
     "name": "stdout",
     "output_type": "stream",
     "text": [
      "Epoch [123/150], Step [1/1280], Training Loss: 3.16124264922, Validation Loss: 2.72965633198\n",
      "Epoch [123/150], Step [513/1280], Training Loss: 3.19313028183, Validation Loss: 2.96103775861\n",
      "Epoch [123/150], Step [1025/1280], Training Loss: 2.94386810085, Validation Loss: 2.83214879137\n",
      "\n"
     ]
    },
    {
     "data": {
      "application/vnd.jupyter.widget-view+json": {
       "model_id": "3c78567103234dda83a50ca8e2920fdf",
       "version_major": 2,
       "version_minor": 0
      },
      "text/plain": [
       "HBox(children=(FloatProgress(value=0.0, max=1280.0), HTML(value='')))"
      ]
     },
     "metadata": {},
     "output_type": "display_data"
    },
    {
     "name": "stdout",
     "output_type": "stream",
     "text": [
      "Epoch [124/150], Step [1/1280], Training Loss: 3.12676006617, Validation Loss: 2.89126624665\n",
      "Epoch [124/150], Step [513/1280], Training Loss: 2.76807284736, Validation Loss: 2.40022699311\n",
      "Epoch [124/150], Step [1025/1280], Training Loss: 3.13002223244, Validation Loss: 3.19520008958\n",
      "\n"
     ]
    },
    {
     "data": {
      "application/vnd.jupyter.widget-view+json": {
       "model_id": "5a1f9df959b44ce49f168627e6cc07fb",
       "version_major": 2,
       "version_minor": 0
      },
      "text/plain": [
       "HBox(children=(FloatProgress(value=0.0, max=1280.0), HTML(value='')))"
      ]
     },
     "metadata": {},
     "output_type": "display_data"
    },
    {
     "name": "stdout",
     "output_type": "stream",
     "text": [
      "Epoch [125/150], Step [1/1280], Training Loss: 3.08922446342, Validation Loss: 2.44477144456\n",
      "Epoch [125/150], Step [513/1280], Training Loss: 3.22849964303, Validation Loss: 3.17687434707\n",
      "Epoch [125/150], Step [1025/1280], Training Loss: 2.95092148253, Validation Loss: 2.75371776614\n",
      "\n"
     ]
    },
    {
     "data": {
      "application/vnd.jupyter.widget-view+json": {
       "model_id": "f09d6afb54e14459b902175ae55a6071",
       "version_major": 2,
       "version_minor": 0
      },
      "text/plain": [
       "HBox(children=(FloatProgress(value=0.0, max=1280.0), HTML(value='')))"
      ]
     },
     "metadata": {},
     "output_type": "display_data"
    },
    {
     "name": "stdout",
     "output_type": "stream",
     "text": [
      "Epoch [126/150], Step [1/1280], Training Loss: 2.86150904617, Validation Loss: 2.81703327814\n",
      "Epoch [126/150], Step [513/1280], Training Loss: 3.36370695181, Validation Loss: 3.56379902745\n",
      "Epoch [126/150], Step [1025/1280], Training Loss: 3.04088493820, Validation Loss: 2.87563554288\n",
      "\n"
     ]
    },
    {
     "data": {
      "application/vnd.jupyter.widget-view+json": {
       "model_id": "54fac29ba4424ff698d80141a3e0ba2e",
       "version_major": 2,
       "version_minor": 0
      },
      "text/plain": [
       "HBox(children=(FloatProgress(value=0.0, max=1280.0), HTML(value='')))"
      ]
     },
     "metadata": {},
     "output_type": "display_data"
    },
    {
     "name": "stdout",
     "output_type": "stream",
     "text": [
      "Epoch [127/150], Step [1/1280], Training Loss: 3.32802681427, Validation Loss: 2.88099017957\n",
      "Epoch [127/150], Step [513/1280], Training Loss: 2.84714201700, Validation Loss: 2.47928197976\n",
      "Epoch [127/150], Step [1025/1280], Training Loss: 3.02888384709, Validation Loss: 2.48937680941\n",
      "\n"
     ]
    },
    {
     "data": {
      "application/vnd.jupyter.widget-view+json": {
       "model_id": "15c689a9c5f84642953a405eb9721b56",
       "version_major": 2,
       "version_minor": 0
      },
      "text/plain": [
       "HBox(children=(FloatProgress(value=0.0, max=1280.0), HTML(value='')))"
      ]
     },
     "metadata": {},
     "output_type": "display_data"
    },
    {
     "name": "stdout",
     "output_type": "stream",
     "text": [
      "Epoch [128/150], Step [1/1280], Training Loss: 3.10186730521, Validation Loss: 2.55284723715\n",
      "Epoch [128/150], Step [513/1280], Training Loss: 3.04386005446, Validation Loss: 3.28811858974\n",
      "Epoch [128/150], Step [1025/1280], Training Loss: 3.03866878443, Validation Loss: 3.33699455590\n",
      "\n"
     ]
    },
    {
     "data": {
      "application/vnd.jupyter.widget-view+json": {
       "model_id": "46737a70913544059527d2253fef0788",
       "version_major": 2,
       "version_minor": 0
      },
      "text/plain": [
       "HBox(children=(FloatProgress(value=0.0, max=1280.0), HTML(value='')))"
      ]
     },
     "metadata": {},
     "output_type": "display_data"
    },
    {
     "name": "stdout",
     "output_type": "stream",
     "text": [
      "Epoch [129/150], Step [1/1280], Training Loss: 3.13188286277, Validation Loss: 2.75584336936\n",
      "Epoch [129/150], Step [513/1280], Training Loss: 3.08592752409, Validation Loss: 2.84281795537\n",
      "Epoch [129/150], Step [1025/1280], Training Loss: 2.78682199113, Validation Loss: 2.30981486613\n",
      "\n"
     ]
    },
    {
     "data": {
      "application/vnd.jupyter.widget-view+json": {
       "model_id": "3823d805a2434365b0f1185d30a1237f",
       "version_major": 2,
       "version_minor": 0
      },
      "text/plain": [
       "HBox(children=(FloatProgress(value=0.0, max=1280.0), HTML(value='')))"
      ]
     },
     "metadata": {},
     "output_type": "display_data"
    },
    {
     "name": "stdout",
     "output_type": "stream",
     "text": [
      "Epoch [130/150], Step [1/1280], Training Loss: 2.85816045163, Validation Loss: 2.55949194354\n",
      "Epoch [130/150], Step [513/1280], Training Loss: 2.96873936411, Validation Loss: 2.37779926612\n",
      "Epoch [130/150], Step [1025/1280], Training Loss: 2.92087047458, Validation Loss: 2.65791854894\n",
      "\n"
     ]
    },
    {
     "data": {
      "application/vnd.jupyter.widget-view+json": {
       "model_id": "b0f318717b26496896c24e867f6465f7",
       "version_major": 2,
       "version_minor": 0
      },
      "text/plain": [
       "HBox(children=(FloatProgress(value=0.0, max=1280.0), HTML(value='')))"
      ]
     },
     "metadata": {},
     "output_type": "display_data"
    },
    {
     "name": "stdout",
     "output_type": "stream",
     "text": [
      "Epoch [131/150], Step [1/1280], Training Loss: 3.10958913218, Validation Loss: 3.23653886817\n",
      "Epoch [131/150], Step [513/1280], Training Loss: 3.33626978015, Validation Loss: 3.15078578452\n",
      "Epoch [131/150], Step [1025/1280], Training Loss: 3.11892258739, Validation Loss: 3.16982792775\n",
      "\n"
     ]
    },
    {
     "data": {
      "application/vnd.jupyter.widget-view+json": {
       "model_id": "def6c7345fca40f38259d727838a5c52",
       "version_major": 2,
       "version_minor": 0
      },
      "text/plain": [
       "HBox(children=(FloatProgress(value=0.0, max=1280.0), HTML(value='')))"
      ]
     },
     "metadata": {},
     "output_type": "display_data"
    },
    {
     "name": "stdout",
     "output_type": "stream",
     "text": [
      "Epoch [132/150], Step [1/1280], Training Loss: 3.14507418536, Validation Loss: 2.53509345878\n",
      "Epoch [132/150], Step [513/1280], Training Loss: 3.14502865761, Validation Loss: 3.27189022832\n",
      "Epoch [132/150], Step [1025/1280], Training Loss: 2.99892958992, Validation Loss: 3.96651941539\n",
      "\n"
     ]
    },
    {
     "data": {
      "application/vnd.jupyter.widget-view+json": {
       "model_id": "8e7c7bf9a2f348f1b4c8c9c09d0fcf2e",
       "version_major": 2,
       "version_minor": 0
      },
      "text/plain": [
       "HBox(children=(FloatProgress(value=0.0, max=1280.0), HTML(value='')))"
      ]
     },
     "metadata": {},
     "output_type": "display_data"
    },
    {
     "name": "stdout",
     "output_type": "stream",
     "text": [
      "Epoch [133/150], Step [1/1280], Training Loss: 3.09799375276, Validation Loss: 2.59808717448\n",
      "Epoch [133/150], Step [513/1280], Training Loss: 3.09717511510, Validation Loss: 2.77963848651\n",
      "Epoch [133/150], Step [1025/1280], Training Loss: 2.93596552893, Validation Loss: 2.74888999634\n",
      "\n"
     ]
    },
    {
     "data": {
      "application/vnd.jupyter.widget-view+json": {
       "model_id": "3b3c017650d445ed806f288e37bc6305",
       "version_major": 2,
       "version_minor": 0
      },
      "text/plain": [
       "HBox(children=(FloatProgress(value=0.0, max=1280.0), HTML(value='')))"
      ]
     },
     "metadata": {},
     "output_type": "display_data"
    },
    {
     "name": "stdout",
     "output_type": "stream",
     "text": [
      "Epoch [134/150], Step [1/1280], Training Loss: 3.17336196216, Validation Loss: 2.94180747555\n",
      "Epoch [134/150], Step [513/1280], Training Loss: 2.80919130263, Validation Loss: 2.50840727330\n",
      "Epoch [134/150], Step [1025/1280], Training Loss: 2.92612189521, Validation Loss: 2.58363921257\n",
      "\n"
     ]
    },
    {
     "data": {
      "application/vnd.jupyter.widget-view+json": {
       "model_id": "62522c881d5c42c5981c6207d70d8cd9",
       "version_major": 2,
       "version_minor": 0
      },
      "text/plain": [
       "HBox(children=(FloatProgress(value=0.0, max=1280.0), HTML(value='')))"
      ]
     },
     "metadata": {},
     "output_type": "display_data"
    },
    {
     "name": "stdout",
     "output_type": "stream",
     "text": [
      "Epoch [135/150], Step [1/1280], Training Loss: 2.96593324355, Validation Loss: 2.67130567985\n",
      "Epoch [135/150], Step [513/1280], Training Loss: 3.05328388142, Validation Loss: 2.97108041802\n",
      "Epoch [135/150], Step [1025/1280], Training Loss: 2.81778913953, Validation Loss: 2.39079459362\n",
      "\n"
     ]
    },
    {
     "data": {
      "application/vnd.jupyter.widget-view+json": {
       "model_id": "dcb973182b9949dab70108df22ce9e6d",
       "version_major": 2,
       "version_minor": 0
      },
      "text/plain": [
       "HBox(children=(FloatProgress(value=0.0, max=1280.0), HTML(value='')))"
      ]
     },
     "metadata": {},
     "output_type": "display_data"
    },
    {
     "name": "stdout",
     "output_type": "stream",
     "text": [
      "Epoch [136/150], Step [1/1280], Training Loss: 2.90225229839, Validation Loss: 2.77370525997\n",
      "Epoch [136/150], Step [513/1280], Training Loss: 3.10699866598, Validation Loss: 2.86721445293\n",
      "Epoch [136/150], Step [1025/1280], Training Loss: 3.01401113954, Validation Loss: 2.76382036083\n",
      "\n"
     ]
    },
    {
     "data": {
      "application/vnd.jupyter.widget-view+json": {
       "model_id": "41d74c12157b43fbac8837fea78dfeab",
       "version_major": 2,
       "version_minor": 0
      },
      "text/plain": [
       "HBox(children=(FloatProgress(value=0.0, max=1280.0), HTML(value='')))"
      ]
     },
     "metadata": {},
     "output_type": "display_data"
    },
    {
     "name": "stdout",
     "output_type": "stream",
     "text": [
      "Epoch [137/150], Step [1/1280], Training Loss: 3.01056679231, Validation Loss: 2.73221194969\n",
      "Epoch [137/150], Step [513/1280], Training Loss: 3.02199051064, Validation Loss: 3.04376914097\n",
      "Epoch [137/150], Step [1025/1280], Training Loss: 2.83690350783, Validation Loss: 2.58760044657\n",
      "\n"
     ]
    },
    {
     "data": {
      "application/vnd.jupyter.widget-view+json": {
       "model_id": "95477a0f60a841dab683204d9ad5c16c",
       "version_major": 2,
       "version_minor": 0
      },
      "text/plain": [
       "HBox(children=(FloatProgress(value=0.0, max=1280.0), HTML(value='')))"
      ]
     },
     "metadata": {},
     "output_type": "display_data"
    },
    {
     "name": "stdout",
     "output_type": "stream",
     "text": [
      "Epoch [138/150], Step [1/1280], Training Loss: 3.03395839229, Validation Loss: 2.84780434176\n",
      "Epoch [138/150], Step [513/1280], Training Loss: 2.88892392857, Validation Loss: 2.68827644426\n",
      "Epoch [138/150], Step [1025/1280], Training Loss: 3.03438058302, Validation Loss: 2.69562697737\n",
      "\n"
     ]
    },
    {
     "data": {
      "application/vnd.jupyter.widget-view+json": {
       "model_id": "863724e009ff4f939e57cd494991f26b",
       "version_major": 2,
       "version_minor": 0
      },
      "text/plain": [
       "HBox(children=(FloatProgress(value=0.0, max=1280.0), HTML(value='')))"
      ]
     },
     "metadata": {},
     "output_type": "display_data"
    },
    {
     "name": "stdout",
     "output_type": "stream",
     "text": [
      "Epoch [139/150], Step [1/1280], Training Loss: 2.91639526043, Validation Loss: 2.57458676819\n",
      "Epoch [139/150], Step [513/1280], Training Loss: 2.85271110420, Validation Loss: 2.45302044868\n",
      "Epoch [139/150], Step [1025/1280], Training Loss: 2.84459010322, Validation Loss: 2.86612471651\n",
      "\n"
     ]
    },
    {
     "data": {
      "application/vnd.jupyter.widget-view+json": {
       "model_id": "fb6069d982914e4cab397ae3b3cb1f70",
       "version_major": 2,
       "version_minor": 0
      },
      "text/plain": [
       "HBox(children=(FloatProgress(value=0.0, max=1280.0), HTML(value='')))"
      ]
     },
     "metadata": {},
     "output_type": "display_data"
    },
    {
     "name": "stdout",
     "output_type": "stream",
     "text": [
      "Epoch [140/150], Step [1/1280], Training Loss: 2.85986266748, Validation Loss: 2.61818758407\n",
      "Epoch [140/150], Step [513/1280], Training Loss: 2.79494862070, Validation Loss: 2.44247165888\n",
      "Epoch [140/150], Step [1025/1280], Training Loss: 3.11889513561, Validation Loss: 2.60462769098\n",
      "\n"
     ]
    },
    {
     "data": {
      "application/vnd.jupyter.widget-view+json": {
       "model_id": "dad6cfe16d264d6fb6f23e53a53f48a3",
       "version_major": 2,
       "version_minor": 0
      },
      "text/plain": [
       "HBox(children=(FloatProgress(value=0.0, max=1280.0), HTML(value='')))"
      ]
     },
     "metadata": {},
     "output_type": "display_data"
    },
    {
     "name": "stdout",
     "output_type": "stream",
     "text": [
      "Epoch [141/150], Step [1/1280], Training Loss: 2.91091264315, Validation Loss: 3.01984135145\n",
      "Epoch [141/150], Step [513/1280], Training Loss: 3.24050017022, Validation Loss: 3.14955328175\n",
      "Epoch [141/150], Step [1025/1280], Training Loss: 2.95720049668, Validation Loss: 2.69027924686\n",
      "\n"
     ]
    },
    {
     "data": {
      "application/vnd.jupyter.widget-view+json": {
       "model_id": "4b7bb2b4d0f44bb7a1ec897c388bce84",
       "version_major": 2,
       "version_minor": 0
      },
      "text/plain": [
       "HBox(children=(FloatProgress(value=0.0, max=1280.0), HTML(value='')))"
      ]
     },
     "metadata": {},
     "output_type": "display_data"
    },
    {
     "name": "stdout",
     "output_type": "stream",
     "text": [
      "Epoch [142/150], Step [1/1280], Training Loss: 3.06642598764, Validation Loss: 2.66561960541\n",
      "Epoch [142/150], Step [513/1280], Training Loss: 2.91930784234, Validation Loss: 2.52081871432\n",
      "Epoch [142/150], Step [1025/1280], Training Loss: 3.22991998916, Validation Loss: 3.05619260699\n",
      "\n"
     ]
    },
    {
     "data": {
      "application/vnd.jupyter.widget-view+json": {
       "model_id": "01289ed80bb840fd90ae8855d67f3017",
       "version_major": 2,
       "version_minor": 0
      },
      "text/plain": [
       "HBox(children=(FloatProgress(value=0.0, max=1280.0), HTML(value='')))"
      ]
     },
     "metadata": {},
     "output_type": "display_data"
    },
    {
     "name": "stdout",
     "output_type": "stream",
     "text": [
      "Epoch [143/150], Step [1/1280], Training Loss: 3.05062403084, Validation Loss: 2.90410320902\n",
      "Epoch [143/150], Step [513/1280], Training Loss: 2.86987131849, Validation Loss: 2.85357327955\n",
      "Epoch [143/150], Step [1025/1280], Training Loss: 2.63070858563, Validation Loss: 2.29794297337\n",
      "\n"
     ]
    },
    {
     "data": {
      "application/vnd.jupyter.widget-view+json": {
       "model_id": "0a5671e30b4c4d5a996cb8d57e197430",
       "version_major": 2,
       "version_minor": 0
      },
      "text/plain": [
       "HBox(children=(FloatProgress(value=0.0, max=1280.0), HTML(value='')))"
      ]
     },
     "metadata": {},
     "output_type": "display_data"
    },
    {
     "name": "stdout",
     "output_type": "stream",
     "text": [
      "Epoch [144/150], Step [1/1280], Training Loss: 2.86414602054, Validation Loss: 2.64029660638\n",
      "Epoch [144/150], Step [513/1280], Training Loss: 2.88645101776, Validation Loss: 2.71017739119\n",
      "Epoch [144/150], Step [1025/1280], Training Loss: 3.09680041956, Validation Loss: 2.93185508297\n",
      "\n"
     ]
    },
    {
     "data": {
      "application/vnd.jupyter.widget-view+json": {
       "model_id": "1a9aa09fca9b48c0a7c3db8e503ac1ea",
       "version_major": 2,
       "version_minor": 0
      },
      "text/plain": [
       "HBox(children=(FloatProgress(value=0.0, max=1280.0), HTML(value='')))"
      ]
     },
     "metadata": {},
     "output_type": "display_data"
    },
    {
     "name": "stdout",
     "output_type": "stream",
     "text": [
      "Epoch [145/150], Step [1/1280], Training Loss: 2.96292112687, Validation Loss: 2.53409264592\n",
      "Epoch [145/150], Step [513/1280], Training Loss: 2.70776821878, Validation Loss: 2.68894875230\n",
      "Epoch [145/150], Step [1025/1280], Training Loss: 2.82878390042, Validation Loss: 2.50522948902\n",
      "\n"
     ]
    },
    {
     "data": {
      "application/vnd.jupyter.widget-view+json": {
       "model_id": "ff0ebd22033e40bc9fcd9320383392f6",
       "version_major": 2,
       "version_minor": 0
      },
      "text/plain": [
       "HBox(children=(FloatProgress(value=0.0, max=1280.0), HTML(value='')))"
      ]
     },
     "metadata": {},
     "output_type": "display_data"
    },
    {
     "name": "stdout",
     "output_type": "stream",
     "text": [
      "Epoch [146/150], Step [1/1280], Training Loss: 2.69731978930, Validation Loss: 2.95187326714\n",
      "Epoch [146/150], Step [513/1280], Training Loss: 3.35943664125, Validation Loss: 2.85636278616\n",
      "Epoch [146/150], Step [1025/1280], Training Loss: 3.04552127067, Validation Loss: 3.22242274947\n",
      "\n"
     ]
    },
    {
     "data": {
      "application/vnd.jupyter.widget-view+json": {
       "model_id": "56ed9c1bbde04ea0a0d2ba31df09496e",
       "version_major": 2,
       "version_minor": 0
      },
      "text/plain": [
       "HBox(children=(FloatProgress(value=0.0, max=1280.0), HTML(value='')))"
      ]
     },
     "metadata": {},
     "output_type": "display_data"
    },
    {
     "name": "stdout",
     "output_type": "stream",
     "text": [
      "Epoch [147/150], Step [1/1280], Training Loss: 2.93683354016, Validation Loss: 2.57373058578\n",
      "Epoch [147/150], Step [513/1280], Training Loss: 2.86642289725, Validation Loss: 2.38408749894\n",
      "Epoch [147/150], Step [1025/1280], Training Loss: 2.77335823728, Validation Loss: 2.63391344084\n",
      "\n"
     ]
    },
    {
     "data": {
      "application/vnd.jupyter.widget-view+json": {
       "model_id": "38e2b594478e4162b6fc6d90124e33b5",
       "version_major": 2,
       "version_minor": 0
      },
      "text/plain": [
       "HBox(children=(FloatProgress(value=0.0, max=1280.0), HTML(value='')))"
      ]
     },
     "metadata": {},
     "output_type": "display_data"
    },
    {
     "name": "stdout",
     "output_type": "stream",
     "text": [
      "Epoch [148/150], Step [1/1280], Training Loss: 3.08240617921, Validation Loss: 2.60234513353\n",
      "Epoch [148/150], Step [513/1280], Training Loss: 2.71671079178, Validation Loss: 2.34835730936\n",
      "Epoch [148/150], Step [1025/1280], Training Loss: 2.84569316256, Validation Loss: 2.99771043577\n",
      "\n"
     ]
    },
    {
     "data": {
      "application/vnd.jupyter.widget-view+json": {
       "model_id": "82e486146a0240fd9073e4f49a28fbe0",
       "version_major": 2,
       "version_minor": 0
      },
      "text/plain": [
       "HBox(children=(FloatProgress(value=0.0, max=1280.0), HTML(value='')))"
      ]
     },
     "metadata": {},
     "output_type": "display_data"
    },
    {
     "name": "stdout",
     "output_type": "stream",
     "text": [
      "Epoch [149/150], Step [1/1280], Training Loss: 2.88398171009, Validation Loss: 2.81950647920\n",
      "Epoch [149/150], Step [513/1280], Training Loss: 2.64143658605, Validation Loss: 2.54024439024\n",
      "Epoch [149/150], Step [1025/1280], Training Loss: 2.75932997694, Validation Loss: 2.88243644133\n",
      "\n"
     ]
    },
    {
     "data": {
      "application/vnd.jupyter.widget-view+json": {
       "model_id": "c444d68e77554f018b064e6c60475591",
       "version_major": 2,
       "version_minor": 0
      },
      "text/plain": [
       "HBox(children=(FloatProgress(value=0.0, max=1280.0), HTML(value='')))"
      ]
     },
     "metadata": {},
     "output_type": "display_data"
    },
    {
     "name": "stdout",
     "output_type": "stream",
     "text": [
      "Epoch [150/150], Step [1/1280], Training Loss: 2.73372440638, Validation Loss: 2.97650281853\n",
      "Epoch [150/150], Step [513/1280], Training Loss: 2.84437290814, Validation Loss: 2.63687727464\n",
      "Epoch [150/150], Step [1025/1280], Training Loss: 2.65204841190, Validation Loss: 2.64867212740\n",
      "\n"
     ]
    }
   ],
   "source": [
    "# Loss and optimizer\n",
    "for epoch in range(num_epochs):    \n",
    "    torch.save(model.state_dict(), tag+\"epoch_{}.pt\".format(epoch))\n",
    "    \n",
    "    if epoch % 5 == 0:\n",
    "        s = np.random.randint(0, 100000, 1)[0]\n",
    "        seed_list.append(s)\n",
    "        x_trn, y_trn = data_generator(nsamples=1024*10, \n",
    "                              dim_x=dim_x, \n",
    "                                init_steps=init_steps, \n",
    "                                delta_sim_steps = delta_sim_steps,\n",
    "                                dx = dx, \n",
    "                                dt = dt,\n",
    "                                gamma=gamma, \n",
    "                                seed =s,\n",
    "                                device = device)\n",
    "        \n",
    "        trn_dataset = CahnHillDataset(x_trn, y_trn, transform_x=transformer_x, transform_y=transformer_y)\n",
    "        trn_loader = DataLoader(trn_dataset, batch_size=8, shuffle=True, num_workers=2)\n",
    "        total_step = len(trn_loader)\n",
    "    for i, item_trn in enumerate(tqdm.tqdm_notebook(trn_loader)):\n",
    "        \n",
    "        model.train()\n",
    "        \n",
    "        x = item_trn['x'].to(device)\n",
    "        y_t = item_trn['y'].to(device)\n",
    "\n",
    "        # Forward pass\n",
    "        y_p = model(x)\n",
    "        loss = criterion(y_t, y_p)\n",
    "\n",
    "        # Backward and optimize\n",
    "        optimizer.zero_grad()\n",
    "        loss.backward()\n",
    "        optimizer.step()\n",
    "        \n",
    "        trn_losses.append(np.sqrt(loss.item()))\n",
    "        \n",
    "        if (i) % 512 == 0:\n",
    "            for item_val in val_loader:\n",
    "                model.eval()\n",
    "                x1 = item_trn['x'].to(device)\n",
    "                y1 = item_trn['y'].to(device)\n",
    "                # Forward pass\n",
    "                y2 = model(x1)\n",
    "                val_losses.append(np.sqrt(criterion(y2, y1).item()))\n",
    "                    \n",
    "            print ('Epoch [{}/{}], Step [{}/{}], Training Loss: {:.11f}, Validation Loss: {:.11f}'.format(epoch+1, \n",
    "                                                                                                          num_epochs, \n",
    "                                                                                                          i+1, \n",
    "                                                                                                          total_step, \n",
    "                                                                                                          np.mean(trn_losses[-16:]), \n",
    "                                                                                                          np.mean(val_losses[-total_val_step:])))\n",
    "            \n",
    "torch.save(model.state_dict(), tag+\"epoch_{}.pt\".format(num_epochs)) \n",
    "torch.save(trn_losses, tag+\"trn_loss.pt\")\n",
    "torch.save(val_losses, tag+\"val_loss.pt\")"
   ]
  },
  {
   "cell_type": "code",
   "execution_count": 67,
   "metadata": {},
   "outputs": [],
   "source": [
    "# prd_losses = []\n",
    "# for item_prd in trn_loader:\n",
    "#     model.eval()\n",
    "#     x1 = item_prd['x'].to(device)\n",
    "#     y1 = item_prd['y'].to(device)\n",
    "#     # Forward pass\n",
    "#     y2 = model(x1)\n",
    "#     prd_losses.append(np.sqrt(criterion(y2, y1).item()))\n",
    "# print(np.mean(prd_losses), np.std(prd_losses))"
   ]
  },
  {
   "cell_type": "code",
   "execution_count": 27,
   "metadata": {},
   "outputs": [
    {
     "data": {
      "text/plain": [
       "[64175,\n",
       " 86890,\n",
       " 61721,\n",
       " 34955,\n",
       " 94701,\n",
       " 35265,\n",
       " 5322,\n",
       " 87515,\n",
       " 8903,\n",
       " 53128,\n",
       " 33431,\n",
       " 72238,\n",
       " 80112,\n",
       " 90726,\n",
       " 55586,\n",
       " 19833,\n",
       " 77871,\n",
       " 38873,\n",
       " 20635,\n",
       " 6285,\n",
       " 37622,\n",
       " 94346,\n",
       " 63349,\n",
       " 65161,\n",
       " 64233,\n",
       " 92014,\n",
       " 7230,\n",
       " 9102,\n",
       " 39700,\n",
       " 67481,\n",
       " 4381,\n",
       " 63845,\n",
       " 55462]"
      ]
     },
     "execution_count": 27,
     "metadata": {},
     "output_type": "execute_result"
    }
   ],
   "source": [
    "seed_list"
   ]
  },
  {
   "cell_type": "code",
   "execution_count": 28,
   "metadata": {},
   "outputs": [
    {
     "data": {
      "image/png": "[encoded data removed]",
      "text/plain": [
       "<Figure size 640x480 with 1 Axes>"
      ]
     },
     "metadata": {
      "needs_background": "light"
     },
     "output_type": "display_data"
    }
   ],
   "source": [
    "plt.plot(trn_losses)\n",
    "# plt.plot(val_losses)\n",
    "plt.title(\"training losses\")\n",
    "plt.xlabel(\"training steps\")\n",
    "plt.ylabel(\"mean squared error\")\n",
    "# plt.legend([\"trn\", \"val\"])\n",
    "plt.show()"
   ]
  },
  {
   "cell_type": "code",
   "execution_count": 27,
   "metadata": {},
   "outputs": [],
   "source": [
    "# x_prd, y_prd = data_generator(nsamples=512, \n",
    "#                               dim_x=dim_x, \n",
    "#                                 init_steps=init_steps, \n",
    "#                                 delta_sim_steps = delta_sim_steps,\n",
    "#                                 dx = dx, \n",
    "#                                 dt = dt,\n",
    "#                                 gamma=gamma, \n",
    "#                                 seed =seed_prd,\n",
    "#                                 device = device)\n",
    "# prd_dataset = CahnHillDataset(x_prd, y_prd, transform_x=transformer_x, transform_y=transformer_y)"
   ]
  },
  {
   "cell_type": "code",
   "execution_count": 29,
   "metadata": {},
   "outputs": [],
   "source": [
    "err = []\n",
    "for ix, item_prd in enumerate(prd_dataset):\n",
    "    x1 = item_prd['x'][None].to(device)\n",
    "    y1 = item_prd['y'][None].to(device)\n",
    "    y2 = model(x1)\n",
    "    err.append(np.sqrt(mse_loss(y1.detach().cpu(), y2.detach().cpu())))"
   ]
  },
  {
   "cell_type": "code",
   "execution_count": 30,
   "metadata": {},
   "outputs": [
    {
     "data": {
      "image/png": "[encoded data removed]",
      "text/plain": [
       "<Figure size 640x480 with 1 Axes>"
      ]
     },
     "metadata": {
      "needs_background": "light"
     },
     "output_type": "display_data"
    },
    {
     "name": "stdout",
     "output_type": "stream",
     "text": [
      "Mean Error on Validation Set: 0.1085\n"
     ]
    }
   ],
   "source": [
    "plt.plot(np.arange(len(prd_dataset)), err)\n",
    "plt.ylabel(\"RMS error\")\n",
    "plt.show()\n",
    "\n",
    "print(\"Mean Error on Validation Set: {:1.4f}\".format(np.mean(err)))"
   ]
  },
  {
   "cell_type": "code",
   "execution_count": 31,
   "metadata": {},
   "outputs": [
    {
     "data": {
      "image/png": "[encoded data removed]",
      "text/plain": [
       "<Figure size 640x480 with 2 Axes>"
      ]
     },
     "metadata": {
      "needs_background": "light"
     },
     "output_type": "display_data"
    },
    {
     "data": {
      "image/png": "[encoded data removed]",
      "text/plain": [
       "<Figure size 640x480 with 2 Axes>"
      ]
     },
     "metadata": {
      "needs_background": "light"
     },
     "output_type": "display_data"
    },
    {
     "data": {
      "image/png": "[encoded data removed]",
      "text/plain": [
       "<Figure size 640x480 with 2 Axes>"
      ]
     },
     "metadata": {
      "needs_background": "light"
     },
     "output_type": "display_data"
    },
    {
     "name": "stdout",
     "output_type": "stream",
     "text": [
      "tensor(0.0080, device='cuda:0', dtype=torch.float64)\n"
     ]
    }
   ],
   "source": [
    "ix = 24\n",
    "\n",
    "item_prd = prd_dataset[ix]\n",
    "x1 = item_prd['x'][None].to(device)\n",
    "y1 = item_prd['y'][None].to(device)\n",
    "model.eval()\n",
    "y2 = model(x1)\n",
    "\n",
    "im_x1 = x1[0].detach().cpu().numpy()\n",
    "im_y1 = y1[0].detach().cpu().numpy()\n",
    "im_y2 = y2[0].detach().cpu().numpy()\n",
    "\n",
    "draw_im(im_x1, \"inp\")\n",
    "draw_im(im_y1, \"sim output\")\n",
    "draw_im(im_y2, \"cnn output\")\n",
    "\n",
    "print(mse_loss(y1, y2).data)"
   ]
  },
  {
   "cell_type": "code",
   "execution_count": 32,
   "metadata": {},
   "outputs": [
    {
     "data": {
      "image/png": "[encoded data removed]",
      "text/plain": [
       "<Figure size 640x480 with 2 Axes>"
      ]
     },
     "metadata": {
      "needs_background": "light"
     },
     "output_type": "display_data"
    },
    {
     "data": {
      "image/png": "[encoded data removed]",
      "text/plain": [
       "<Figure size 640x480 with 2 Axes>"
      ]
     },
     "metadata": {
      "needs_background": "light"
     },
     "output_type": "display_data"
    },
    {
     "data": {
      "image/png": "[encoded data removed]",
      "text/plain": [
       "<Figure size 640x480 with 2 Axes>"
      ]
     },
     "metadata": {
      "needs_background": "light"
     },
     "output_type": "display_data"
    },
    {
     "name": "stdout",
     "output_type": "stream",
     "text": [
      "tensor(0.0128, device='cuda:0', dtype=torch.float64)\n"
     ]
    }
   ],
   "source": [
    "ix = 12\n",
    "\n",
    "item_prd = prd_dataset[ix]\n",
    "x1 = item_prd['x'][None].to(device)\n",
    "y1 = item_prd['y'][None].to(device)\n",
    "y2 = model(x1)\n",
    "\n",
    "im_x1 = x1[0].detach().cpu().numpy()\n",
    "im_y1 = y1[0].detach().cpu().numpy()\n",
    "im_y2 = y2[0].detach().cpu().numpy()\n",
    "\n",
    "draw_im(im_x1, \"inp\")\n",
    "draw_im(im_y1, \"sim output\")\n",
    "draw_im(im_y2, \"cnn output\")\n",
    "\n",
    "print(mse_loss(y1, y2).data)"
   ]
  },
  {
   "cell_type": "code",
   "execution_count": 34,
   "metadata": {},
   "outputs": [
    {
     "data": {
      "image/png": "[encoded data removed]",
      "text/plain": [
       "<Figure size 640x480 with 2 Axes>"
      ]
     },
     "metadata": {
      "needs_background": "light"
     },
     "output_type": "display_data"
    },
    {
     "data": {
      "image/png": "[encoded data removed]",
      "text/plain": [
       "<Figure size 640x480 with 2 Axes>"
      ]
     },
     "metadata": {
      "needs_background": "light"
     },
     "output_type": "display_data"
    },
    {
     "data": {
      "image/png": "[encoded data removed]",
      "text/plain": [
       "<Figure size 640x480 with 2 Axes>"
      ]
     },
     "metadata": {
      "needs_background": "light"
     },
     "output_type": "display_data"
    },
    {
     "name": "stdout",
     "output_type": "stream",
     "text": [
      "tensor(0.0098, device='cuda:0', dtype=torch.float64)\n"
     ]
    }
   ],
   "source": [
    "ix = -3\n",
    "\n",
    "item_prd = prd_dataset[ix]\n",
    "x1 = item_prd['x'][None].to(device)\n",
    "y1 = item_prd['y'][None].to(device)\n",
    "y2 = model(x1)\n",
    "\n",
    "im_x1 = x1[0].detach().cpu().numpy()\n",
    "im_y1 = y1[0].detach().cpu().numpy()\n",
    "im_y2 = y2[0].detach().cpu().numpy()\n",
    "\n",
    "draw_im(im_x1, \"inp\")\n",
    "draw_im(im_y1, \"sim output\")\n",
    "draw_im(im_y2, \"cnn output\")\n",
    "\n",
    "print(mse_loss(y1, y2).data)"
   ]
  },
  {
   "cell_type": "code",
   "execution_count": 52,
   "metadata": {},
   "outputs": [
    {
     "data": {
      "image/png": "[encoded data removed]",
      "text/plain": [
       "<Figure size 640x480 with 2 Axes>"
      ]
     },
     "metadata": {
      "needs_background": "light"
     },
     "output_type": "display_data"
    },
    {
     "data": {
      "image/png": "[encoded data removed]",
      "text/plain": [
       "<Figure size 640x480 with 2 Axes>"
      ]
     },
     "metadata": {
      "needs_background": "light"
     },
     "output_type": "display_data"
    },
    {
     "data": {
      "image/png": "[encoded data removed]",
      "text/plain": [
       "<Figure size 640x480 with 2 Axes>"
      ]
     },
     "metadata": {
      "needs_background": "light"
     },
     "output_type": "display_data"
    },
    {
     "name": "stdout",
     "output_type": "stream",
     "text": [
      "tensor(0.0020, device='cuda:0', dtype=torch.float64)\n"
     ]
    }
   ],
   "source": [
    "ix = 15\n",
    "\n",
    "item_prd = prd_dataset[ix]\n",
    "x1 = item_prd['x'][None].to(device)\n",
    "y1 = item_prd['y'][None].to(device)\n",
    "y2 = model(x1)\n",
    "\n",
    "im_x1 = x1[0].detach().cpu().numpy()\n",
    "im_y1 = y1[0].detach().cpu().numpy()\n",
    "im_y2 = y2[0].detach().cpu().numpy()\n",
    "\n",
    "draw_im(im_x1[1], \"inp\")\n",
    "draw_im(im_y1, \"sim output\")\n",
    "draw_im(im_y2, \"cnn output\")\n",
    "\n",
    "print(mse_loss(y1, y2).data)"
   ]
  }
 ],
 "metadata": {
  "kernelspec": {
   "display_name": "Python 3",
   "language": "python",
   "name": "python3"
  },
  "language_info": {
   "codemirror_mode": {
    "name": "ipython",
    "version": 3
   },
   "file_extension": ".py",
   "mimetype": "text/x-python",
   "name": "python",
   "nbconvert_exporter": "python",
   "pygments_lexer": "ipython3",
   "version": "3.7.4"
  }
 },
 "nbformat": 4,
 "nbformat_minor": 2
}
