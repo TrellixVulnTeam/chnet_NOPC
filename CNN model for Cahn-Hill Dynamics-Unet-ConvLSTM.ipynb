{
 "cells": [
  {
   "cell_type": "code",
   "execution_count": 1,
   "metadata": {},
   "outputs": [],
   "source": [
    "%load_ext autoreload\n",
    "%autoreload 2"
   ]
  },
  {
   "cell_type": "code",
   "execution_count": 2,
   "metadata": {},
   "outputs": [],
   "source": [
    "import os\n",
    "import time\n",
    "import tqdm\n",
    "import json\n",
    "import torch\n",
    "import warnings\n",
    "import numpy as np\n",
    "import torch.nn as nn\n",
    "from datetime import datetime\n",
    "import torch.nn.functional as F\n",
    "import matplotlib.pyplot as plt\n",
    "from chnet.torchsummary import summary\n",
    "from torchvision import transforms, utils\n",
    "from toolz.curried import pipe, curry, compose\n",
    "from torch.utils.data import Dataset, DataLoader"
   ]
  },
  {
   "cell_type": "code",
   "execution_count": 3,
   "metadata": {},
   "outputs": [],
   "source": [
    "import chnet.utilities as utils\n",
    "import chnet.cahn_hill as ch\n",
    "import chnet.ch_tools as tools\n",
    "from chnet.ch_loader import CahnHillDataset"
   ]
  },
  {
   "cell_type": "code",
   "execution_count": 4,
   "metadata": {},
   "outputs": [],
   "source": [
    "warnings.filterwarnings('ignore')"
   ]
  },
  {
   "cell_type": "code",
   "execution_count": 5,
   "metadata": {},
   "outputs": [],
   "source": [
    "@curry\n",
    "def init_norm(nsamples, dim_x, dim_y, seed=354875, m_l=-0.15, m_r=0.15):\n",
    "    np.random.seed(seed)\n",
    "    means  = np.random.uniform(m_l, m_r, size=nsamples)\n",
    "    np.random.seed(seed)\n",
    "    scales  = np.random.uniform(0.05, 0.3, size=nsamples)\n",
    "    \n",
    "    x_data = [np.random.normal(loc=m, scale=s, size = (1, dim_x, dim_y)) for m,s in zip(means, scales)]\n",
    "    x_data = np.concatenate(x_data, axis=0)\n",
    "    \n",
    "    np.clip(x_data, -0.98, 0.98, out=x_data)\n",
    "    \n",
    "    return x_data"
   ]
  },
  {
   "cell_type": "markdown",
   "metadata": {},
   "source": [
    "## Loss Functions"
   ]
  },
  {
   "cell_type": "code",
   "execution_count": 6,
   "metadata": {},
   "outputs": [],
   "source": [
    "@curry\n",
    "def mse_loss(y1, y2, scale=1.):\n",
    "    \"\"\"standard MSE definition\"\"\"\n",
    "    return ((y1 - y2) ** 2).sum() / y1.data.nelement() * scale\n",
    "\n",
    "@curry\n",
    "def rmse_loss(y1, y2, scale=1.):\n",
    "    \"\"\"standard RMSE definition\"\"\"\n",
    "    return ((((y1 - y2) ** 2).sum() / y1.data.nelement()).sqrt()) * scale\n",
    "\n",
    "\n",
    "def mse_loss_npy(y1, y2):\n",
    "    \"\"\"standard MSE definition\"\"\"\n",
    "    return np.sum(((y1 - y2) ** 2)) / y1.size"
   ]
  },
  {
   "cell_type": "markdown",
   "metadata": {},
   "source": [
    "## Data Generators"
   ]
  },
  {
   "cell_type": "code",
   "execution_count": 7,
   "metadata": {},
   "outputs": [],
   "source": [
    "@curry\n",
    "def data_generator_slices(nsamples=2, \n",
    "                   dim_x=64, \n",
    "                   init_steps=1, \n",
    "                   delta_sim_steps = 100,\n",
    "                   dx = 0.25, \n",
    "                   dt = 0.01,\n",
    "                   gamma=1.0, \n",
    "                   seed = None,\n",
    "                   n_step = 4,\n",
    "                   m_l=-0.15, \n",
    "                   m_r=0.15,\n",
    "                   device = torch.device(\"cuda:0\")):\n",
    "    \n",
    "    init_data = init_norm(nsamples, dim_x, dim_x, seed=seed, m_l=m_l, m_r=m_r)   \n",
    "\n",
    "    x_list = []\n",
    "    y_list = []\n",
    "    \n",
    "    x_data = ch.ch_run_torch(init_data, \n",
    "                             dt=dt, gamma=gamma, \n",
    "                             dx=dx, sim_step=init_steps, \n",
    "                             device=device)    \n",
    "    \n",
    "\n",
    "    for _ in range(n_step):\n",
    "        x_list.append(x_data[None])\n",
    "        x_data = ch.ch_run_torch(x_data, \n",
    "                                 dt=dt, gamma=gamma, \n",
    "                                 dx=dx, sim_step=delta_sim_steps, \n",
    "                                 device=device)\n",
    "        y_list.append(x_data[None])\n",
    "    \n",
    "    x_data = np.moveaxis(np.concatenate(x_list, axis=0), 0, 1)\n",
    "    y_data = np.moveaxis(np.concatenate(y_list, axis=0), 0, 1)\n",
    "    \n",
    "    return x_data, y_data"
   ]
  },
  {
   "cell_type": "markdown",
   "metadata": {},
   "source": [
    "# Set Device"
   ]
  },
  {
   "cell_type": "code",
   "execution_count": 9,
   "metadata": {},
   "outputs": [],
   "source": [
    "device = torch.device('cuda' if torch.cuda.is_available() else 'cpu')"
   ]
  },
  {
   "cell_type": "code",
   "execution_count": 23,
   "metadata": {},
   "outputs": [
    {
     "name": "stdout",
     "output_type": "stream",
     "text": [
      "torch.Size([1, 4, 1, 128, 128]) torch.Size([1, 4, 1, 128, 128])\n",
      "CPU times: user 451 ms, sys: 1.03 ms, total: 452 ms\n",
      "Wall time: 450 ms\n"
     ]
    }
   ],
   "source": [
    "%%time\n",
    "x_data, y_data = data_generator_slices(nsamples=2, dim_x=128, \n",
    "                                init_steps=1, \n",
    "                                delta_sim_steps = 800,\n",
    "                                dx = 0.25, \n",
    "                                dt = 0.01,\n",
    "                                gamma=1.0, \n",
    "                                seed = 23846,\n",
    "                                device = device)\n",
    "\n",
    "dataset = CahnHillDataset(x_data, y_data, transform_x=lambda x: x[:,None], transform_y=lambda x: x[:,None])\n",
    "\n",
    "item = dataset[0]\n",
    "x = item[\"x\"][None].to(device)\n",
    "y = item[\"y\"][None].to(device)\n",
    "\n",
    "print(x.shape, y.shape)"
   ]
  },
  {
   "cell_type": "code",
   "execution_count": 24,
   "metadata": {},
   "outputs": [
    {
     "name": "stdout",
     "output_type": "stream",
     "text": [
      "x4 torch.Size([1, 128, 16, 16])\n",
      "x5 torch.Size([1, 256, 8, 8])\n",
      "torch.Size([1, 1, 128, 128])\n"
     ]
    }
   ],
   "source": [
    "from chnet.lstm_unet import Unet_loop\n",
    "model = Unet_loop(input_nc=1, output_nc=1, ngf=16, temporal=1, tanh=True).double().to(device)\n",
    "\n",
    "item = dataset[0]\n",
    "x = item[\"x\"][None].to(device)\n",
    "y = item[\"y\"][None].to(device)\n",
    "\n",
    "y_pred, y_pred_ = model(x[:,0])\n",
    "\n",
    "print(y_pred.shape)\n",
    "\n",
    "# assert y.shape == y_pred.shape\n",
    "# print(mse_loss(y, y_pred).data)"
   ]
  },
  {
   "cell_type": "code",
   "execution_count": 14,
   "metadata": {},
   "outputs": [
    {
     "name": "stdout",
     "output_type": "stream",
     "text": [
      "torch.Size([1, 4, 1, 64, 64])\n",
      "tensor(0.1867, device='cuda:0', dtype=torch.float64)\n"
     ]
    }
   ],
   "source": [
    "from chnet.lstm_unet import LSTM_Unet\n",
    "model = LSTM_Unet(input_nc=1, output_nc=1, ngf=16, temporal=4).double().to(device)\n",
    "\n",
    "item = dataset[0]\n",
    "x = item[\"x\"][None].to(device)\n",
    "y = item[\"y\"][None].to(device)\n",
    "\n",
    "\n",
    "y_pred, y_pred_ = model(x)\n",
    "\n",
    "print(y_pred.shape)\n",
    "\n",
    "assert y.shape == y_pred.shape\n",
    "print(mse_loss(y, y_pred).data)"
   ]
  },
  {
   "cell_type": "markdown",
   "metadata": {},
   "source": [
    "# Model Training"
   ]
  },
  {
   "cell_type": "markdown",
   "metadata": {},
   "source": [
    "### Training and Validation data generation"
   ]
  },
  {
   "cell_type": "code",
   "execution_count": 15,
   "metadata": {},
   "outputs": [],
   "source": [
    "## Process Parameters\n",
    "dim_x=96\n",
    "init_steps=1\n",
    "delta_sim_steps = 400\n",
    "dx = 0.25 \n",
    "dt = 0.01\n",
    "gamma=1.0\n",
    "\n",
    "seed_trn = 237452 #110364\n",
    "seed_val = 986423\n",
    "seed_prd = 284296\n",
    "\n",
    "\n",
    "trn_size = 5\n",
    "n_samples_trn = 1024*trn_size\n",
    "\n",
    "n_step = 5\n",
    "\n",
    "batch_size = 8"
   ]
  },
  {
   "cell_type": "code",
   "execution_count": 16,
   "metadata": {},
   "outputs": [],
   "source": [
    "transformer_x = lambda x: x[:,None]\n",
    "transformer_y = lambda x: x[:,None]"
   ]
  },
  {
   "cell_type": "code",
   "execution_count": 17,
   "metadata": {},
   "outputs": [
    {
     "name": "stdout",
     "output_type": "stream",
     "text": [
      "8648514\n"
     ]
    }
   ],
   "source": [
    "from chnet.lstm_unet import LSTM_Unet\n",
    "\n",
    "ngf = 32\n",
    "model = LSTM_Unet(input_nc=1, output_nc=1, ngf=ngf, temporal=n_step, tanh=True).double().to(device)\n",
    "\n",
    "trn_losses = []\n",
    "log_step = 512\n",
    "\n",
    "n_params = 0\n",
    "for params in model.parameters():\n",
    "    n_params += np.prod(params.shape)\n",
    "print(n_params)"
   ]
  },
  {
   "cell_type": "code",
   "execution_count": 32,
   "metadata": {},
   "outputs": [],
   "source": [
    "criterion = mse_loss(scale=10000000)\n",
    "model.load_state_dict(torch.load(\"out/unet_convLSTM_ch32_step_400_nstep_5_4thtry.pt\"))\n",
    "learning_rate = 0.5e-5\n",
    "optimizer = torch.optim.Adam(model.parameters(), lr=learning_rate)"
   ]
  },
  {
   "cell_type": "code",
   "execution_count": 33,
   "metadata": {
    "scrolled": false
   },
   "outputs": [
    {
     "data": {
      "application/vnd.jupyter.widget-view+json": {
       "model_id": "75a4a7b6a652466a8abc6023cd383d26",
       "version_major": 2,
       "version_minor": 0
      },
      "text/plain": [
       "HBox(children=(FloatProgress(value=0.0, max=640.0), HTML(value='')))"
      ]
     },
     "metadata": {},
     "output_type": "display_data"
    },
    {
     "name": "stdout",
     "output_type": "stream",
     "text": [
      "Epoch [1/10], Step [1/640], Training Loss: 1.39483615333\n",
      "Epoch [1/10], Step [513/640], Training Loss: 220.08233988095\n",
      "\n"
     ]
    },
    {
     "data": {
      "application/vnd.jupyter.widget-view+json": {
       "model_id": "0505cfc9ac2e43578f035cdd527bbbcd",
       "version_major": 2,
       "version_minor": 0
      },
      "text/plain": [
       "HBox(children=(FloatProgress(value=0.0, max=640.0), HTML(value='')))"
      ]
     },
     "metadata": {},
     "output_type": "display_data"
    },
    {
     "name": "stdout",
     "output_type": "stream",
     "text": [
      "Epoch [2/10], Step [1/640], Training Loss: 218.29377022996\n",
      "Epoch [2/10], Step [513/640], Training Loss: 214.39839342623\n",
      "\n"
     ]
    },
    {
     "data": {
      "application/vnd.jupyter.widget-view+json": {
       "model_id": "09e88eaeab284801854ce2d252a1158a",
       "version_major": 2,
       "version_minor": 0
      },
      "text/plain": [
       "HBox(children=(FloatProgress(value=0.0, max=640.0), HTML(value='')))"
      ]
     },
     "metadata": {},
     "output_type": "display_data"
    },
    {
     "name": "stdout",
     "output_type": "stream",
     "text": [
      "Epoch [3/10], Step [1/640], Training Loss: 213.50885288567\n",
      "Epoch [3/10], Step [513/640], Training Loss: 211.95390478060\n",
      "\n"
     ]
    },
    {
     "data": {
      "application/vnd.jupyter.widget-view+json": {
       "model_id": "bfb22c4b3ad74df983587323247f6c3a",
       "version_major": 2,
       "version_minor": 0
      },
      "text/plain": [
       "HBox(children=(FloatProgress(value=0.0, max=640.0), HTML(value='')))"
      ]
     },
     "metadata": {},
     "output_type": "display_data"
    },
    {
     "name": "stdout",
     "output_type": "stream",
     "text": [
      "Epoch [4/10], Step [1/640], Training Loss: 211.92625438366\n",
      "Epoch [4/10], Step [513/640], Training Loss: 209.85623645599\n",
      "\n"
     ]
    },
    {
     "data": {
      "application/vnd.jupyter.widget-view+json": {
       "model_id": "70313e911be9470a930a7765cd74c425",
       "version_major": 2,
       "version_minor": 0
      },
      "text/plain": [
       "HBox(children=(FloatProgress(value=0.0, max=640.0), HTML(value='')))"
      ]
     },
     "metadata": {},
     "output_type": "display_data"
    },
    {
     "name": "stdout",
     "output_type": "stream",
     "text": [
      "Epoch [5/10], Step [1/640], Training Loss: 212.67739511843\n",
      "Epoch [5/10], Step [513/640], Training Loss: 213.86913380342\n",
      "\n"
     ]
    },
    {
     "data": {
      "application/vnd.jupyter.widget-view+json": {
       "model_id": "f40e6c9c09a44c2d9e32f55554823ffa",
       "version_major": 2,
       "version_minor": 0
      },
      "text/plain": [
       "HBox(children=(FloatProgress(value=0.0, max=640.0), HTML(value='')))"
      ]
     },
     "metadata": {},
     "output_type": "display_data"
    },
    {
     "name": "stdout",
     "output_type": "stream",
     "text": [
      "Epoch [6/10], Step [1/640], Training Loss: 216.72289107440\n",
      "Epoch [6/10], Step [513/640], Training Loss: 211.35859868105\n",
      "\n"
     ]
    },
    {
     "data": {
      "application/vnd.jupyter.widget-view+json": {
       "model_id": "fe25d9817ba2401d9c9518b5ad8cf1da",
       "version_major": 2,
       "version_minor": 0
      },
      "text/plain": [
       "HBox(children=(FloatProgress(value=0.0, max=640.0), HTML(value='')))"
      ]
     },
     "metadata": {},
     "output_type": "display_data"
    },
    {
     "name": "stdout",
     "output_type": "stream",
     "text": [
      "Epoch [7/10], Step [1/640], Training Loss: 209.20157398161\n",
      "Epoch [7/10], Step [513/640], Training Loss: 213.63491834436\n",
      "\n"
     ]
    },
    {
     "data": {
      "application/vnd.jupyter.widget-view+json": {
       "model_id": "e789a1aa4588435d87861a999416060c",
       "version_major": 2,
       "version_minor": 0
      },
      "text/plain": [
       "HBox(children=(FloatProgress(value=0.0, max=640.0), HTML(value='')))"
      ]
     },
     "metadata": {},
     "output_type": "display_data"
    },
    {
     "name": "stdout",
     "output_type": "stream",
     "text": [
      "Epoch [8/10], Step [1/640], Training Loss: 212.25251825831\n",
      "Epoch [8/10], Step [513/640], Training Loss: 208.41422517217\n",
      "\n"
     ]
    },
    {
     "data": {
      "application/vnd.jupyter.widget-view+json": {
       "model_id": "a179ca84f3cd4ae4ba072e80407c0a07",
       "version_major": 2,
       "version_minor": 0
      },
      "text/plain": [
       "HBox(children=(FloatProgress(value=0.0, max=640.0), HTML(value='')))"
      ]
     },
     "metadata": {},
     "output_type": "display_data"
    },
    {
     "name": "stdout",
     "output_type": "stream",
     "text": [
      "Epoch [9/10], Step [1/640], Training Loss: 208.44887471788\n",
      "Epoch [9/10], Step [513/640], Training Loss: 209.38568385711\n",
      "\n"
     ]
    },
    {
     "data": {
      "application/vnd.jupyter.widget-view+json": {
       "model_id": "8e884bcdb96b4160b250e860ec5b860e",
       "version_major": 2,
       "version_minor": 0
      },
      "text/plain": [
       "HBox(children=(FloatProgress(value=0.0, max=640.0), HTML(value='')))"
      ]
     },
     "metadata": {},
     "output_type": "display_data"
    },
    {
     "name": "stdout",
     "output_type": "stream",
     "text": [
      "Epoch [10/10], Step [1/640], Training Loss: 209.26207740944\n",
      "Epoch [10/10], Step [513/640], Training Loss: 207.84735331589\n",
      "\n"
     ]
    },
    {
     "data": {
      "application/vnd.jupyter.widget-view+json": {
       "model_id": "9602589346e0409ba01cb622f79d6a05",
       "version_major": 2,
       "version_minor": 0
      },
      "text/plain": [
       "HBox(children=(FloatProgress(value=0.0, max=640.0), HTML(value='')))"
      ]
     },
     "metadata": {},
     "output_type": "display_data"
    },
    {
     "name": "stdout",
     "output_type": "stream",
     "text": [
      "Epoch [1/10], Step [1/640], Training Loss: 208.61222259659\n",
      "Epoch [1/10], Step [513/640], Training Loss: 214.47755598629\n",
      "\n"
     ]
    },
    {
     "data": {
      "application/vnd.jupyter.widget-view+json": {
       "model_id": "9300d7ec20f6457bbfa73415cdd51686",
       "version_major": 2,
       "version_minor": 0
      },
      "text/plain": [
       "HBox(children=(FloatProgress(value=0.0, max=640.0), HTML(value='')))"
      ]
     },
     "metadata": {},
     "output_type": "display_data"
    },
    {
     "name": "stdout",
     "output_type": "stream",
     "text": [
      "Epoch [2/10], Step [1/640], Training Loss: 211.07102841405\n",
      "Epoch [2/10], Step [513/640], Training Loss: 213.74449019577\n",
      "\n"
     ]
    },
    {
     "data": {
      "application/vnd.jupyter.widget-view+json": {
       "model_id": "f6d57ecda1e142a8a4e095b98e7220b6",
       "version_major": 2,
       "version_minor": 0
      },
      "text/plain": [
       "HBox(children=(FloatProgress(value=0.0, max=640.0), HTML(value='')))"
      ]
     },
     "metadata": {},
     "output_type": "display_data"
    },
    {
     "name": "stdout",
     "output_type": "stream",
     "text": [
      "Epoch [3/10], Step [1/640], Training Loss: 213.16271817664\n",
      "Epoch [3/10], Step [513/640], Training Loss: 216.67075097705\n",
      "\n"
     ]
    },
    {
     "data": {
      "application/vnd.jupyter.widget-view+json": {
       "model_id": "1591eaa5fcec4747aed2f02c30d8d954",
       "version_major": 2,
       "version_minor": 0
      },
      "text/plain": [
       "HBox(children=(FloatProgress(value=0.0, max=640.0), HTML(value='')))"
      ]
     },
     "metadata": {},
     "output_type": "display_data"
    },
    {
     "name": "stdout",
     "output_type": "stream",
     "text": [
      "Epoch [4/10], Step [1/640], Training Loss: 217.70308966201\n",
      "Epoch [4/10], Step [513/640], Training Loss: 209.04540296312\n",
      "\n"
     ]
    },
    {
     "data": {
      "application/vnd.jupyter.widget-view+json": {
       "model_id": "d3d0406768df4d8ab1369091610e8f86",
       "version_major": 2,
       "version_minor": 0
      },
      "text/plain": [
       "HBox(children=(FloatProgress(value=0.0, max=640.0), HTML(value='')))"
      ]
     },
     "metadata": {},
     "output_type": "display_data"
    },
    {
     "name": "stdout",
     "output_type": "stream",
     "text": [
      "Epoch [5/10], Step [1/640], Training Loss: 210.30290861041\n",
      "Epoch [5/10], Step [513/640], Training Loss: 209.84199068060\n",
      "\n"
     ]
    },
    {
     "data": {
      "application/vnd.jupyter.widget-view+json": {
       "model_id": "1124d01f15ca43329ae2ad02039af98e",
       "version_major": 2,
       "version_minor": 0
      },
      "text/plain": [
       "HBox(children=(FloatProgress(value=0.0, max=640.0), HTML(value='')))"
      ]
     },
     "metadata": {},
     "output_type": "display_data"
    },
    {
     "name": "stdout",
     "output_type": "stream",
     "text": [
      "Epoch [6/10], Step [1/640], Training Loss: 212.78266500512\n",
      "Epoch [6/10], Step [513/640], Training Loss: 208.07673679009\n",
      "\n"
     ]
    },
    {
     "data": {
      "application/vnd.jupyter.widget-view+json": {
       "model_id": "227ae34596804aadad459f427781191b",
       "version_major": 2,
       "version_minor": 0
      },
      "text/plain": [
       "HBox(children=(FloatProgress(value=0.0, max=640.0), HTML(value='')))"
      ]
     },
     "metadata": {},
     "output_type": "display_data"
    },
    {
     "name": "stdout",
     "output_type": "stream",
     "text": [
      "Epoch [7/10], Step [1/640], Training Loss: 207.66071764464\n",
      "Epoch [7/10], Step [513/640], Training Loss: 210.68861454047\n",
      "\n"
     ]
    },
    {
     "data": {
      "application/vnd.jupyter.widget-view+json": {
       "model_id": "45f3027d5fd54ff28e12b02388c51dc3",
       "version_major": 2,
       "version_minor": 0
      },
      "text/plain": [
       "HBox(children=(FloatProgress(value=0.0, max=640.0), HTML(value='')))"
      ]
     },
     "metadata": {},
     "output_type": "display_data"
    },
    {
     "name": "stdout",
     "output_type": "stream",
     "text": [
      "Epoch [8/10], Step [1/640], Training Loss: 211.18475415755\n",
      "Epoch [8/10], Step [513/640], Training Loss: 206.38993239446\n",
      "\n"
     ]
    },
    {
     "data": {
      "application/vnd.jupyter.widget-view+json": {
       "model_id": "af17ad1caedc4c68b1f699e614029f09",
       "version_major": 2,
       "version_minor": 0
      },
      "text/plain": [
       "HBox(children=(FloatProgress(value=0.0, max=640.0), HTML(value='')))"
      ]
     },
     "metadata": {},
     "output_type": "display_data"
    },
    {
     "name": "stdout",
     "output_type": "stream",
     "text": [
      "Epoch [9/10], Step [1/640], Training Loss: 211.36956346798\n",
      "Epoch [9/10], Step [513/640], Training Loss: 206.92562061328\n",
      "\n"
     ]
    },
    {
     "data": {
      "application/vnd.jupyter.widget-view+json": {
       "model_id": "1284ea9cf72b4e9d9d1b01b969bb2fe6",
       "version_major": 2,
       "version_minor": 0
      },
      "text/plain": [
       "HBox(children=(FloatProgress(value=0.0, max=640.0), HTML(value='')))"
      ]
     },
     "metadata": {},
     "output_type": "display_data"
    },
    {
     "name": "stdout",
     "output_type": "stream",
     "text": [
      "Epoch [10/10], Step [1/640], Training Loss: 206.17611639007\n",
      "Epoch [10/10], Step [513/640], Training Loss: 204.91888578437\n",
      "\n"
     ]
    },
    {
     "data": {
      "application/vnd.jupyter.widget-view+json": {
       "model_id": "61db3224c0b049bcb760a67d0da90db1",
       "version_major": 2,
       "version_minor": 0
      },
      "text/plain": [
       "HBox(children=(FloatProgress(value=0.0, max=640.0), HTML(value='')))"
      ]
     },
     "metadata": {},
     "output_type": "display_data"
    },
    {
     "name": "stdout",
     "output_type": "stream",
     "text": [
      "Epoch [1/10], Step [1/640], Training Loss: 206.45626632304\n",
      "Epoch [1/10], Step [513/640], Training Loss: 209.73112799734\n",
      "\n"
     ]
    },
    {
     "data": {
      "application/vnd.jupyter.widget-view+json": {
       "model_id": "c8d8bea6fc5748ba87e5c14fafe8ad5b",
       "version_major": 2,
       "version_minor": 0
      },
      "text/plain": [
       "HBox(children=(FloatProgress(value=0.0, max=640.0), HTML(value='')))"
      ]
     },
     "metadata": {},
     "output_type": "display_data"
    },
    {
     "name": "stdout",
     "output_type": "stream",
     "text": [
      "Epoch [2/10], Step [1/640], Training Loss: 212.32179766893\n",
      "Epoch [2/10], Step [513/640], Training Loss: 210.37131757148\n",
      "\n"
     ]
    },
    {
     "data": {
      "application/vnd.jupyter.widget-view+json": {
       "model_id": "57b87fbde10a45da82f302e83ce9ef31",
       "version_major": 2,
       "version_minor": 0
      },
      "text/plain": [
       "HBox(children=(FloatProgress(value=0.0, max=640.0), HTML(value='')))"
      ]
     },
     "metadata": {},
     "output_type": "display_data"
    },
    {
     "name": "stdout",
     "output_type": "stream",
     "text": [
      "Epoch [3/10], Step [1/640], Training Loss: 208.60295486843\n",
      "Epoch [3/10], Step [513/640], Training Loss: 203.44340408805\n",
      "\n"
     ]
    },
    {
     "data": {
      "application/vnd.jupyter.widget-view+json": {
       "model_id": "3713e606f46941ca995e02f5c854da2b",
       "version_major": 2,
       "version_minor": 0
      },
      "text/plain": [
       "HBox(children=(FloatProgress(value=0.0, max=640.0), HTML(value='')))"
      ]
     },
     "metadata": {},
     "output_type": "display_data"
    },
    {
     "name": "stdout",
     "output_type": "stream",
     "text": [
      "Epoch [4/10], Step [1/640], Training Loss: 203.27146953380\n",
      "Epoch [4/10], Step [513/640], Training Loss: 203.90058468665\n",
      "\n"
     ]
    },
    {
     "data": {
      "application/vnd.jupyter.widget-view+json": {
       "model_id": "c3ef756ce3e145d681e5e0c9bfa6abd2",
       "version_major": 2,
       "version_minor": 0
      },
      "text/plain": [
       "HBox(children=(FloatProgress(value=0.0, max=640.0), HTML(value='')))"
      ]
     },
     "metadata": {},
     "output_type": "display_data"
    },
    {
     "name": "stdout",
     "output_type": "stream",
     "text": [
      "Epoch [5/10], Step [1/640], Training Loss: 203.07509608916\n",
      "Epoch [5/10], Step [513/640], Training Loss: 207.16333383542\n",
      "\n"
     ]
    },
    {
     "data": {
      "application/vnd.jupyter.widget-view+json": {
       "model_id": "430a13f83b9c47e0a69a2ad81b1665f6",
       "version_major": 2,
       "version_minor": 0
      },
      "text/plain": [
       "HBox(children=(FloatProgress(value=0.0, max=640.0), HTML(value='')))"
      ]
     },
     "metadata": {},
     "output_type": "display_data"
    },
    {
     "name": "stdout",
     "output_type": "stream",
     "text": [
      "Epoch [6/10], Step [1/640], Training Loss: 207.58509521523\n",
      "Epoch [6/10], Step [513/640], Training Loss: 204.29451215430\n",
      "\n"
     ]
    },
    {
     "data": {
      "application/vnd.jupyter.widget-view+json": {
       "model_id": "cb30d4c08604459ba01cc1e01d0c240c",
       "version_major": 2,
       "version_minor": 0
      },
      "text/plain": [
       "HBox(children=(FloatProgress(value=0.0, max=640.0), HTML(value='')))"
      ]
     },
     "metadata": {},
     "output_type": "display_data"
    },
    {
     "name": "stdout",
     "output_type": "stream",
     "text": [
      "Epoch [7/10], Step [1/640], Training Loss: 205.91079648542\n",
      "Epoch [7/10], Step [513/640], Training Loss: 206.13078536092\n",
      "\n"
     ]
    },
    {
     "data": {
      "application/vnd.jupyter.widget-view+json": {
       "model_id": "45fe16f555ca486badc5da77f30df4e2",
       "version_major": 2,
       "version_minor": 0
      },
      "text/plain": [
       "HBox(children=(FloatProgress(value=0.0, max=640.0), HTML(value='')))"
      ]
     },
     "metadata": {},
     "output_type": "display_data"
    },
    {
     "name": "stdout",
     "output_type": "stream",
     "text": [
      "Epoch [8/10], Step [1/640], Training Loss: 206.92521594773\n",
      "Epoch [8/10], Step [513/640], Training Loss: 206.35988619352\n",
      "\n"
     ]
    },
    {
     "data": {
      "application/vnd.jupyter.widget-view+json": {
       "model_id": "10dadc84712a4422887b87f9329390ea",
       "version_major": 2,
       "version_minor": 0
      },
      "text/plain": [
       "HBox(children=(FloatProgress(value=0.0, max=640.0), HTML(value='')))"
      ]
     },
     "metadata": {},
     "output_type": "display_data"
    },
    {
     "name": "stdout",
     "output_type": "stream",
     "text": [
      "Epoch [9/10], Step [1/640], Training Loss: 204.64009848487\n",
      "Epoch [9/10], Step [513/640], Training Loss: 204.95072689425\n",
      "\n"
     ]
    },
    {
     "data": {
      "application/vnd.jupyter.widget-view+json": {
       "model_id": "824b3bb0ead148ed8ea8ff57fc90d7e8",
       "version_major": 2,
       "version_minor": 0
      },
      "text/plain": [
       "HBox(children=(FloatProgress(value=0.0, max=640.0), HTML(value='')))"
      ]
     },
     "metadata": {},
     "output_type": "display_data"
    },
    {
     "name": "stdout",
     "output_type": "stream",
     "text": [
      "Epoch [10/10], Step [1/640], Training Loss: 203.46693424859\n",
      "Epoch [10/10], Step [513/640], Training Loss: 200.35753273738\n",
      "\n"
     ]
    },
    {
     "data": {
      "application/vnd.jupyter.widget-view+json": {
       "model_id": "577d7667924f4dcebbf7c3ccfc6f8c1d",
       "version_major": 2,
       "version_minor": 0
      },
      "text/plain": [
       "HBox(children=(FloatProgress(value=0.0, max=640.0), HTML(value='')))"
      ]
     },
     "metadata": {},
     "output_type": "display_data"
    },
    {
     "name": "stdout",
     "output_type": "stream",
     "text": [
      "Epoch [1/10], Step [1/640], Training Loss: 201.10635244185\n",
      "Epoch [1/10], Step [513/640], Training Loss: 210.23656015709\n",
      "\n"
     ]
    },
    {
     "data": {
      "application/vnd.jupyter.widget-view+json": {
       "model_id": "3eab4efbaa0f4c56819bd2eeab5c80fb",
       "version_major": 2,
       "version_minor": 0
      },
      "text/plain": [
       "HBox(children=(FloatProgress(value=0.0, max=640.0), HTML(value='')))"
      ]
     },
     "metadata": {},
     "output_type": "display_data"
    },
    {
     "name": "stdout",
     "output_type": "stream",
     "text": [
      "Epoch [2/10], Step [1/640], Training Loss: 210.76342635628\n",
      "Epoch [2/10], Step [513/640], Training Loss: 208.90894702183\n",
      "\n"
     ]
    },
    {
     "data": {
      "application/vnd.jupyter.widget-view+json": {
       "model_id": "55439f66bda245d3964ebb5edb6b78b2",
       "version_major": 2,
       "version_minor": 0
      },
      "text/plain": [
       "HBox(children=(FloatProgress(value=0.0, max=640.0), HTML(value='')))"
      ]
     },
     "metadata": {},
     "output_type": "display_data"
    },
    {
     "name": "stdout",
     "output_type": "stream",
     "text": [
      "Epoch [3/10], Step [1/640], Training Loss: 210.11534252025\n",
      "Epoch [3/10], Step [513/640], Training Loss: 209.17259800807\n",
      "\n"
     ]
    },
    {
     "data": {
      "application/vnd.jupyter.widget-view+json": {
       "model_id": "4cc4d6a58e04467eb48a4422a8b65527",
       "version_major": 2,
       "version_minor": 0
      },
      "text/plain": [
       "HBox(children=(FloatProgress(value=0.0, max=640.0), HTML(value='')))"
      ]
     },
     "metadata": {},
     "output_type": "display_data"
    },
    {
     "name": "stdout",
     "output_type": "stream",
     "text": [
      "Epoch [4/10], Step [1/640], Training Loss: 207.44325462808\n",
      "Epoch [4/10], Step [513/640], Training Loss: 203.71443380394\n",
      "\n"
     ]
    },
    {
     "data": {
      "application/vnd.jupyter.widget-view+json": {
       "model_id": "5d33e2f03c0e4d4a83678567aaa8a6f4",
       "version_major": 2,
       "version_minor": 0
      },
      "text/plain": [
       "HBox(children=(FloatProgress(value=0.0, max=640.0), HTML(value='')))"
      ]
     },
     "metadata": {},
     "output_type": "display_data"
    },
    {
     "name": "stdout",
     "output_type": "stream",
     "text": [
      "Epoch [5/10], Step [1/640], Training Loss: 204.09203176975\n",
      "Epoch [5/10], Step [513/640], Training Loss: 206.66866308405\n",
      "\n"
     ]
    },
    {
     "data": {
      "application/vnd.jupyter.widget-view+json": {
       "model_id": "6197390be6ff4d6396c9bc5a4f19a049",
       "version_major": 2,
       "version_minor": 0
      },
      "text/plain": [
       "HBox(children=(FloatProgress(value=0.0, max=640.0), HTML(value='')))"
      ]
     },
     "metadata": {},
     "output_type": "display_data"
    },
    {
     "name": "stdout",
     "output_type": "stream",
     "text": [
      "Epoch [6/10], Step [1/640], Training Loss: 206.94857691659\n",
      "Epoch [6/10], Step [513/640], Training Loss: 210.94303987408\n",
      "\n"
     ]
    },
    {
     "data": {
      "application/vnd.jupyter.widget-view+json": {
       "model_id": "23e76d7638a54ad0923c18f27e915cac",
       "version_major": 2,
       "version_minor": 0
      },
      "text/plain": [
       "HBox(children=(FloatProgress(value=0.0, max=640.0), HTML(value='')))"
      ]
     },
     "metadata": {},
     "output_type": "display_data"
    },
    {
     "name": "stdout",
     "output_type": "stream",
     "text": [
      "Epoch [7/10], Step [1/640], Training Loss: 208.84534452485\n",
      "Epoch [7/10], Step [513/640], Training Loss: 204.36901177522\n",
      "\n"
     ]
    },
    {
     "data": {
      "application/vnd.jupyter.widget-view+json": {
       "model_id": "7862715a4d4840659ef47c015ecb4e2f",
       "version_major": 2,
       "version_minor": 0
      },
      "text/plain": [
       "HBox(children=(FloatProgress(value=0.0, max=640.0), HTML(value='')))"
      ]
     },
     "metadata": {},
     "output_type": "display_data"
    },
    {
     "name": "stdout",
     "output_type": "stream",
     "text": [
      "Epoch [8/10], Step [1/640], Training Loss: 204.46486384120\n",
      "Epoch [8/10], Step [513/640], Training Loss: 200.37978219013\n",
      "\n"
     ]
    },
    {
     "data": {
      "application/vnd.jupyter.widget-view+json": {
       "model_id": "f8062b4cdb6842aba00e47d8e576dfb9",
       "version_major": 2,
       "version_minor": 0
      },
      "text/plain": [
       "HBox(children=(FloatProgress(value=0.0, max=640.0), HTML(value='')))"
      ]
     },
     "metadata": {},
     "output_type": "display_data"
    },
    {
     "name": "stdout",
     "output_type": "stream",
     "text": [
      "Epoch [9/10], Step [1/640], Training Loss: 201.04864888184\n",
      "Epoch [9/10], Step [513/640], Training Loss: 200.98059498634\n",
      "\n"
     ]
    },
    {
     "data": {
      "application/vnd.jupyter.widget-view+json": {
       "model_id": "4e7fb790be23427089cf6b0d4241b033",
       "version_major": 2,
       "version_minor": 0
      },
      "text/plain": [
       "HBox(children=(FloatProgress(value=0.0, max=640.0), HTML(value='')))"
      ]
     },
     "metadata": {},
     "output_type": "display_data"
    },
    {
     "name": "stdout",
     "output_type": "stream",
     "text": [
      "Epoch [10/10], Step [1/640], Training Loss: 200.88067022161\n",
      "Epoch [10/10], Step [513/640], Training Loss: 199.35304319739\n",
      "\n"
     ]
    }
   ],
   "source": [
    "model.train()\n",
    "num_epochs = 10\n",
    "for seed_trn in [98712*23, 14112*29, 15439*31, 92361*37]:\n",
    "    x_trn, y_trn = data_generator_slices(nsamples=n_samples_trn, \n",
    "                                         dim_x=dim_x, \n",
    "                                         init_steps=init_steps, \n",
    "                                         delta_sim_steps = delta_sim_steps,\n",
    "                                         dx=dx, \n",
    "                                         dt=dt,\n",
    "                                         n_step=n_step,\n",
    "                                         gamma=gamma, \n",
    "                                         seed=seed_trn,\n",
    "                                         device=device)\n",
    "\n",
    "    trn_dataset = CahnHillDataset(x_trn, y_trn, transform_x=transformer_x, transform_y=transformer_y)\n",
    "    trn_loader = DataLoader(trn_dataset, batch_size=batch_size, shuffle=True, num_workers=4)\n",
    "\n",
    "    # Loss and optimizer\n",
    "    for epoch in range(num_epochs):    \n",
    "                    \n",
    "        for i, item_trn in enumerate(tqdm.tqdm_notebook(trn_loader)):       \n",
    "            model.train()\n",
    "\n",
    "            x = item_trn['x'].to(device)\n",
    "            y_t = item_trn['y'].to(device)\n",
    "\n",
    "            # Forward pass\n",
    "            y_p, y_p1 = model(x)\n",
    "            loss = criterion(y_t, y_p)*10 + criterion(y_t, y_p1)*100\n",
    "    #         y_p, y_p1 = model(x[:,0])\n",
    "    #         loss = criterion(y_t[:,-1], y_p) + criterion(y_t, y_p1)\n",
    "\n",
    "\n",
    "            # Backward and optimize\n",
    "            optimizer.zero_grad()\n",
    "            loss.backward()\n",
    "            optimizer.step()\n",
    "\n",
    "            trn_losses.append(np.sqrt(loss.item()))\n",
    "\n",
    "            if (i) % log_step == 0:                 \n",
    "                print ('Epoch [{}/{}], Step [{}/{}], Training Loss: {:.11f}'.format(epoch+1, \n",
    "                                                                                    num_epochs, \n",
    "                                                                                    i+1, \n",
    "                                                                                    len(trn_loader), \n",
    "                                                                                    np.mean(trn_losses[-log_step:])))\n",
    "            \n",
    "\n",
    "        torch.save(model.state_dict(), \"out/unet_convLSTM_ch{}_step_{}_nstep_{}_4thtry.pt\".format(ngf, delta_sim_steps, n_step)) "
   ]
  },
  {
   "cell_type": "code",
   "execution_count": 91,
   "metadata": {},
   "outputs": [
    {
     "data": {
      "image/png": "[encoded data removed]",
      "text/plain": [
       "<Figure size 640x480 with 1 Axes>"
      ]
     },
     "metadata": {
      "needs_background": "light"
     },
     "output_type": "display_data"
    }
   ],
   "source": [
    "plt.plot(trn_losses)\n",
    "plt.title(\"training losses\")\n",
    "plt.xlabel(\"training steps\")\n",
    "plt.ylabel(\"mean squared error\")\n",
    "plt.show()"
   ]
  },
  {
   "cell_type": "code",
   "execution_count": 35,
   "metadata": {},
   "outputs": [
    {
     "name": "stdout",
     "output_type": "stream",
     "text": [
      "Mean Error on Validation Set: 0.0489\n"
     ]
    }
   ],
   "source": [
    "model.eval()\n",
    "x_val, y_val = data_generator_slices(nsamples=32, \n",
    "                              dim_x=96, \n",
    "                              init_steps=init_steps, \n",
    "                              delta_sim_steps = delta_sim_steps,\n",
    "                              dx = dx, \n",
    "                              dt = dt,\n",
    "                              gamma=gamma, \n",
    "                              seed =174753,\n",
    "                              n_step=n_step,\n",
    "                              device = device)\n",
    "\n",
    "prd_dataset = CahnHillDataset(x_val, y_val, transform_x=transformer_x, transform_y=transformer_y)\n",
    "err = []\n",
    "for ix, item_prd in enumerate(prd_dataset):\n",
    "    x1 = item_prd['x'][None].to(device)\n",
    "    y1 = item_prd['y'][None].to(device)\n",
    "    y2, y2_u = model(x1)\n",
    "    err.append(np.sqrt(mse_loss(y1.detach().cpu(), y2.detach().cpu())))\n",
    "    \n",
    "print(\"Mean Error on Validation Set: {:1.4f}\".format(np.mean(err)))"
   ]
  },
  {
   "cell_type": "code",
   "execution_count": 57,
   "metadata": {
    "scrolled": false
   },
   "outputs": [],
   "source": [
    "model.eval()\n",
    "nsamples=2\n",
    "x_val, y_val = data_generator_slices(nsamples=nsamples, \n",
    "                              dim_x=96, \n",
    "                              init_steps=init_steps, \n",
    "                              delta_sim_steps = delta_sim_steps,\n",
    "                              dx = dx, \n",
    "                              dt = dt,\n",
    "                              gamma=gamma, \n",
    "                              seed =174753,\n",
    "                              n_step=n_step,\n",
    "                              device = device)\n",
    "\n",
    "\n",
    "\n",
    "val_dataset = CahnHillDataset(x_val, y_val, transform_x=transformer_x, transform_y=transformer_y)\n",
    "val_loader = DataLoader(val_dataset, batch_size=nsamples, shuffle=True, num_workers=1)\n",
    "\n",
    "total_val_step = len(val_loader)\n",
    "print(\"No. of validation steps: %d\" % total_val_step)\n",
    "\n",
    "ix = 0\n",
    "\n",
    "item_prd = next(iter(val_loader))\n",
    "x1 = item_prd['x'].to(device)\n",
    "y1 = item_prd['y'].to(device)\n",
    "y2, y2_u = model.predict(x1[:,0])\n",
    "\n",
    "im_x1 = x1[ix][0].detach().cpu().numpy()\n",
    "im_y1 = y1[ix][-1].detach().cpu().numpy()\n",
    "im_y2 = y2[ix][-1].detach().cpu().numpy()\n",
    "\n",
    "utils.draw_im(im_x1[0], \"inp\")\n",
    "utils.draw_by_side(im_y1[0], im_y2[0], title_left=\"Sim\", title_right=\"CNN\")"
   ]
  }
 ],
 "metadata": {
  "kernelspec": {
   "display_name": "Python 3",
   "language": "python",
   "name": "python3"
  },
  "language_info": {
   "codemirror_mode": {
    "name": "ipython",
    "version": 3
   },
   "file_extension": ".py",
   "mimetype": "text/x-python",
   "name": "python",
   "nbconvert_exporter": "python",
   "pygments_lexer": "ipython3",
   "version": "3.7.4"
  }
 },
 "nbformat": 4,
 "nbformat_minor": 2
}
