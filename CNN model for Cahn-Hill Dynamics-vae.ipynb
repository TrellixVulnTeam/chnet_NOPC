{
 "cells": [
  {
   "cell_type": "code",
   "execution_count": 1,
   "metadata": {},
   "outputs": [],
   "source": [
    "%load_ext autoreload\n",
    "%autoreload 2"
   ]
  },
  {
   "cell_type": "code",
   "execution_count": 2,
   "metadata": {},
   "outputs": [],
   "source": [
    "import os\n",
    "import time\n",
    "import tqdm\n",
    "import json\n",
    "import torch\n",
    "import warnings\n",
    "import numpy as np\n",
    "import torch.nn as nn\n",
    "from datetime import datetime\n",
    "import torch.nn.functional as F\n",
    "import matplotlib.pyplot as plt\n",
    "from chnet.torchsummary import summary\n",
    "from torchvision import transforms, utils\n",
    "from toolz.curried import pipe, curry, compose\n",
    "from torch.utils.data import Dataset, DataLoader"
   ]
  },
  {
   "cell_type": "code",
   "execution_count": 3,
   "metadata": {},
   "outputs": [],
   "source": [
    "import utilities as utils\n",
    "import chnet.cahn_hill as ch\n",
    "import chnet.ch_tools as tools"
   ]
  },
  {
   "cell_type": "code",
   "execution_count": 4,
   "metadata": {},
   "outputs": [],
   "source": [
    "from chnet.unet import UNet\n",
    "from chnet.ch_net import CHnet\n",
    "from chnet.ch_loader import CahnHillDataset"
   ]
  },
  {
   "cell_type": "code",
   "execution_count": 5,
   "metadata": {},
   "outputs": [],
   "source": [
    "warnings.filterwarnings('ignore')"
   ]
  },
  {
   "cell_type": "code",
   "execution_count": 6,
   "metadata": {},
   "outputs": [],
   "source": [
    "import matplotlib as mpl\n",
    "\n",
    "mpl.rcParams['figure.figsize'] = [8.0, 6.0]\n",
    "mpl.rcParams['figure.dpi'] = 80\n",
    "mpl.rcParams['savefig.dpi'] = 100\n",
    "\n",
    "mpl.rcParams['font.size'] = 12\n",
    "mpl.rcParams['legend.fontsize'] = 'large'\n",
    "mpl.rcParams['figure.titlesize'] = 'medium'\n",
    "\n",
    "def draw_im(im, title=None):\n",
    "    im = np.squeeze(im)\n",
    "    plt.imshow(im)\n",
    "    plt.colorbar()\n",
    "    if title is not None:\n",
    "        plt.title(title)\n",
    "    plt.show()\n",
    "    \n",
    "@curry\n",
    "def return_slice(x_data, cutoff):\n",
    "    if cutoff is not None:\n",
    "        return pipe(x_data,\n",
    "                    lambda x_data: np.asarray(x_data.shape).astype(int) // 2,\n",
    "                    lambda new_shape: [slice(new_shape[idim]-cutoff,\n",
    "                                             new_shape[idim]+cutoff+1)\n",
    "                                       for idim in range(x_data.ndim)],\n",
    "                    lambda slices: x_data[slices])\n",
    "    else:\n",
    "        return x_data\n",
    "    \n",
    "cropper = return_slice(cutoff=5)"
   ]
  },
  {
   "cell_type": "code",
   "execution_count": 7,
   "metadata": {},
   "outputs": [],
   "source": [
    "def init_unif(nsamples, dim_x, dim_y, seed=354875):\n",
    "    np.random.seed(seed)\n",
    "    return np.random.uniform(-0.95, 0.95, size=(nsamples, dim_x, dim_y))\n",
    "\n",
    "\n",
    "def init_norm(nsamples, dim_x, dim_y, seed=354875):\n",
    "    np.random.seed(seed)\n",
    "    means  = np.random.uniform(-0.1, 0.1, size=nsamples)\n",
    "    np.random.seed(seed)\n",
    "    scales  = np.random.uniform(0.1, 0.5, size=nsamples)\n",
    "    \n",
    "    x_data = [np.random.normal(loc=m, scale=s, size = (1, dim_x, dim_y)) for m,s in zip(means, scales)]\n",
    "    x_data = np.concatenate(x_data, axis=0)\n",
    "    \n",
    "    np.clip(x_data, -0.95, 0.95, out=x_data)\n",
    "    \n",
    "    return x_data"
   ]
  },
  {
   "cell_type": "markdown",
   "metadata": {},
   "source": [
    "## Loss Functions"
   ]
  },
  {
   "cell_type": "code",
   "execution_count": 8,
   "metadata": {},
   "outputs": [],
   "source": [
    "@curry\n",
    "def mse_loss(y1, y2, scale=1.):\n",
    "    \"\"\"standard MSE definition\"\"\"\n",
    "    return ((y1 - y2) ** 2).sum() / y1.data.nelement() * scale\n",
    "\n",
    "@curry\n",
    "def rmse_loss(y1, y2, scale=1.):\n",
    "    \"\"\"standard RMSE definition\"\"\"\n",
    "    return ((((y1 - y2) ** 2).sum() / y1.data.nelement()).sqrt()) * scale\n",
    "\n",
    "\n",
    "def mse_loss_npy(y1, y2):\n",
    "    \"\"\"standard MSE definition\"\"\"\n",
    "    return np.sum(((y1 - y2) ** 2)) / y1.size"
   ]
  },
  {
   "cell_type": "markdown",
   "metadata": {},
   "source": [
    "## Transformers"
   ]
  },
  {
   "cell_type": "code",
   "execution_count": 9,
   "metadata": {},
   "outputs": [],
   "source": [
    "@curry\n",
    "def add_neighbors(x):\n",
    "    dimx = x.shape[0]\n",
    "    y = np.pad(x, pad_width=[[2,2],[2,2]], mode=\"wrap\")\n",
    "    out = [x[None]]\n",
    "    for ix in [0, 1, 2, 3, 4]:\n",
    "        for iy in [0, 1, 2, 3, 4]:\n",
    "            out.append((y[ix:ix+dimx, iy:iy+dimx] * x)[None])\n",
    "    return np.concatenate(out, axis=0)"
   ]
  },
  {
   "cell_type": "markdown",
   "metadata": {},
   "source": [
    "## Data Generators"
   ]
  },
  {
   "cell_type": "code",
   "execution_count": 10,
   "metadata": {},
   "outputs": [],
   "source": [
    "@curry\n",
    "def data_generator(nsamples=16, \n",
    "                   dim_x=64, \n",
    "                   init_steps=100, \n",
    "                   delta_sim_steps = 500,\n",
    "                   dx = 0.25, \n",
    "                   dt = 0.01,\n",
    "                   gamma=1.0, \n",
    "                   seed = None,\n",
    "                   device = torch.device(\"cuda:0\")):\n",
    "    \n",
    "    init_data1 = init_unif(nsamples//2, dim_x, dim_x, seed=seed)\n",
    "    init_data2 = init_norm(nsamples//2, dim_x, dim_x, seed=seed)\n",
    "    init_data = np.concatenate([init_data1, init_data2], axis=0)\n",
    "    \n",
    "    x_data = ch.ch_run_torch(init_data, dt=dt, gamma=gamma, \n",
    "                             dx=dx, sim_step=init_steps, device=device)\n",
    "    y_data = ch.ch_run_torch(x_data, dt=dt, gamma=gamma, \n",
    "                             dx=dx, sim_step=init_steps+delta_sim_steps, device=device)\n",
    "    return x_data, y_data"
   ]
  },
  {
   "cell_type": "markdown",
   "metadata": {},
   "source": [
    "# Set Device"
   ]
  },
  {
   "cell_type": "code",
   "execution_count": 11,
   "metadata": {},
   "outputs": [],
   "source": [
    "# device = torch.device('cuda' if torch.cuda.is_available() else 'cpu')\n",
    "device = torch.device(\"cuda\")"
   ]
  },
  {
   "cell_type": "markdown",
   "metadata": {},
   "source": [
    "## Data Generation"
   ]
  },
  {
   "cell_type": "code",
   "execution_count": 12,
   "metadata": {},
   "outputs": [],
   "source": [
    "x_data, y_data = data_generator(nsamples=16, dim_x=64, \n",
    "                                init_steps=10, \n",
    "                                delta_sim_steps = 50,\n",
    "                                dx = 0.25, \n",
    "                                dt = 0.01,\n",
    "                                gamma=1.0, \n",
    "                                seed = None,\n",
    "                                device = device)"
   ]
  },
  {
   "cell_type": "markdown",
   "metadata": {},
   "source": [
    "# CNN Model"
   ]
  },
  {
   "cell_type": "code",
   "execution_count": 13,
   "metadata": {},
   "outputs": [],
   "source": [
    "# model = torch.hub.load('pytorch/vision:v0.5.0', 'fcn_resnet101', pretrained=False)\n",
    "# summary(model, input_size=(1, 64, 64))\n",
    "\n",
    "# # model = torch.hub.load('mateuszbuda/brain-segmentation-pytorch', 'unet', \n",
    "# #                        in_channels=1, \n",
    "# #                        out_channels=1, \n",
    "# #                        init_features=32, \n",
    "# #                        pretrained=False).double().to(device)"
   ]
  },
  {
   "cell_type": "code",
   "execution_count": 13,
   "metadata": {},
   "outputs": [
    {
     "name": "stdout",
     "output_type": "stream",
     "text": [
      "torch.Size([1, 1, 64, 64]) torch.Size([1, 1, 64, 64])\n"
     ]
    }
   ],
   "source": [
    "transformer_x = lambda x: x[None]\n",
    "transformer_y = lambda x: x[None]\n",
    "\n",
    "dataset = CahnHillDataset(x_data, y_data, transform_x=transformer_x, transform_y=transformer_y)\n",
    "\n",
    "item = dataset[0]\n",
    "x = item[\"x\"][None].to(device)\n",
    "y = item[\"y\"][None].to(device)\n",
    "\n",
    "print(x.shape, y.shape)"
   ]
  },
  {
   "cell_type": "code",
   "execution_count": 21,
   "metadata": {},
   "outputs": [],
   "source": [
    "from chnet.unet import UNet\n",
    "from chnet.vae import VAE\n",
    "model = VAE(in_channels=1, out_channels=1).double().to(device)"
   ]
  },
  {
   "cell_type": "code",
   "execution_count": 23,
   "metadata": {},
   "outputs": [
    {
     "name": "stdout",
     "output_type": "stream",
     "text": [
      "----------------------------------------------------------------\n",
      "        Layer (type)               Output Shape         Param #\n",
      "================================================================\n",
      "            Conv2d-1           [-1, 32, 31, 31]             544\n",
      "              ReLU-2           [-1, 32, 31, 31]               0\n",
      "            Conv2d-3           [-1, 64, 14, 14]          32,832\n",
      "              ReLU-4           [-1, 64, 14, 14]               0\n",
      "            Conv2d-5            [-1, 128, 6, 6]         131,200\n",
      "              ReLU-6            [-1, 128, 6, 6]               0\n",
      "            Conv2d-7            [-1, 256, 2, 2]         524,544\n",
      "              ReLU-8            [-1, 256, 2, 2]               0\n",
      "           Flatten-9                 [-1, 1024]               0\n",
      "           Linear-10                   [-1, 32]          32,800\n",
      "           Linear-11                   [-1, 32]          32,800\n",
      "           Linear-12                 [-1, 1024]          33,792\n",
      "        UnFlatten-13           [-1, 1024, 1, 1]               0\n",
      "  ConvTranspose2d-14            [-1, 128, 5, 5]       3,276,928\n",
      "             ReLU-15            [-1, 128, 5, 5]               0\n",
      "  ConvTranspose2d-16           [-1, 64, 13, 13]         204,864\n",
      "             ReLU-17           [-1, 64, 13, 13]               0\n",
      "  ConvTranspose2d-18           [-1, 32, 30, 30]          73,760\n",
      "             ReLU-19           [-1, 32, 30, 30]               0\n",
      "  ConvTranspose2d-20            [-1, 1, 64, 64]           1,153\n",
      "             Tanh-21            [-1, 1, 64, 64]               0\n",
      "              VAE-22            [-1, 1, 64, 64]               0\n",
      "================================================================\n",
      "Total params: 4,345,217\n",
      "Trainable params: 4,345,217\n",
      "Non-trainable params: 0\n",
      "----------------------------------------------------------------\n",
      "Input size (MB): 0.02\n",
      "Forward/backward pass size (MB): 1.52\n",
      "Params size (MB): 16.00\n",
      "Estimated Total Size (MB): 17.00\n",
      "----------------------------------------------------------------\n",
      "\n"
     ]
    },
    {
     "data": {
      "text/plain": [
       "(tensor(4345217), tensor(4345217))"
      ]
     },
     "execution_count": 23,
     "metadata": {},
     "output_type": "execute_result"
    }
   ],
   "source": [
    "summary(model, dtypes=[torch.double], input_size=(1, 64, 64))"
   ]
  },
  {
   "cell_type": "code",
   "execution_count": 16,
   "metadata": {},
   "outputs": [
    {
     "name": "stdout",
     "output_type": "stream",
     "text": [
      "tensor(0.0038, device='cuda:0', dtype=torch.float64)\n"
     ]
    }
   ],
   "source": [
    "model = VAE(in_channels=1, out_channels=1).double().to(device)\n",
    "item = dataset[0]\n",
    "x = item[\"x\"][None].to(device)\n",
    "y = item[\"y\"][None].to(device)\n",
    "y_pred = model(x)\n",
    "\n",
    "assert y.shape == y_pred.shape\n",
    "print(mse_loss(y, y_pred).data)"
   ]
  },
  {
   "cell_type": "markdown",
   "metadata": {},
   "source": [
    "# Model Training"
   ]
  },
  {
   "cell_type": "markdown",
   "metadata": {},
   "source": [
    "### Training and Validation data generation"
   ]
  },
  {
   "cell_type": "code",
   "execution_count": 38,
   "metadata": {},
   "outputs": [],
   "source": [
    "## Process Parameters\n",
    "dim_x=64\n",
    "init_steps=10\n",
    "delta_sim_steps = 5000\n",
    "dx = 0.25 \n",
    "dt = 0.01\n",
    "gamma=1.0\n",
    "\n",
    "seed_trn = 110364\n",
    "seed_val = 986423\n",
    "seed_prd = 284296\n",
    "\n",
    "n_samples_trn = 1024*20\n",
    "n_samples_val = 128\n",
    "n_samples_prd = 32\n",
    "\n",
    "init_features=64"
   ]
  },
  {
   "cell_type": "code",
   "execution_count": 39,
   "metadata": {},
   "outputs": [],
   "source": [
    "args = {}\n",
    "args[\"dim_x\"] = dim_x\n",
    "args[\"init_steps\"] = init_steps\n",
    "args[\"delta_sim_steps\"] = delta_sim_steps\n",
    "args[\"dx\"] = dx\n",
    "args[\"dt\"] = dt\n",
    "args[\"gamma\"] = gamma\n",
    "args[\"seed_trn\"] = seed_trn\n",
    "args[\"seed_val\"] = seed_val\n",
    "args[\"seed_val\"] = seed_prd\n",
    "\n",
    "args[\"n_samples_trn\"] = n_samples_trn\n",
    "args[\"n_samples_val\"] = n_samples_val\n",
    "args[\"n_samples_prd\"] = n_samples_prd\n",
    "\n",
    "args[\"init_features\"] = init_features"
   ]
  },
  {
   "cell_type": "code",
   "execution_count": 40,
   "metadata": {},
   "outputs": [
    {
     "name": "stdout",
     "output_type": "stream",
     "text": [
      "CPU times: user 1min 30s, sys: 1min 29s, total: 2min 59s\n",
      "Wall time: 2min 57s\n"
     ]
    }
   ],
   "source": [
    "%%time\n",
    "x_trn, y_trn = data_generator(nsamples=n_samples_trn, \n",
    "                              dim_x=dim_x, \n",
    "                                init_steps=init_steps, \n",
    "                                delta_sim_steps = delta_sim_steps,\n",
    "                                dx = dx, \n",
    "                                dt = dt,\n",
    "                                gamma=gamma, \n",
    "                                seed =seed_trn,\n",
    "                                device = device)\n",
    "\n",
    "\n",
    "\n",
    "x_val, y_val = data_generator(nsamples=n_samples_val, \n",
    "                              dim_x=dim_x, \n",
    "                                init_steps=init_steps, \n",
    "                                delta_sim_steps = delta_sim_steps,\n",
    "                                dx = dx, \n",
    "                                dt = dt,\n",
    "                                gamma=gamma, \n",
    "                                seed =seed_val,\n",
    "                                device = device)\n",
    "\n",
    "x_prd, y_prd = data_generator(nsamples=n_samples_prd, \n",
    "                              dim_x=dim_x, \n",
    "                                init_steps=init_steps, \n",
    "                                delta_sim_steps = delta_sim_steps,\n",
    "                                dx = dx, \n",
    "                                dt = dt,\n",
    "                                gamma=gamma, \n",
    "                                seed =seed_prd,\n",
    "                                device = device)"
   ]
  },
  {
   "cell_type": "code",
   "execution_count": 41,
   "metadata": {},
   "outputs": [
    {
     "data": {
      "image/png": "[encoded data removed]",
      "text/plain": [
       "<Figure size 640x480 with 2 Axes>"
      ]
     },
     "metadata": {
      "needs_background": "light"
     },
     "output_type": "display_data"
    }
   ],
   "source": [
    "draw_im(x_trn[0], \"training input\")"
   ]
  },
  {
   "cell_type": "code",
   "execution_count": 42,
   "metadata": {},
   "outputs": [
    {
     "data": {
      "image/png": "[encoded data removed]",
      "text/plain": [
       "<Figure size 640x480 with 2 Axes>"
      ]
     },
     "metadata": {
      "needs_background": "light"
     },
     "output_type": "display_data"
    }
   ],
   "source": [
    "draw_im(y_trn[0], \"training output\")"
   ]
  },
  {
   "cell_type": "code",
   "execution_count": 43,
   "metadata": {},
   "outputs": [
    {
     "name": "stdout",
     "output_type": "stream",
     "text": [
      "No. of training steps: 640\n",
      "No. of validation steps: 4\n",
      "No. of prediction steps: 4\n"
     ]
    }
   ],
   "source": [
    "transformer_x = lambda x: x[None]\n",
    "transformer_y = lambda x: x[None]\n",
    "\n",
    "trn_dataset = CahnHillDataset(x_trn, y_trn, transform_x=transformer_x, transform_y=transformer_y)\n",
    "val_dataset = CahnHillDataset(x_val, y_val, transform_x=transformer_x, transform_y=transformer_y)\n",
    "prd_dataset = CahnHillDataset(x_prd, y_prd, transform_x=transformer_x, transform_y=transformer_y)\n",
    "\n",
    "batch_size = 32\n",
    "\n",
    "trn_loader = DataLoader(trn_dataset, batch_size=batch_size, shuffle=True, num_workers=1)\n",
    "val_loader = DataLoader(val_dataset, batch_size=batch_size, shuffle=True, num_workers=1)\n",
    "prd_loader = DataLoader(prd_dataset, batch_size=8, shuffle=True, num_workers=1)\n",
    "\n",
    "\n",
    "total_step = len(trn_loader)\n",
    "print(\"No. of training steps: %d\" % total_step)\n",
    "total_val_step = len(val_loader)\n",
    "print(\"No. of validation steps: %d\" % total_val_step)\n",
    "total_val_step = len(prd_loader)\n",
    "print(\"No. of prediction steps: %d\" % total_val_step)"
   ]
  },
  {
   "cell_type": "code",
   "execution_count": 44,
   "metadata": {},
   "outputs": [],
   "source": [
    "dt_string = datetime.now().strftime(\"%d-%m-%Y-%H-%M\")"
   ]
  },
  {
   "cell_type": "code",
   "execution_count": 45,
   "metadata": {},
   "outputs": [
    {
     "name": "stdout",
     "output_type": "stream",
     "text": [
      "11-04-2020-15-52_run_5\n",
      "out/unet/ch_unet_id_11-04-2020-15-52_run_5/\n",
      "out/unet/ch_unet_id_11-04-2020-15-52_run_5/unet_\n"
     ]
    }
   ],
   "source": [
    "run = 5\n",
    "run_id = dt_string + \"_run_\" +str(run)\n",
    "print(run_id)\n",
    "\n",
    "folder = \"out/unet/ch_unet_id_{}/\".format(run_id)\n",
    "print(folder)\n",
    "\n",
    "if not os.path.exists(folder):\n",
    "    os.makedirs(folder)\n",
    "    \n",
    "with open(folder+'params.json', 'w') as fp:\n",
    "    json.dump(args, fp)\n",
    "    \n",
    "tag = folder+\"unet_\"\n",
    "print(tag)"
   ]
  },
  {
   "cell_type": "code",
   "execution_count": 46,
   "metadata": {},
   "outputs": [],
   "source": [
    "from chnet.vae import VAE\n",
    "model = VAE(in_channels=1, out_channels=1).double().to(device)"
   ]
  },
  {
   "cell_type": "code",
   "execution_count": 48,
   "metadata": {},
   "outputs": [],
   "source": [
    "num_epochs = 50\n",
    "criterion = mse_loss(scale=10000)\n",
    "learning_rate = 1e-5\n",
    "optimizer = torch.optim.Adam(model.parameters(), lr=learning_rate)\n",
    "trn_losses = []\n",
    "val_losses = []"
   ]
  },
  {
   "cell_type": "code",
   "execution_count": 51,
   "metadata": {},
   "outputs": [
    {
     "data": {
      "application/vnd.jupyter.widget-view+json": {
       "model_id": "0832b094ec2747fb91f49322f576a810",
       "version_major": 2,
       "version_minor": 0
      },
      "text/plain": [
       "HBox(children=(FloatProgress(value=0.0, max=640.0), HTML(value='')))"
      ]
     },
     "metadata": {},
     "output_type": "display_data"
    },
    {
     "name": "stdout",
     "output_type": "stream",
     "text": [
      "Epoch [1/50], Step [1/640], Training Loss: 69.38012490067, Validation Loss: 69.56441976640\n",
      "Epoch [1/50], Step [257/640], Training Loss: 69.42728438868, Validation Loss: 69.72329035648\n",
      "Epoch [1/50], Step [513/640], Training Loss: 69.59803068885, Validation Loss: 69.85372632266\n",
      "\n"
     ]
    },
    {
     "data": {
      "application/vnd.jupyter.widget-view+json": {
       "model_id": "de4bee14e9af4e279f6477199e0ca7a5",
       "version_major": 2,
       "version_minor": 0
      },
      "text/plain": [
       "HBox(children=(FloatProgress(value=0.0, max=640.0), HTML(value='')))"
      ]
     },
     "metadata": {},
     "output_type": "display_data"
    },
    {
     "name": "stdout",
     "output_type": "stream",
     "text": [
      "Epoch [2/50], Step [1/640], Training Loss: 69.52265052624, Validation Loss: 69.59861100002\n",
      "Epoch [2/50], Step [257/640], Training Loss: 69.39648898055, Validation Loss: 69.81380778582\n",
      "Epoch [2/50], Step [513/640], Training Loss: 69.55072785309, Validation Loss: 69.64623787773\n",
      "\n"
     ]
    },
    {
     "data": {
      "application/vnd.jupyter.widget-view+json": {
       "model_id": "f7f7a6d741d144308f22797c174410a6",
       "version_major": 2,
       "version_minor": 0
      },
      "text/plain": [
       "HBox(children=(FloatProgress(value=0.0, max=640.0), HTML(value='')))"
      ]
     },
     "metadata": {},
     "output_type": "display_data"
    },
    {
     "name": "stdout",
     "output_type": "stream",
     "text": [
      "Epoch [3/50], Step [1/640], Training Loss: 69.60135771786, Validation Loss: 69.69543943337\n",
      "Epoch [3/50], Step [257/640], Training Loss: 69.44953726302, Validation Loss: 69.78011688207\n",
      "Epoch [3/50], Step [513/640], Training Loss: 69.50426050350, Validation Loss: 69.75776310880\n",
      "\n"
     ]
    },
    {
     "data": {
      "application/vnd.jupyter.widget-view+json": {
       "model_id": "fe1403a7ba9e4424b078269cbdf5c8fb",
       "version_major": 2,
       "version_minor": 0
      },
      "text/plain": [
       "HBox(children=(FloatProgress(value=0.0, max=640.0), HTML(value='')))"
      ]
     },
     "metadata": {},
     "output_type": "display_data"
    },
    {
     "name": "stdout",
     "output_type": "stream",
     "text": [
      "Epoch [4/50], Step [1/640], Training Loss: 69.39596927077, Validation Loss: 69.48996742893\n",
      "Epoch [4/50], Step [257/640], Training Loss: 69.55071964843, Validation Loss: 69.81043750041\n",
      "Epoch [4/50], Step [513/640], Training Loss: 69.41700205654, Validation Loss: 69.74271669226\n",
      "\n"
     ]
    },
    {
     "data": {
      "application/vnd.jupyter.widget-view+json": {
       "model_id": "81c8fb7230b04c2b8d948ddb88c81cce",
       "version_major": 2,
       "version_minor": 0
      },
      "text/plain": [
       "HBox(children=(FloatProgress(value=0.0, max=640.0), HTML(value='')))"
      ]
     },
     "metadata": {},
     "output_type": "display_data"
    },
    {
     "name": "stdout",
     "output_type": "stream",
     "text": [
      "Epoch [5/50], Step [1/640], Training Loss: 69.53444167632, Validation Loss: 69.38713795994\n",
      "Epoch [5/50], Step [257/640], Training Loss: 69.61188389340, Validation Loss: 70.04057264568\n",
      "Epoch [5/50], Step [513/640], Training Loss: 69.57560993650, Validation Loss: 69.81771772415\n",
      "\n"
     ]
    },
    {
     "data": {
      "application/vnd.jupyter.widget-view+json": {
       "model_id": "90ca8ba946324d39a05bdd14c12e3906",
       "version_major": 2,
       "version_minor": 0
      },
      "text/plain": [
       "HBox(children=(FloatProgress(value=0.0, max=640.0), HTML(value='')))"
      ]
     },
     "metadata": {},
     "output_type": "display_data"
    },
    {
     "name": "stdout",
     "output_type": "stream",
     "text": [
      "Epoch [6/50], Step [1/640], Training Loss: 69.62029306550, Validation Loss: 69.53760491220\n",
      "Epoch [6/50], Step [257/640], Training Loss: 69.40753313731, Validation Loss: 69.54554596553\n",
      "Epoch [6/50], Step [513/640], Training Loss: 69.53687028000, Validation Loss: 69.50454512851\n",
      "\n"
     ]
    },
    {
     "data": {
      "application/vnd.jupyter.widget-view+json": {
       "model_id": "b42ee9177e784815ad414b9bdd77f526",
       "version_major": 2,
       "version_minor": 0
      },
      "text/plain": [
       "HBox(children=(FloatProgress(value=0.0, max=640.0), HTML(value='')))"
      ]
     },
     "metadata": {},
     "output_type": "display_data"
    },
    {
     "name": "stdout",
     "output_type": "stream",
     "text": [
      "Epoch [7/50], Step [1/640], Training Loss: 69.61443254213, Validation Loss: 69.66021767336\n",
      "Epoch [7/50], Step [257/640], Training Loss: 69.39277753215, Validation Loss: 68.79369044956\n",
      "Epoch [7/50], Step [513/640], Training Loss: 69.37752594489, Validation Loss: 69.19211630280\n",
      "\n"
     ]
    },
    {
     "data": {
      "application/vnd.jupyter.widget-view+json": {
       "model_id": "11fa654d87424d2cb1ef5fae4558115d",
       "version_major": 2,
       "version_minor": 0
      },
      "text/plain": [
       "HBox(children=(FloatProgress(value=0.0, max=640.0), HTML(value='')))"
      ]
     },
     "metadata": {},
     "output_type": "display_data"
    },
    {
     "name": "stdout",
     "output_type": "stream",
     "text": [
      "Epoch [8/50], Step [1/640], Training Loss: 69.51369215180, Validation Loss: 69.48919958890\n",
      "Epoch [8/50], Step [257/640], Training Loss: 69.52521537568, Validation Loss: 69.66154638847\n",
      "Epoch [8/50], Step [513/640], Training Loss: 69.54171523088, Validation Loss: 69.88137608230\n",
      "\n"
     ]
    },
    {
     "data": {
      "application/vnd.jupyter.widget-view+json": {
       "model_id": "a48f1999fa6f4a558b1f441010d3be1a",
       "version_major": 2,
       "version_minor": 0
      },
      "text/plain": [
       "HBox(children=(FloatProgress(value=0.0, max=640.0), HTML(value='')))"
      ]
     },
     "metadata": {},
     "output_type": "display_data"
    },
    {
     "name": "stdout",
     "output_type": "stream",
     "text": [
      "Epoch [9/50], Step [1/640], Training Loss: 69.60087331775, Validation Loss: 69.29334146904\n",
      "Epoch [9/50], Step [257/640], Training Loss: 69.46968239425, Validation Loss: 69.07417054986\n",
      "Epoch [9/50], Step [513/640], Training Loss: 69.70542231919, Validation Loss: 69.07658276736\n",
      "\n"
     ]
    },
    {
     "data": {
      "application/vnd.jupyter.widget-view+json": {
       "model_id": "df6d4a6b7ec248bfa171ae9a45a2ca5a",
       "version_major": 2,
       "version_minor": 0
      },
      "text/plain": [
       "HBox(children=(FloatProgress(value=0.0, max=640.0), HTML(value='')))"
      ]
     },
     "metadata": {},
     "output_type": "display_data"
    },
    {
     "name": "stdout",
     "output_type": "stream",
     "text": [
      "Epoch [10/50], Step [1/640], Training Loss: 69.48622000182, Validation Loss: 69.14430670125\n",
      "Epoch [10/50], Step [257/640], Training Loss: 69.62601275332, Validation Loss: 69.38442002100\n",
      "Epoch [10/50], Step [513/640], Training Loss: 69.43836811464, Validation Loss: 69.51843886879\n",
      "\n"
     ]
    },
    {
     "data": {
      "application/vnd.jupyter.widget-view+json": {
       "model_id": "c117b9b7f1f044338ada25407800f0b8",
       "version_major": 2,
       "version_minor": 0
      },
      "text/plain": [
       "HBox(children=(FloatProgress(value=0.0, max=640.0), HTML(value='')))"
      ]
     },
     "metadata": {},
     "output_type": "display_data"
    },
    {
     "name": "stdout",
     "output_type": "stream",
     "text": [
      "Epoch [11/50], Step [1/640], Training Loss: 69.52692833647, Validation Loss: 68.87062296892\n",
      "Epoch [11/50], Step [257/640], Training Loss: 69.57990150458, Validation Loss: 69.57366890899\n",
      "Epoch [11/50], Step [513/640], Training Loss: 69.45219280872, Validation Loss: 69.80984193391\n",
      "\n"
     ]
    },
    {
     "data": {
      "application/vnd.jupyter.widget-view+json": {
       "model_id": "bf3d10a77f2c49f997c38d9713e7c25f",
       "version_major": 2,
       "version_minor": 0
      },
      "text/plain": [
       "HBox(children=(FloatProgress(value=0.0, max=640.0), HTML(value='')))"
      ]
     },
     "metadata": {},
     "output_type": "display_data"
    },
    {
     "name": "stdout",
     "output_type": "stream",
     "text": [
      "Epoch [12/50], Step [1/640], Training Loss: 69.54171298207, Validation Loss: 69.64239705871\n",
      "Epoch [12/50], Step [257/640], Training Loss: 69.52640359404, Validation Loss: 69.40240013869\n",
      "Epoch [12/50], Step [513/640], Training Loss: 69.50520006606, Validation Loss: 70.00471204977\n",
      "\n"
     ]
    },
    {
     "data": {
      "application/vnd.jupyter.widget-view+json": {
       "model_id": "d178b9cf5a0d4e69a79e68ac347ff65b",
       "version_major": 2,
       "version_minor": 0
      },
      "text/plain": [
       "HBox(children=(FloatProgress(value=0.0, max=640.0), HTML(value='')))"
      ]
     },
     "metadata": {},
     "output_type": "display_data"
    },
    {
     "name": "stdout",
     "output_type": "stream",
     "text": [
      "Epoch [13/50], Step [1/640], Training Loss: 69.58633663870, Validation Loss: 69.12670917362\n",
      "Epoch [13/50], Step [257/640], Training Loss: 69.38488878676, Validation Loss: 69.68968704370\n",
      "Epoch [13/50], Step [513/640], Training Loss: 69.47901581605, Validation Loss: 69.36273601447\n",
      "\n"
     ]
    },
    {
     "data": {
      "application/vnd.jupyter.widget-view+json": {
       "model_id": "007a1c93d3ec4404b2b29b0013d346bd",
       "version_major": 2,
       "version_minor": 0
      },
      "text/plain": [
       "HBox(children=(FloatProgress(value=0.0, max=640.0), HTML(value='')))"
      ]
     },
     "metadata": {},
     "output_type": "display_data"
    },
    {
     "name": "stdout",
     "output_type": "stream",
     "text": [
      "Epoch [14/50], Step [1/640], Training Loss: 69.58075899175, Validation Loss: 69.70151769645\n",
      "Epoch [14/50], Step [257/640], Training Loss: 69.54069695233, Validation Loss: 69.85038697443\n",
      "Epoch [14/50], Step [513/640], Training Loss: 69.56206760863, Validation Loss: 69.80938292345\n",
      "\n"
     ]
    },
    {
     "data": {
      "application/vnd.jupyter.widget-view+json": {
       "model_id": "743b81a587054e91996ca4faa2fb71b2",
       "version_major": 2,
       "version_minor": 0
      },
      "text/plain": [
       "HBox(children=(FloatProgress(value=0.0, max=640.0), HTML(value='')))"
      ]
     },
     "metadata": {},
     "output_type": "display_data"
    },
    {
     "name": "stdout",
     "output_type": "stream",
     "text": [
      "Epoch [15/50], Step [1/640], Training Loss: 69.54648148226, Validation Loss: 69.48098214352\n",
      "Epoch [15/50], Step [257/640], Training Loss: 69.39501277990, Validation Loss: 69.46608501048\n",
      "Epoch [15/50], Step [513/640], Training Loss: 69.50327378066, Validation Loss: 69.63831164378\n",
      "\n"
     ]
    },
    {
     "data": {
      "application/vnd.jupyter.widget-view+json": {
       "model_id": "9c645ff25e7c4dde961ad149b380a375",
       "version_major": 2,
       "version_minor": 0
      },
      "text/plain": [
       "HBox(children=(FloatProgress(value=0.0, max=640.0), HTML(value='')))"
      ]
     },
     "metadata": {},
     "output_type": "display_data"
    },
    {
     "name": "stdout",
     "output_type": "stream",
     "text": [
      "Epoch [16/50], Step [1/640], Training Loss: 69.50491883746, Validation Loss: 69.23994796816\n",
      "Epoch [16/50], Step [257/640], Training Loss: 69.48920567054, Validation Loss: 69.68932646704\n",
      "Epoch [16/50], Step [513/640], Training Loss: 69.62839169464, Validation Loss: 69.54535303806\n",
      "\n"
     ]
    },
    {
     "data": {
      "application/vnd.jupyter.widget-view+json": {
       "model_id": "44a76b1c2530436a8fe0dea0a8fd90f5",
       "version_major": 2,
       "version_minor": 0
      },
      "text/plain": [
       "HBox(children=(FloatProgress(value=0.0, max=640.0), HTML(value='')))"
      ]
     },
     "metadata": {},
     "output_type": "display_data"
    },
    {
     "name": "stdout",
     "output_type": "stream",
     "text": [
      "Epoch [17/50], Step [1/640], Training Loss: 69.53673008676, Validation Loss: 70.17922889883\n",
      "Epoch [17/50], Step [257/640], Training Loss: 69.50822307587, Validation Loss: 69.60700616172\n",
      "Epoch [17/50], Step [513/640], Training Loss: 69.54850701397, Validation Loss: 69.54379507806\n",
      "\n"
     ]
    },
    {
     "data": {
      "application/vnd.jupyter.widget-view+json": {
       "model_id": "de51c615a4444d1aaff9fbeb6f22d5a2",
       "version_major": 2,
       "version_minor": 0
      },
      "text/plain": [
       "HBox(children=(FloatProgress(value=0.0, max=640.0), HTML(value='')))"
      ]
     },
     "metadata": {},
     "output_type": "display_data"
    },
    {
     "name": "stdout",
     "output_type": "stream",
     "text": [
      "Epoch [18/50], Step [1/640], Training Loss: 69.39361632053, Validation Loss: 69.21435132171\n",
      "Epoch [18/50], Step [257/640], Training Loss: 69.64278483149, Validation Loss: 69.50713189613\n",
      "Epoch [18/50], Step [513/640], Training Loss: 69.53860453749, Validation Loss: 69.29021319383\n",
      "\n"
     ]
    },
    {
     "data": {
      "application/vnd.jupyter.widget-view+json": {
       "model_id": "ae8910e22c784057bfef8cf5f0e98812",
       "version_major": 2,
       "version_minor": 0
      },
      "text/plain": [
       "HBox(children=(FloatProgress(value=0.0, max=640.0), HTML(value='')))"
      ]
     },
     "metadata": {},
     "output_type": "display_data"
    },
    {
     "name": "stdout",
     "output_type": "stream",
     "text": [
      "Epoch [19/50], Step [1/640], Training Loss: 69.51095728504, Validation Loss: 69.61356636472\n",
      "Epoch [19/50], Step [257/640], Training Loss: 69.64321559905, Validation Loss: 69.67208809541\n",
      "Epoch [19/50], Step [513/640], Training Loss: 69.60162175223, Validation Loss: 70.36547688921\n",
      "\n"
     ]
    },
    {
     "data": {
      "application/vnd.jupyter.widget-view+json": {
       "model_id": "7eb08a4073b5444b9487fe59d9fffc0b",
       "version_major": 2,
       "version_minor": 0
      },
      "text/plain": [
       "HBox(children=(FloatProgress(value=0.0, max=640.0), HTML(value='')))"
      ]
     },
     "metadata": {},
     "output_type": "display_data"
    },
    {
     "name": "stdout",
     "output_type": "stream",
     "text": [
      "Epoch [20/50], Step [1/640], Training Loss: 69.62265821945, Validation Loss: 69.53253451442\n",
      "Epoch [20/50], Step [257/640], Training Loss: 69.51121254770, Validation Loss: 69.60928992313\n",
      "Epoch [20/50], Step [513/640], Training Loss: 69.52514392482, Validation Loss: 70.16848707812\n",
      "\n"
     ]
    },
    {
     "data": {
      "application/vnd.jupyter.widget-view+json": {
       "model_id": "467a722e0d69497d94ef207e8bb7c376",
       "version_major": 2,
       "version_minor": 0
      },
      "text/plain": [
       "HBox(children=(FloatProgress(value=0.0, max=640.0), HTML(value='')))"
      ]
     },
     "metadata": {},
     "output_type": "display_data"
    },
    {
     "name": "stdout",
     "output_type": "stream",
     "text": [
      "Epoch [21/50], Step [1/640], Training Loss: 69.57354988896, Validation Loss: 69.43118222899\n",
      "Epoch [21/50], Step [257/640], Training Loss: 69.50727401912, Validation Loss: 69.26815336315\n",
      "Epoch [21/50], Step [513/640], Training Loss: 69.51803902400, Validation Loss: 69.51346473369\n",
      "\n"
     ]
    },
    {
     "data": {
      "application/vnd.jupyter.widget-view+json": {
       "model_id": "afa02fa7eee041e393f7f6d2b618649e",
       "version_major": 2,
       "version_minor": 0
      },
      "text/plain": [
       "HBox(children=(FloatProgress(value=0.0, max=640.0), HTML(value='')))"
      ]
     },
     "metadata": {},
     "output_type": "display_data"
    },
    {
     "name": "stdout",
     "output_type": "stream",
     "text": [
      "Epoch [22/50], Step [1/640], Training Loss: 69.69597704400, Validation Loss: 69.19080699186\n",
      "Epoch [22/50], Step [257/640], Training Loss: 69.56418384217, Validation Loss: 69.29666538474\n",
      "Epoch [22/50], Step [513/640], Training Loss: 69.51894555593, Validation Loss: 69.17768567960\n",
      "\n"
     ]
    },
    {
     "data": {
      "application/vnd.jupyter.widget-view+json": {
       "model_id": "78c26459b5c141a489fca9ab38ca71c3",
       "version_major": 2,
       "version_minor": 0
      },
      "text/plain": [
       "HBox(children=(FloatProgress(value=0.0, max=640.0), HTML(value='')))"
      ]
     },
     "metadata": {},
     "output_type": "display_data"
    },
    {
     "name": "stdout",
     "output_type": "stream",
     "text": [
      "Epoch [23/50], Step [1/640], Training Loss: 69.47633288193, Validation Loss: 69.52286887593\n",
      "Epoch [23/50], Step [257/640], Training Loss: 69.58406068384, Validation Loss: 69.55798249353\n",
      "Epoch [23/50], Step [513/640], Training Loss: 69.52913419490, Validation Loss: 69.34474225608\n",
      "\n"
     ]
    },
    {
     "data": {
      "application/vnd.jupyter.widget-view+json": {
       "model_id": "e3f7a9f8af544a02b5af1e3d771514f3",
       "version_major": 2,
       "version_minor": 0
      },
      "text/plain": [
       "HBox(children=(FloatProgress(value=0.0, max=640.0), HTML(value='')))"
      ]
     },
     "metadata": {},
     "output_type": "display_data"
    },
    {
     "name": "stdout",
     "output_type": "stream",
     "text": [
      "Epoch [24/50], Step [1/640], Training Loss: 69.55413661369, Validation Loss: 69.10916247739\n",
      "Epoch [24/50], Step [257/640], Training Loss: 69.66136141682, Validation Loss: 69.60669173971\n",
      "Epoch [24/50], Step [513/640], Training Loss: 69.40698421028, Validation Loss: 69.30433070487\n",
      "\n"
     ]
    },
    {
     "data": {
      "application/vnd.jupyter.widget-view+json": {
       "model_id": "44aa7b0b582a4255805819a720ab1eb4",
       "version_major": 2,
       "version_minor": 0
      },
      "text/plain": [
       "HBox(children=(FloatProgress(value=0.0, max=640.0), HTML(value='')))"
      ]
     },
     "metadata": {},
     "output_type": "display_data"
    },
    {
     "name": "stdout",
     "output_type": "stream",
     "text": [
      "Epoch [25/50], Step [1/640], Training Loss: 69.49481102329, Validation Loss: 69.44509050507\n",
      "Epoch [25/50], Step [257/640], Training Loss: 69.51167132541, Validation Loss: 69.20319126642\n",
      "Epoch [25/50], Step [513/640], Training Loss: 69.50959548618, Validation Loss: 69.15491031771\n",
      "\n"
     ]
    },
    {
     "data": {
      "application/vnd.jupyter.widget-view+json": {
       "model_id": "addaff1dce2841c695fe78cf93bcad99",
       "version_major": 2,
       "version_minor": 0
      },
      "text/plain": [
       "HBox(children=(FloatProgress(value=0.0, max=640.0), HTML(value='')))"
      ]
     },
     "metadata": {},
     "output_type": "display_data"
    },
    {
     "name": "stdout",
     "output_type": "stream",
     "text": [
      "Epoch [26/50], Step [1/640], Training Loss: 69.53372251702, Validation Loss: 69.10791844135\n",
      "Epoch [26/50], Step [257/640], Training Loss: 69.48764515450, Validation Loss: 69.59735286051\n",
      "Epoch [26/50], Step [513/640], Training Loss: 69.40202873861, Validation Loss: 69.40626065898\n",
      "\n"
     ]
    },
    {
     "data": {
      "application/vnd.jupyter.widget-view+json": {
       "model_id": "4fc454fd0a9d4e5abc8a7195a307ecc4",
       "version_major": 2,
       "version_minor": 0
      },
      "text/plain": [
       "HBox(children=(FloatProgress(value=0.0, max=640.0), HTML(value='')))"
      ]
     },
     "metadata": {},
     "output_type": "display_data"
    },
    {
     "name": "stdout",
     "output_type": "stream",
     "text": [
      "Epoch [27/50], Step [1/640], Training Loss: 69.51703395466, Validation Loss: 69.86285560325\n",
      "Epoch [27/50], Step [257/640], Training Loss: 69.59833157153, Validation Loss: 69.41259885426\n",
      "Epoch [27/50], Step [513/640], Training Loss: 69.60767838803, Validation Loss: 69.42218620880\n",
      "\n"
     ]
    },
    {
     "data": {
      "application/vnd.jupyter.widget-view+json": {
       "model_id": "580f60e646ad4aa2b4db2800d212caa6",
       "version_major": 2,
       "version_minor": 0
      },
      "text/plain": [
       "HBox(children=(FloatProgress(value=0.0, max=640.0), HTML(value='')))"
      ]
     },
     "metadata": {},
     "output_type": "display_data"
    },
    {
     "name": "stdout",
     "output_type": "stream",
     "text": [
      "Epoch [28/50], Step [1/640], Training Loss: 69.56648353587, Validation Loss: 69.42277832582\n",
      "Epoch [28/50], Step [257/640], Training Loss: 69.56046497076, Validation Loss: 69.54057956265\n",
      "Epoch [28/50], Step [513/640], Training Loss: 69.49243885357, Validation Loss: 69.36885616842\n",
      "\n"
     ]
    },
    {
     "data": {
      "application/vnd.jupyter.widget-view+json": {
       "model_id": "067b2eacc0144cbc9994319eea75deb3",
       "version_major": 2,
       "version_minor": 0
      },
      "text/plain": [
       "HBox(children=(FloatProgress(value=0.0, max=640.0), HTML(value='')))"
      ]
     },
     "metadata": {},
     "output_type": "display_data"
    },
    {
     "name": "stdout",
     "output_type": "stream",
     "text": [
      "Epoch [29/50], Step [1/640], Training Loss: 69.54436314709, Validation Loss: 69.70891278732\n",
      "Epoch [29/50], Step [257/640], Training Loss: 69.50855731572, Validation Loss: 69.70767787755\n",
      "Epoch [29/50], Step [513/640], Training Loss: 69.63832578090, Validation Loss: 69.56200974977\n",
      "\n"
     ]
    },
    {
     "data": {
      "application/vnd.jupyter.widget-view+json": {
       "model_id": "576784f1108b457d8b922c1ab023eca5",
       "version_major": 2,
       "version_minor": 0
      },
      "text/plain": [
       "HBox(children=(FloatProgress(value=0.0, max=640.0), HTML(value='')))"
      ]
     },
     "metadata": {},
     "output_type": "display_data"
    },
    {
     "name": "stdout",
     "output_type": "stream",
     "text": [
      "Epoch [30/50], Step [1/640], Training Loss: 69.44128191358, Validation Loss: 69.28124852871\n",
      "Epoch [30/50], Step [257/640], Training Loss: 69.41701301013, Validation Loss: 69.45808610461\n",
      "Epoch [30/50], Step [513/640], Training Loss: 69.61395717075, Validation Loss: 69.50648042195\n",
      "\n"
     ]
    },
    {
     "data": {
      "application/vnd.jupyter.widget-view+json": {
       "model_id": "241e64f42dce4311bedb02b6762be3f8",
       "version_major": 2,
       "version_minor": 0
      },
      "text/plain": [
       "HBox(children=(FloatProgress(value=0.0, max=640.0), HTML(value='')))"
      ]
     },
     "metadata": {},
     "output_type": "display_data"
    },
    {
     "name": "stdout",
     "output_type": "stream",
     "text": [
      "Epoch [31/50], Step [1/640], Training Loss: 69.62116369165, Validation Loss: 69.60579205710\n",
      "Epoch [31/50], Step [257/640], Training Loss: 69.45684167130, Validation Loss: 68.74187670487\n",
      "Epoch [31/50], Step [513/640], Training Loss: 69.45978077940, Validation Loss: 69.89434479597\n",
      "\n"
     ]
    },
    {
     "data": {
      "application/vnd.jupyter.widget-view+json": {
       "model_id": "ae5f8899bd534506bd9d23798ebbad69",
       "version_major": 2,
       "version_minor": 0
      },
      "text/plain": [
       "HBox(children=(FloatProgress(value=0.0, max=640.0), HTML(value='')))"
      ]
     },
     "metadata": {},
     "output_type": "display_data"
    },
    {
     "name": "stdout",
     "output_type": "stream",
     "text": [
      "Epoch [32/50], Step [1/640], Training Loss: 69.50421947635, Validation Loss: 68.80627223216\n",
      "Epoch [32/50], Step [257/640], Training Loss: 69.58136202705, Validation Loss: 69.73478711986\n",
      "Epoch [32/50], Step [513/640], Training Loss: 69.55323179731, Validation Loss: 69.33087291503\n",
      "\n"
     ]
    },
    {
     "data": {
      "application/vnd.jupyter.widget-view+json": {
       "model_id": "790d5e2c3e0d4522a57f873327cad83c",
       "version_major": 2,
       "version_minor": 0
      },
      "text/plain": [
       "HBox(children=(FloatProgress(value=0.0, max=640.0), HTML(value='')))"
      ]
     },
     "metadata": {},
     "output_type": "display_data"
    },
    {
     "name": "stdout",
     "output_type": "stream",
     "text": [
      "Epoch [33/50], Step [1/640], Training Loss: 69.53567394927, Validation Loss: 68.96836452091\n",
      "Epoch [33/50], Step [257/640], Training Loss: 69.52495656965, Validation Loss: 69.18606471622\n",
      "Epoch [33/50], Step [513/640], Training Loss: 69.59991495943, Validation Loss: 69.66852598413\n",
      "\n"
     ]
    },
    {
     "data": {
      "application/vnd.jupyter.widget-view+json": {
       "model_id": "ea319d5199a043c78231a11dc9e912bf",
       "version_major": 2,
       "version_minor": 0
      },
      "text/plain": [
       "HBox(children=(FloatProgress(value=0.0, max=640.0), HTML(value='')))"
      ]
     },
     "metadata": {},
     "output_type": "display_data"
    },
    {
     "name": "stdout",
     "output_type": "stream",
     "text": [
      "Epoch [34/50], Step [1/640], Training Loss: 69.44809230626, Validation Loss: 68.90796877952\n",
      "Epoch [34/50], Step [257/640], Training Loss: 69.29207072827, Validation Loss: 69.22626919561\n",
      "Epoch [34/50], Step [513/640], Training Loss: 69.55748561658, Validation Loss: 69.72512761700\n",
      "\n"
     ]
    },
    {
     "data": {
      "application/vnd.jupyter.widget-view+json": {
       "model_id": "7af17efdc47f47d4b0df43de5f5b981d",
       "version_major": 2,
       "version_minor": 0
      },
      "text/plain": [
       "HBox(children=(FloatProgress(value=0.0, max=640.0), HTML(value='')))"
      ]
     },
     "metadata": {},
     "output_type": "display_data"
    },
    {
     "name": "stdout",
     "output_type": "stream",
     "text": [
      "Epoch [35/50], Step [1/640], Training Loss: 69.55505276273, Validation Loss: 69.33274440638\n",
      "Epoch [35/50], Step [257/640], Training Loss: 69.53195295228, Validation Loss: 69.78520639721\n",
      "Epoch [35/50], Step [513/640], Training Loss: 69.49049533888, Validation Loss: 69.93901074437\n",
      "\n"
     ]
    },
    {
     "data": {
      "application/vnd.jupyter.widget-view+json": {
       "model_id": "d06caec97d4040a59dcdb4413ce5debb",
       "version_major": 2,
       "version_minor": 0
      },
      "text/plain": [
       "HBox(children=(FloatProgress(value=0.0, max=640.0), HTML(value='')))"
      ]
     },
     "metadata": {},
     "output_type": "display_data"
    },
    {
     "name": "stdout",
     "output_type": "stream",
     "text": [
      "Epoch [36/50], Step [1/640], Training Loss: 69.55933031486, Validation Loss: 69.48506750482\n",
      "Epoch [36/50], Step [257/640], Training Loss: 69.59406035026, Validation Loss: 69.71252902959\n",
      "Epoch [36/50], Step [513/640], Training Loss: 69.57151446322, Validation Loss: 69.64690338725\n",
      "\n"
     ]
    },
    {
     "data": {
      "application/vnd.jupyter.widget-view+json": {
       "model_id": "83dacacc27e04b97ba6098a46d15d121",
       "version_major": 2,
       "version_minor": 0
      },
      "text/plain": [
       "HBox(children=(FloatProgress(value=0.0, max=640.0), HTML(value='')))"
      ]
     },
     "metadata": {},
     "output_type": "display_data"
    },
    {
     "name": "stdout",
     "output_type": "stream",
     "text": [
      "Epoch [37/50], Step [1/640], Training Loss: 69.47615124545, Validation Loss: 69.20484343237\n",
      "Epoch [37/50], Step [257/640], Training Loss: 69.62306091277, Validation Loss: 70.07318495841\n",
      "Epoch [37/50], Step [513/640], Training Loss: 69.57370511347, Validation Loss: 69.41903282917\n",
      "\n"
     ]
    },
    {
     "data": {
      "application/vnd.jupyter.widget-view+json": {
       "model_id": "39255f1796b94e21a50c1d0191c5165f",
       "version_major": 2,
       "version_minor": 0
      },
      "text/plain": [
       "HBox(children=(FloatProgress(value=0.0, max=640.0), HTML(value='')))"
      ]
     },
     "metadata": {},
     "output_type": "display_data"
    },
    {
     "name": "stdout",
     "output_type": "stream",
     "text": [
      "Epoch [38/50], Step [1/640], Training Loss: 69.52352257792, Validation Loss: 69.64138766352\n",
      "Epoch [38/50], Step [257/640], Training Loss: 69.55958869469, Validation Loss: 69.58754630164\n",
      "Epoch [38/50], Step [513/640], Training Loss: 69.56790576229, Validation Loss: 69.72191428382\n",
      "\n"
     ]
    },
    {
     "data": {
      "application/vnd.jupyter.widget-view+json": {
       "model_id": "3f8943e6493d4238bc07c3e0860b675d",
       "version_major": 2,
       "version_minor": 0
      },
      "text/plain": [
       "HBox(children=(FloatProgress(value=0.0, max=640.0), HTML(value='')))"
      ]
     },
     "metadata": {},
     "output_type": "display_data"
    },
    {
     "name": "stdout",
     "output_type": "stream",
     "text": [
      "Epoch [39/50], Step [1/640], Training Loss: 69.52579316594, Validation Loss: 69.65182815375\n",
      "Epoch [39/50], Step [257/640], Training Loss: 69.45946818169, Validation Loss: 69.25812009679\n",
      "Epoch [39/50], Step [513/640], Training Loss: 69.56835955281, Validation Loss: 69.30577908751\n",
      "\n"
     ]
    },
    {
     "data": {
      "application/vnd.jupyter.widget-view+json": {
       "model_id": "fe1337b320da425288b430cc4ee72512",
       "version_major": 2,
       "version_minor": 0
      },
      "text/plain": [
       "HBox(children=(FloatProgress(value=0.0, max=640.0), HTML(value='')))"
      ]
     },
     "metadata": {},
     "output_type": "display_data"
    },
    {
     "name": "stdout",
     "output_type": "stream",
     "text": [
      "Epoch [40/50], Step [1/640], Training Loss: 69.43869483516, Validation Loss: 69.64474646990\n",
      "Epoch [40/50], Step [257/640], Training Loss: 69.53592117317, Validation Loss: 69.41132075018\n",
      "Epoch [40/50], Step [513/640], Training Loss: 69.54870406778, Validation Loss: 69.50123064033\n",
      "\n"
     ]
    },
    {
     "data": {
      "application/vnd.jupyter.widget-view+json": {
       "model_id": "9eb557104ff347f38e55f20a38970861",
       "version_major": 2,
       "version_minor": 0
      },
      "text/plain": [
       "HBox(children=(FloatProgress(value=0.0, max=640.0), HTML(value='')))"
      ]
     },
     "metadata": {},
     "output_type": "display_data"
    },
    {
     "name": "stdout",
     "output_type": "stream",
     "text": [
      "Epoch [41/50], Step [1/640], Training Loss: 69.55358314121, Validation Loss: 69.45801389609\n",
      "Epoch [41/50], Step [257/640], Training Loss: 69.45872764596, Validation Loss: 68.99685513148\n",
      "Epoch [41/50], Step [513/640], Training Loss: 69.58590429059, Validation Loss: 69.85246649376\n",
      "\n"
     ]
    },
    {
     "data": {
      "application/vnd.jupyter.widget-view+json": {
       "model_id": "2d4d895d7cd4495f87f8610030d6f282",
       "version_major": 2,
       "version_minor": 0
      },
      "text/plain": [
       "HBox(children=(FloatProgress(value=0.0, max=640.0), HTML(value='')))"
      ]
     },
     "metadata": {},
     "output_type": "display_data"
    },
    {
     "name": "stdout",
     "output_type": "stream",
     "text": [
      "Epoch [42/50], Step [1/640], Training Loss: 69.49368872614, Validation Loss: 69.35184639615\n",
      "Epoch [42/50], Step [257/640], Training Loss: 69.51424207914, Validation Loss: 69.56089723080\n",
      "Epoch [42/50], Step [513/640], Training Loss: 69.49181455787, Validation Loss: 69.83463189002\n",
      "\n"
     ]
    },
    {
     "data": {
      "application/vnd.jupyter.widget-view+json": {
       "model_id": "9197e29785e7451680bfa4b039fffe00",
       "version_major": 2,
       "version_minor": 0
      },
      "text/plain": [
       "HBox(children=(FloatProgress(value=0.0, max=640.0), HTML(value='')))"
      ]
     },
     "metadata": {},
     "output_type": "display_data"
    },
    {
     "name": "stdout",
     "output_type": "stream",
     "text": [
      "Epoch [43/50], Step [1/640], Training Loss: 69.59741624092, Validation Loss: 69.86263589560\n",
      "Epoch [43/50], Step [257/640], Training Loss: 69.56001213531, Validation Loss: 69.48748233788\n",
      "Epoch [43/50], Step [513/640], Training Loss: 69.49260669006, Validation Loss: 69.45792279134\n",
      "\n"
     ]
    },
    {
     "data": {
      "application/vnd.jupyter.widget-view+json": {
       "model_id": "b265f7e4a2b949efa92f858194832d76",
       "version_major": 2,
       "version_minor": 0
      },
      "text/plain": [
       "HBox(children=(FloatProgress(value=0.0, max=640.0), HTML(value='')))"
      ]
     },
     "metadata": {},
     "output_type": "display_data"
    },
    {
     "name": "stdout",
     "output_type": "stream",
     "text": [
      "Epoch [44/50], Step [1/640], Training Loss: 69.43258364251, Validation Loss: 69.68066939032\n",
      "Epoch [44/50], Step [257/640], Training Loss: 69.46543780824, Validation Loss: 69.35003116972\n",
      "Epoch [44/50], Step [513/640], Training Loss: 69.50435504644, Validation Loss: 69.68873683832\n",
      "\n"
     ]
    },
    {
     "data": {
      "application/vnd.jupyter.widget-view+json": {
       "model_id": "85112b8523614c1db95710aa869a2939",
       "version_major": 2,
       "version_minor": 0
      },
      "text/plain": [
       "HBox(children=(FloatProgress(value=0.0, max=640.0), HTML(value='')))"
      ]
     },
     "metadata": {},
     "output_type": "display_data"
    },
    {
     "name": "stdout",
     "output_type": "stream",
     "text": [
      "Epoch [45/50], Step [1/640], Training Loss: 69.44711333270, Validation Loss: 69.44103320611\n",
      "Epoch [45/50], Step [257/640], Training Loss: 69.64343683147, Validation Loss: 69.84244777146\n",
      "Epoch [45/50], Step [513/640], Training Loss: 69.39489691390, Validation Loss: 69.79518600949\n",
      "\n"
     ]
    },
    {
     "data": {
      "application/vnd.jupyter.widget-view+json": {
       "model_id": "904d047ece52428a98a9a5ccaf26e564",
       "version_major": 2,
       "version_minor": 0
      },
      "text/plain": [
       "HBox(children=(FloatProgress(value=0.0, max=640.0), HTML(value='')))"
      ]
     },
     "metadata": {},
     "output_type": "display_data"
    },
    {
     "name": "stdout",
     "output_type": "stream",
     "text": [
      "Epoch [46/50], Step [1/640], Training Loss: 69.53530015509, Validation Loss: 69.45666110583\n",
      "Epoch [46/50], Step [257/640], Training Loss: 69.54122022911, Validation Loss: 69.12312918617\n",
      "Epoch [46/50], Step [513/640], Training Loss: 69.50952713898, Validation Loss: 69.37549730583\n",
      "\n"
     ]
    },
    {
     "data": {
      "application/vnd.jupyter.widget-view+json": {
       "model_id": "41a5f427cb7f4e27ba710a7c358cfb3c",
       "version_major": 2,
       "version_minor": 0
      },
      "text/plain": [
       "HBox(children=(FloatProgress(value=0.0, max=640.0), HTML(value='')))"
      ]
     },
     "metadata": {},
     "output_type": "display_data"
    },
    {
     "name": "stdout",
     "output_type": "stream",
     "text": [
      "Epoch [47/50], Step [1/640], Training Loss: 69.49325309157, Validation Loss: 69.62472900672\n",
      "Epoch [47/50], Step [257/640], Training Loss: 69.54622796788, Validation Loss: 69.39699391969\n",
      "Epoch [47/50], Step [513/640], Training Loss: 69.59015459627, Validation Loss: 69.08610811529\n",
      "\n"
     ]
    },
    {
     "data": {
      "application/vnd.jupyter.widget-view+json": {
       "model_id": "48db5f46196c4417aeb7db3f3357f20a",
       "version_major": 2,
       "version_minor": 0
      },
      "text/plain": [
       "HBox(children=(FloatProgress(value=0.0, max=640.0), HTML(value='')))"
      ]
     },
     "metadata": {},
     "output_type": "display_data"
    },
    {
     "name": "stdout",
     "output_type": "stream",
     "text": [
      "Epoch [48/50], Step [1/640], Training Loss: 69.43353982749, Validation Loss: 69.27520315313\n",
      "Epoch [48/50], Step [257/640], Training Loss: 69.54179618158, Validation Loss: 69.49277096734\n",
      "Epoch [48/50], Step [513/640], Training Loss: 69.38226927704, Validation Loss: 69.15937895407\n",
      "\n"
     ]
    },
    {
     "data": {
      "application/vnd.jupyter.widget-view+json": {
       "model_id": "3cd997bb88424c26ab79b3b6ff199962",
       "version_major": 2,
       "version_minor": 0
      },
      "text/plain": [
       "HBox(children=(FloatProgress(value=0.0, max=640.0), HTML(value='')))"
      ]
     },
     "metadata": {},
     "output_type": "display_data"
    },
    {
     "name": "stdout",
     "output_type": "stream",
     "text": [
      "Epoch [49/50], Step [1/640], Training Loss: 69.48508726510, Validation Loss: 69.80963828798\n",
      "Epoch [49/50], Step [257/640], Training Loss: 69.47627858325, Validation Loss: 69.67113784586\n",
      "Epoch [49/50], Step [513/640], Training Loss: 69.57282020842, Validation Loss: 69.98086511046\n",
      "\n"
     ]
    },
    {
     "data": {
      "application/vnd.jupyter.widget-view+json": {
       "model_id": "bfa7daab4c2d4a3b855b01fedb2ab8a1",
       "version_major": 2,
       "version_minor": 0
      },
      "text/plain": [
       "HBox(children=(FloatProgress(value=0.0, max=640.0), HTML(value='')))"
      ]
     },
     "metadata": {},
     "output_type": "display_data"
    },
    {
     "name": "stdout",
     "output_type": "stream",
     "text": [
      "Epoch [50/50], Step [1/640], Training Loss: 69.54001518866, Validation Loss: 69.46346234111\n",
      "Epoch [50/50], Step [257/640], Training Loss: 69.49985548800, Validation Loss: 69.58778916016\n",
      "Epoch [50/50], Step [513/640], Training Loss: 69.56303228981, Validation Loss: 69.09593947980\n",
      "\n"
     ]
    }
   ],
   "source": [
    "# Loss and optimizer\n",
    "for epoch in range(num_epochs):    \n",
    "    torch.save(model.state_dict(), tag+\"epoch_{}.pt\".format(epoch))              \n",
    "    for i, item_trn in enumerate(tqdm.tqdm_notebook(trn_loader)):\n",
    "        \n",
    "        \n",
    "        model.train()\n",
    "        \n",
    "        x = item_trn['x'].to(device)\n",
    "        y_tru = item_trn['y'].to(device)\n",
    "\n",
    "        # Forward pass\n",
    "        y_prd = model(x)[0]\n",
    "        loss = criterion(y_tru, y_prd)\n",
    "\n",
    "        # Backward and optimize\n",
    "        optimizer.zero_grad()\n",
    "        loss.backward()\n",
    "        optimizer.step()\n",
    "        \n",
    "        trn_losses.append(np.sqrt(loss.item()))\n",
    "        \n",
    "        if (i) % 256 == 0:\n",
    "            for item_val in val_loader:\n",
    "                model.eval()\n",
    "                x1 = item_trn['x'].to(device)\n",
    "                y1 = item_trn['y'].to(device)\n",
    "                # Forward pass\n",
    "                y2 = model(x1)[0]\n",
    "                val_losses.append(np.sqrt(criterion(y2, y1).item()))\n",
    "                    \n",
    "            print ('Epoch [{}/{}], Step [{}/{}], Training Loss: {:.11f}, Validation Loss: {:.11f}'.format(epoch+1, \n",
    "                                                                                                          num_epochs, \n",
    "                                                                                                          i+1, \n",
    "                                                                                                          total_step, \n",
    "                                                                                                          np.mean(trn_losses[-16:]), \n",
    "                                                                                                          np.mean(val_losses[-total_val_step:])))\n",
    "            \n",
    "# torch.save(model.state_dict(), tag+\"epoch_{}.pt\".format(num_epochs)) "
   ]
  },
  {
   "cell_type": "code",
   "execution_count": 10,
   "metadata": {},
   "outputs": [
    {
     "ename": "NameError",
     "evalue": "name 'trn_losses' is not defined",
     "output_type": "error",
     "traceback": [
      "\u001b[0;31m---------------------------------------------------------------------------\u001b[0m",
      "\u001b[0;31mNameError\u001b[0m                                 Traceback (most recent call last)",
      "\u001b[0;32m<ipython-input-10-8c99cdb1f1d4>\u001b[0m in \u001b[0;36m<module>\u001b[0;34m\u001b[0m\n\u001b[0;32m----> 1\u001b[0;31m \u001b[0mplt\u001b[0m\u001b[0;34m.\u001b[0m\u001b[0mplot\u001b[0m\u001b[0;34m(\u001b[0m\u001b[0mtrn_losses\u001b[0m\u001b[0;34m)\u001b[0m\u001b[0;34m\u001b[0m\u001b[0;34m\u001b[0m\u001b[0m\n\u001b[0m\u001b[1;32m      2\u001b[0m \u001b[0mplt\u001b[0m\u001b[0;34m.\u001b[0m\u001b[0mplot\u001b[0m\u001b[0;34m(\u001b[0m\u001b[0mval_losses\u001b[0m\u001b[0;34m)\u001b[0m\u001b[0;34m\u001b[0m\u001b[0;34m\u001b[0m\u001b[0m\n\u001b[1;32m      3\u001b[0m \u001b[0mplt\u001b[0m\u001b[0;34m.\u001b[0m\u001b[0mtitle\u001b[0m\u001b[0;34m(\u001b[0m\u001b[0;34m\"training losses\"\u001b[0m\u001b[0;34m)\u001b[0m\u001b[0;34m\u001b[0m\u001b[0;34m\u001b[0m\u001b[0m\n\u001b[1;32m      4\u001b[0m \u001b[0mplt\u001b[0m\u001b[0;34m.\u001b[0m\u001b[0mxlabel\u001b[0m\u001b[0;34m(\u001b[0m\u001b[0;34m\"training steps\"\u001b[0m\u001b[0;34m)\u001b[0m\u001b[0;34m\u001b[0m\u001b[0;34m\u001b[0m\u001b[0m\n\u001b[1;32m      5\u001b[0m \u001b[0mplt\u001b[0m\u001b[0;34m.\u001b[0m\u001b[0mylabel\u001b[0m\u001b[0;34m(\u001b[0m\u001b[0;34m\"mean squared error\"\u001b[0m\u001b[0;34m)\u001b[0m\u001b[0;34m\u001b[0m\u001b[0;34m\u001b[0m\u001b[0m\n",
      "\u001b[0;31mNameError\u001b[0m: name 'trn_losses' is not defined"
     ]
    }
   ],
   "source": [
    "plt.plot(trn_losses)\n",
    "plt.plot(val_losses)\n",
    "plt.title(\"training losses\")\n",
    "plt.xlabel(\"training steps\")\n",
    "plt.ylabel(\"mean squared error\")\n",
    "plt.legend([\"trn\", \"val\"])\n",
    "plt.show()"
   ]
  },
  {
   "cell_type": "code",
   "execution_count": 72,
   "metadata": {},
   "outputs": [
    {
     "data": {
      "image/png": "[encoded data removed]",
      "text/plain": [
       "<Figure size 640x480 with 2 Axes>"
      ]
     },
     "metadata": {
      "needs_background": "light"
     },
     "output_type": "display_data"
    },
    {
     "data": {
      "image/png": "[encoded data removed]",
      "text/plain": [
       "<Figure size 640x480 with 2 Axes>"
      ]
     },
     "metadata": {
      "needs_background": "light"
     },
     "output_type": "display_data"
    },
    {
     "data": {
      "image/png": "[encoded data removed]",
      "text/plain": [
       "<Figure size 640x480 with 2 Axes>"
      ]
     },
     "metadata": {
      "needs_background": "light"
     },
     "output_type": "display_data"
    }
   ],
   "source": [
    "ix = 12\n",
    "\n",
    "item_prd = prd_dataset[ix]\n",
    "x1 = item_prd['x'][None].to(device)\n",
    "y1 = item_prd['y'][None].to(device)\n",
    "y2 = model(y1)\n",
    "\n",
    "im_x1 = x1[0].detach().cpu().numpy()\n",
    "im_y1 = y1[0].detach().cpu().numpy()\n",
    "im_y2 = y2[0].detach().cpu().numpy()\n",
    "\n",
    "draw_im(im_x1, \"inp\")\n",
    "draw_im(im_y1, \"sim output\")\n",
    "draw_im(im_y2, \"cnn output\")"
   ]
  },
  {
   "cell_type": "code",
   "execution_count": 74,
   "metadata": {},
   "outputs": [
    {
     "data": {
      "image/png": "[encoded data removed]",
      "text/plain": [
       "<Figure size 640x480 with 2 Axes>"
      ]
     },
     "metadata": {
      "needs_background": "light"
     },
     "output_type": "display_data"
    },
    {
     "data": {
      "image/png": "[encoded data removed]",
      "text/plain": [
       "<Figure size 640x480 with 2 Axes>"
      ]
     },
     "metadata": {
      "needs_background": "light"
     },
     "output_type": "display_data"
    },
    {
     "data": {
      "image/png": "[encoded data removed]",
      "text/plain": [
       "<Figure size 640x480 with 2 Axes>"
      ]
     },
     "metadata": {
      "needs_background": "light"
     },
     "output_type": "display_data"
    }
   ],
   "source": [
    "ix = 30\n",
    "\n",
    "item_prd = prd_dataset[ix]\n",
    "x1 = item_prd['x'][None].to(device)\n",
    "y1 = item_prd['y'][None].to(device)\n",
    "y2 = model(y1)\n",
    "\n",
    "im_x1 = x1[0].detach().cpu().numpy()\n",
    "im_y1 = y1[0].detach().cpu().numpy()\n",
    "im_y2 = y2[0].detach().cpu().numpy()\n",
    "\n",
    "draw_im(im_x1, \"inp\")\n",
    "draw_im(im_y1, \"sim output\")\n",
    "draw_im(im_y2, \"cnn output\")"
   ]
  }
 ],
 "metadata": {
  "kernelspec": {
   "display_name": "Python 3",
   "language": "python",
   "name": "python3"
  },
  "language_info": {
   "codemirror_mode": {
    "name": "ipython",
    "version": 3
   },
   "file_extension": ".py",
   "mimetype": "text/x-python",
   "name": "python",
   "nbconvert_exporter": "python",
   "pygments_lexer": "ipython3",
   "version": "3.7.4"
  }
 },
 "nbformat": 4,
 "nbformat_minor": 2
}
